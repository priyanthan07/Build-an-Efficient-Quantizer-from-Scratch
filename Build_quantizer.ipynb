{
  "nbformat": 4,
  "nbformat_minor": 0,
  "metadata": {
    "colab": {
      "provenance": [],
      "gpuType": "T4",
      "collapsed_sections": [
        "JZ9kFNa2wpi_"
      ]
    },
    "kernelspec": {
      "name": "python3",
      "display_name": "Python 3"
    },
    "language_info": {
      "name": "python"
    },
    "accelerator": "GPU",
    "widgets": {
      "application/vnd.jupyter.widget-state+json": {
        "722c0936150140e2aacfdcfeae273c36": {
          "model_module": "@jupyter-widgets/controls",
          "model_name": "HBoxModel",
          "model_module_version": "1.5.0",
          "state": {
            "_dom_classes": [],
            "_model_module": "@jupyter-widgets/controls",
            "_model_module_version": "1.5.0",
            "_model_name": "HBoxModel",
            "_view_count": null,
            "_view_module": "@jupyter-widgets/controls",
            "_view_module_version": "1.5.0",
            "_view_name": "HBoxView",
            "box_style": "",
            "children": [
              "IPY_MODEL_399d63051f534420829be6dc5c91ba30",
              "IPY_MODEL_61649b1b644c4673ba0f2824c9e401b0",
              "IPY_MODEL_2826436e45694c4f81fa4ede2739bc82"
            ],
            "layout": "IPY_MODEL_a24207738f6c4ac0a71e637fa6be2b43"
          }
        },
        "399d63051f534420829be6dc5c91ba30": {
          "model_module": "@jupyter-widgets/controls",
          "model_name": "HTMLModel",
          "model_module_version": "1.5.0",
          "state": {
            "_dom_classes": [],
            "_model_module": "@jupyter-widgets/controls",
            "_model_module_version": "1.5.0",
            "_model_name": "HTMLModel",
            "_view_count": null,
            "_view_module": "@jupyter-widgets/controls",
            "_view_module_version": "1.5.0",
            "_view_name": "HTMLView",
            "description": "",
            "description_tooltip": null,
            "layout": "IPY_MODEL_edeafa1aa46e448c9fa8795f135db1c9",
            "placeholder": "​",
            "style": "IPY_MODEL_9dcc96f0e49e48b49689bcffa40d51b0",
            "value": "config.json: 100%"
          }
        },
        "61649b1b644c4673ba0f2824c9e401b0": {
          "model_module": "@jupyter-widgets/controls",
          "model_name": "FloatProgressModel",
          "model_module_version": "1.5.0",
          "state": {
            "_dom_classes": [],
            "_model_module": "@jupyter-widgets/controls",
            "_model_module_version": "1.5.0",
            "_model_name": "FloatProgressModel",
            "_view_count": null,
            "_view_module": "@jupyter-widgets/controls",
            "_view_module_version": "1.5.0",
            "_view_name": "ProgressView",
            "bar_style": "success",
            "description": "",
            "description_tooltip": null,
            "layout": "IPY_MODEL_95e5b3ad037240cd85d6a7050d0da419",
            "max": 999,
            "min": 0,
            "orientation": "horizontal",
            "style": "IPY_MODEL_81128fac75f24e96bc9b63fc3fb88486",
            "value": 999
          }
        },
        "2826436e45694c4f81fa4ede2739bc82": {
          "model_module": "@jupyter-widgets/controls",
          "model_name": "HTMLModel",
          "model_module_version": "1.5.0",
          "state": {
            "_dom_classes": [],
            "_model_module": "@jupyter-widgets/controls",
            "_model_module_version": "1.5.0",
            "_model_name": "HTMLModel",
            "_view_count": null,
            "_view_module": "@jupyter-widgets/controls",
            "_view_module_version": "1.5.0",
            "_view_name": "HTMLView",
            "description": "",
            "description_tooltip": null,
            "layout": "IPY_MODEL_2b1cae518c6d480fbc63815ce215d201",
            "placeholder": "​",
            "style": "IPY_MODEL_3cb81aada9f2488bbcdf32d918fbfa04",
            "value": " 999/999 [00:00&lt;00:00, 33.8kB/s]"
          }
        },
        "a24207738f6c4ac0a71e637fa6be2b43": {
          "model_module": "@jupyter-widgets/base",
          "model_name": "LayoutModel",
          "model_module_version": "1.2.0",
          "state": {
            "_model_module": "@jupyter-widgets/base",
            "_model_module_version": "1.2.0",
            "_model_name": "LayoutModel",
            "_view_count": null,
            "_view_module": "@jupyter-widgets/base",
            "_view_module_version": "1.2.0",
            "_view_name": "LayoutView",
            "align_content": null,
            "align_items": null,
            "align_self": null,
            "border": null,
            "bottom": null,
            "display": null,
            "flex": null,
            "flex_flow": null,
            "grid_area": null,
            "grid_auto_columns": null,
            "grid_auto_flow": null,
            "grid_auto_rows": null,
            "grid_column": null,
            "grid_gap": null,
            "grid_row": null,
            "grid_template_areas": null,
            "grid_template_columns": null,
            "grid_template_rows": null,
            "height": null,
            "justify_content": null,
            "justify_items": null,
            "left": null,
            "margin": null,
            "max_height": null,
            "max_width": null,
            "min_height": null,
            "min_width": null,
            "object_fit": null,
            "object_position": null,
            "order": null,
            "overflow": null,
            "overflow_x": null,
            "overflow_y": null,
            "padding": null,
            "right": null,
            "top": null,
            "visibility": null,
            "width": null
          }
        },
        "edeafa1aa46e448c9fa8795f135db1c9": {
          "model_module": "@jupyter-widgets/base",
          "model_name": "LayoutModel",
          "model_module_version": "1.2.0",
          "state": {
            "_model_module": "@jupyter-widgets/base",
            "_model_module_version": "1.2.0",
            "_model_name": "LayoutModel",
            "_view_count": null,
            "_view_module": "@jupyter-widgets/base",
            "_view_module_version": "1.2.0",
            "_view_name": "LayoutView",
            "align_content": null,
            "align_items": null,
            "align_self": null,
            "border": null,
            "bottom": null,
            "display": null,
            "flex": null,
            "flex_flow": null,
            "grid_area": null,
            "grid_auto_columns": null,
            "grid_auto_flow": null,
            "grid_auto_rows": null,
            "grid_column": null,
            "grid_gap": null,
            "grid_row": null,
            "grid_template_areas": null,
            "grid_template_columns": null,
            "grid_template_rows": null,
            "height": null,
            "justify_content": null,
            "justify_items": null,
            "left": null,
            "margin": null,
            "max_height": null,
            "max_width": null,
            "min_height": null,
            "min_width": null,
            "object_fit": null,
            "object_position": null,
            "order": null,
            "overflow": null,
            "overflow_x": null,
            "overflow_y": null,
            "padding": null,
            "right": null,
            "top": null,
            "visibility": null,
            "width": null
          }
        },
        "9dcc96f0e49e48b49689bcffa40d51b0": {
          "model_module": "@jupyter-widgets/controls",
          "model_name": "DescriptionStyleModel",
          "model_module_version": "1.5.0",
          "state": {
            "_model_module": "@jupyter-widgets/controls",
            "_model_module_version": "1.5.0",
            "_model_name": "DescriptionStyleModel",
            "_view_count": null,
            "_view_module": "@jupyter-widgets/base",
            "_view_module_version": "1.2.0",
            "_view_name": "StyleView",
            "description_width": ""
          }
        },
        "95e5b3ad037240cd85d6a7050d0da419": {
          "model_module": "@jupyter-widgets/base",
          "model_name": "LayoutModel",
          "model_module_version": "1.2.0",
          "state": {
            "_model_module": "@jupyter-widgets/base",
            "_model_module_version": "1.2.0",
            "_model_name": "LayoutModel",
            "_view_count": null,
            "_view_module": "@jupyter-widgets/base",
            "_view_module_version": "1.2.0",
            "_view_name": "LayoutView",
            "align_content": null,
            "align_items": null,
            "align_self": null,
            "border": null,
            "bottom": null,
            "display": null,
            "flex": null,
            "flex_flow": null,
            "grid_area": null,
            "grid_auto_columns": null,
            "grid_auto_flow": null,
            "grid_auto_rows": null,
            "grid_column": null,
            "grid_gap": null,
            "grid_row": null,
            "grid_template_areas": null,
            "grid_template_columns": null,
            "grid_template_rows": null,
            "height": null,
            "justify_content": null,
            "justify_items": null,
            "left": null,
            "margin": null,
            "max_height": null,
            "max_width": null,
            "min_height": null,
            "min_width": null,
            "object_fit": null,
            "object_position": null,
            "order": null,
            "overflow": null,
            "overflow_x": null,
            "overflow_y": null,
            "padding": null,
            "right": null,
            "top": null,
            "visibility": null,
            "width": null
          }
        },
        "81128fac75f24e96bc9b63fc3fb88486": {
          "model_module": "@jupyter-widgets/controls",
          "model_name": "ProgressStyleModel",
          "model_module_version": "1.5.0",
          "state": {
            "_model_module": "@jupyter-widgets/controls",
            "_model_module_version": "1.5.0",
            "_model_name": "ProgressStyleModel",
            "_view_count": null,
            "_view_module": "@jupyter-widgets/base",
            "_view_module_version": "1.2.0",
            "_view_name": "StyleView",
            "bar_color": null,
            "description_width": ""
          }
        },
        "2b1cae518c6d480fbc63815ce215d201": {
          "model_module": "@jupyter-widgets/base",
          "model_name": "LayoutModel",
          "model_module_version": "1.2.0",
          "state": {
            "_model_module": "@jupyter-widgets/base",
            "_model_module_version": "1.2.0",
            "_model_name": "LayoutModel",
            "_view_count": null,
            "_view_module": "@jupyter-widgets/base",
            "_view_module_version": "1.2.0",
            "_view_name": "LayoutView",
            "align_content": null,
            "align_items": null,
            "align_self": null,
            "border": null,
            "bottom": null,
            "display": null,
            "flex": null,
            "flex_flow": null,
            "grid_area": null,
            "grid_auto_columns": null,
            "grid_auto_flow": null,
            "grid_auto_rows": null,
            "grid_column": null,
            "grid_gap": null,
            "grid_row": null,
            "grid_template_areas": null,
            "grid_template_columns": null,
            "grid_template_rows": null,
            "height": null,
            "justify_content": null,
            "justify_items": null,
            "left": null,
            "margin": null,
            "max_height": null,
            "max_width": null,
            "min_height": null,
            "min_width": null,
            "object_fit": null,
            "object_position": null,
            "order": null,
            "overflow": null,
            "overflow_x": null,
            "overflow_y": null,
            "padding": null,
            "right": null,
            "top": null,
            "visibility": null,
            "width": null
          }
        },
        "3cb81aada9f2488bbcdf32d918fbfa04": {
          "model_module": "@jupyter-widgets/controls",
          "model_name": "DescriptionStyleModel",
          "model_module_version": "1.5.0",
          "state": {
            "_model_module": "@jupyter-widgets/controls",
            "_model_module_version": "1.5.0",
            "_model_name": "DescriptionStyleModel",
            "_view_count": null,
            "_view_module": "@jupyter-widgets/base",
            "_view_module_version": "1.2.0",
            "_view_name": "StyleView",
            "description_width": ""
          }
        },
        "515edbf9eb8540b99aca985909b69fe8": {
          "model_module": "@jupyter-widgets/controls",
          "model_name": "HBoxModel",
          "model_module_version": "1.5.0",
          "state": {
            "_dom_classes": [],
            "_model_module": "@jupyter-widgets/controls",
            "_model_module_version": "1.5.0",
            "_model_name": "HBoxModel",
            "_view_count": null,
            "_view_module": "@jupyter-widgets/controls",
            "_view_module_version": "1.5.0",
            "_view_name": "HBoxView",
            "box_style": "",
            "children": [
              "IPY_MODEL_a36166002ce947e49e6c59e79abf7da0",
              "IPY_MODEL_e3e1fb4db4b1499197dc639a9f48e54e",
              "IPY_MODEL_075c6163425646739d20b209ba9dd9ac"
            ],
            "layout": "IPY_MODEL_261c45009e574aafa07015e7e26883ca"
          }
        },
        "a36166002ce947e49e6c59e79abf7da0": {
          "model_module": "@jupyter-widgets/controls",
          "model_name": "HTMLModel",
          "model_module_version": "1.5.0",
          "state": {
            "_dom_classes": [],
            "_model_module": "@jupyter-widgets/controls",
            "_model_module_version": "1.5.0",
            "_model_name": "HTMLModel",
            "_view_count": null,
            "_view_module": "@jupyter-widgets/controls",
            "_view_module_version": "1.5.0",
            "_view_name": "HTMLView",
            "description": "",
            "description_tooltip": null,
            "layout": "IPY_MODEL_5187cf5146a44d0fac95140f57a6b3ec",
            "placeholder": "​",
            "style": "IPY_MODEL_77e4acb1637e480e827b97f422cc624e",
            "value": "pytorch_model.bin: 100%"
          }
        },
        "e3e1fb4db4b1499197dc639a9f48e54e": {
          "model_module": "@jupyter-widgets/controls",
          "model_name": "FloatProgressModel",
          "model_module_version": "1.5.0",
          "state": {
            "_dom_classes": [],
            "_model_module": "@jupyter-widgets/controls",
            "_model_module_version": "1.5.0",
            "_model_name": "FloatProgressModel",
            "_view_count": null,
            "_view_module": "@jupyter-widgets/controls",
            "_view_module_version": "1.5.0",
            "_view_name": "ProgressView",
            "bar_style": "success",
            "description": "",
            "description_tooltip": null,
            "layout": "IPY_MODEL_774d5d4459d84071b3694c8741a55a9a",
            "max": 797367631,
            "min": 0,
            "orientation": "horizontal",
            "style": "IPY_MODEL_8de607c1a194469488068590339a9327",
            "value": 797367631
          }
        },
        "075c6163425646739d20b209ba9dd9ac": {
          "model_module": "@jupyter-widgets/controls",
          "model_name": "HTMLModel",
          "model_module_version": "1.5.0",
          "state": {
            "_dom_classes": [],
            "_model_module": "@jupyter-widgets/controls",
            "_model_module_version": "1.5.0",
            "_model_name": "HTMLModel",
            "_view_count": null,
            "_view_module": "@jupyter-widgets/controls",
            "_view_module_version": "1.5.0",
            "_view_name": "HTMLView",
            "description": "",
            "description_tooltip": null,
            "layout": "IPY_MODEL_52ab149307d84411a27d18c4dc2f5b76",
            "placeholder": "​",
            "style": "IPY_MODEL_5bdcb1dbf68b4a63afad4ea5a181c831",
            "value": " 797M/797M [00:13&lt;00:00, 70.3MB/s]"
          }
        },
        "261c45009e574aafa07015e7e26883ca": {
          "model_module": "@jupyter-widgets/base",
          "model_name": "LayoutModel",
          "model_module_version": "1.2.0",
          "state": {
            "_model_module": "@jupyter-widgets/base",
            "_model_module_version": "1.2.0",
            "_model_name": "LayoutModel",
            "_view_count": null,
            "_view_module": "@jupyter-widgets/base",
            "_view_module_version": "1.2.0",
            "_view_name": "LayoutView",
            "align_content": null,
            "align_items": null,
            "align_self": null,
            "border": null,
            "bottom": null,
            "display": null,
            "flex": null,
            "flex_flow": null,
            "grid_area": null,
            "grid_auto_columns": null,
            "grid_auto_flow": null,
            "grid_auto_rows": null,
            "grid_column": null,
            "grid_gap": null,
            "grid_row": null,
            "grid_template_areas": null,
            "grid_template_columns": null,
            "grid_template_rows": null,
            "height": null,
            "justify_content": null,
            "justify_items": null,
            "left": null,
            "margin": null,
            "max_height": null,
            "max_width": null,
            "min_height": null,
            "min_width": null,
            "object_fit": null,
            "object_position": null,
            "order": null,
            "overflow": null,
            "overflow_x": null,
            "overflow_y": null,
            "padding": null,
            "right": null,
            "top": null,
            "visibility": null,
            "width": null
          }
        },
        "5187cf5146a44d0fac95140f57a6b3ec": {
          "model_module": "@jupyter-widgets/base",
          "model_name": "LayoutModel",
          "model_module_version": "1.2.0",
          "state": {
            "_model_module": "@jupyter-widgets/base",
            "_model_module_version": "1.2.0",
            "_model_name": "LayoutModel",
            "_view_count": null,
            "_view_module": "@jupyter-widgets/base",
            "_view_module_version": "1.2.0",
            "_view_name": "LayoutView",
            "align_content": null,
            "align_items": null,
            "align_self": null,
            "border": null,
            "bottom": null,
            "display": null,
            "flex": null,
            "flex_flow": null,
            "grid_area": null,
            "grid_auto_columns": null,
            "grid_auto_flow": null,
            "grid_auto_rows": null,
            "grid_column": null,
            "grid_gap": null,
            "grid_row": null,
            "grid_template_areas": null,
            "grid_template_columns": null,
            "grid_template_rows": null,
            "height": null,
            "justify_content": null,
            "justify_items": null,
            "left": null,
            "margin": null,
            "max_height": null,
            "max_width": null,
            "min_height": null,
            "min_width": null,
            "object_fit": null,
            "object_position": null,
            "order": null,
            "overflow": null,
            "overflow_x": null,
            "overflow_y": null,
            "padding": null,
            "right": null,
            "top": null,
            "visibility": null,
            "width": null
          }
        },
        "77e4acb1637e480e827b97f422cc624e": {
          "model_module": "@jupyter-widgets/controls",
          "model_name": "DescriptionStyleModel",
          "model_module_version": "1.5.0",
          "state": {
            "_model_module": "@jupyter-widgets/controls",
            "_model_module_version": "1.5.0",
            "_model_name": "DescriptionStyleModel",
            "_view_count": null,
            "_view_module": "@jupyter-widgets/base",
            "_view_module_version": "1.2.0",
            "_view_name": "StyleView",
            "description_width": ""
          }
        },
        "774d5d4459d84071b3694c8741a55a9a": {
          "model_module": "@jupyter-widgets/base",
          "model_name": "LayoutModel",
          "model_module_version": "1.2.0",
          "state": {
            "_model_module": "@jupyter-widgets/base",
            "_model_module_version": "1.2.0",
            "_model_name": "LayoutModel",
            "_view_count": null,
            "_view_module": "@jupyter-widgets/base",
            "_view_module_version": "1.2.0",
            "_view_name": "LayoutView",
            "align_content": null,
            "align_items": null,
            "align_self": null,
            "border": null,
            "bottom": null,
            "display": null,
            "flex": null,
            "flex_flow": null,
            "grid_area": null,
            "grid_auto_columns": null,
            "grid_auto_flow": null,
            "grid_auto_rows": null,
            "grid_column": null,
            "grid_gap": null,
            "grid_row": null,
            "grid_template_areas": null,
            "grid_template_columns": null,
            "grid_template_rows": null,
            "height": null,
            "justify_content": null,
            "justify_items": null,
            "left": null,
            "margin": null,
            "max_height": null,
            "max_width": null,
            "min_height": null,
            "min_width": null,
            "object_fit": null,
            "object_position": null,
            "order": null,
            "overflow": null,
            "overflow_x": null,
            "overflow_y": null,
            "padding": null,
            "right": null,
            "top": null,
            "visibility": null,
            "width": null
          }
        },
        "8de607c1a194469488068590339a9327": {
          "model_module": "@jupyter-widgets/controls",
          "model_name": "ProgressStyleModel",
          "model_module_version": "1.5.0",
          "state": {
            "_model_module": "@jupyter-widgets/controls",
            "_model_module_version": "1.5.0",
            "_model_name": "ProgressStyleModel",
            "_view_count": null,
            "_view_module": "@jupyter-widgets/base",
            "_view_module_version": "1.2.0",
            "_view_name": "StyleView",
            "bar_color": null,
            "description_width": ""
          }
        },
        "52ab149307d84411a27d18c4dc2f5b76": {
          "model_module": "@jupyter-widgets/base",
          "model_name": "LayoutModel",
          "model_module_version": "1.2.0",
          "state": {
            "_model_module": "@jupyter-widgets/base",
            "_model_module_version": "1.2.0",
            "_model_name": "LayoutModel",
            "_view_count": null,
            "_view_module": "@jupyter-widgets/base",
            "_view_module_version": "1.2.0",
            "_view_name": "LayoutView",
            "align_content": null,
            "align_items": null,
            "align_self": null,
            "border": null,
            "bottom": null,
            "display": null,
            "flex": null,
            "flex_flow": null,
            "grid_area": null,
            "grid_auto_columns": null,
            "grid_auto_flow": null,
            "grid_auto_rows": null,
            "grid_column": null,
            "grid_gap": null,
            "grid_row": null,
            "grid_template_areas": null,
            "grid_template_columns": null,
            "grid_template_rows": null,
            "height": null,
            "justify_content": null,
            "justify_items": null,
            "left": null,
            "margin": null,
            "max_height": null,
            "max_width": null,
            "min_height": null,
            "min_width": null,
            "object_fit": null,
            "object_position": null,
            "order": null,
            "overflow": null,
            "overflow_x": null,
            "overflow_y": null,
            "padding": null,
            "right": null,
            "top": null,
            "visibility": null,
            "width": null
          }
        },
        "5bdcb1dbf68b4a63afad4ea5a181c831": {
          "model_module": "@jupyter-widgets/controls",
          "model_name": "DescriptionStyleModel",
          "model_module_version": "1.5.0",
          "state": {
            "_model_module": "@jupyter-widgets/controls",
            "_model_module_version": "1.5.0",
            "_model_name": "DescriptionStyleModel",
            "_view_count": null,
            "_view_module": "@jupyter-widgets/base",
            "_view_module_version": "1.2.0",
            "_view_name": "StyleView",
            "description_width": ""
          }
        },
        "e573deb4d8894b7fa19b136b07230325": {
          "model_module": "@jupyter-widgets/controls",
          "model_name": "HBoxModel",
          "model_module_version": "1.5.0",
          "state": {
            "_dom_classes": [],
            "_model_module": "@jupyter-widgets/controls",
            "_model_module_version": "1.5.0",
            "_model_name": "HBoxModel",
            "_view_count": null,
            "_view_module": "@jupyter-widgets/controls",
            "_view_module_version": "1.5.0",
            "_view_name": "HBoxView",
            "box_style": "",
            "children": [
              "IPY_MODEL_146f9d86618a4c15989861872afe174a",
              "IPY_MODEL_cf1d30b765c04301bcf8b4ea17e0d573",
              "IPY_MODEL_944baa63fff04f358ba76c5610f9c8b8"
            ],
            "layout": "IPY_MODEL_7c80261f20304d98b850102122621eeb"
          }
        },
        "146f9d86618a4c15989861872afe174a": {
          "model_module": "@jupyter-widgets/controls",
          "model_name": "HTMLModel",
          "model_module_version": "1.5.0",
          "state": {
            "_dom_classes": [],
            "_model_module": "@jupyter-widgets/controls",
            "_model_module_version": "1.5.0",
            "_model_name": "HTMLModel",
            "_view_count": null,
            "_view_module": "@jupyter-widgets/controls",
            "_view_module_version": "1.5.0",
            "_view_name": "HTMLView",
            "description": "",
            "description_tooltip": null,
            "layout": "IPY_MODEL_015c8401c64d41cfb2b0a958217ec58a",
            "placeholder": "​",
            "style": "IPY_MODEL_08267f806c324bfe94304338c246c7ee",
            "value": "tokenizer_config.json: 100%"
          }
        },
        "cf1d30b765c04301bcf8b4ea17e0d573": {
          "model_module": "@jupyter-widgets/controls",
          "model_name": "FloatProgressModel",
          "model_module_version": "1.5.0",
          "state": {
            "_dom_classes": [],
            "_model_module": "@jupyter-widgets/controls",
            "_model_module_version": "1.5.0",
            "_model_name": "FloatProgressModel",
            "_view_count": null,
            "_view_module": "@jupyter-widgets/controls",
            "_view_module_version": "1.5.0",
            "_view_name": "ProgressView",
            "bar_style": "success",
            "description": "",
            "description_tooltip": null,
            "layout": "IPY_MODEL_b7db618dd0da42f7a24aa7bd1ca92322",
            "max": 240,
            "min": 0,
            "orientation": "horizontal",
            "style": "IPY_MODEL_7dd028f0419d4e4c8b289d2c702af0c0",
            "value": 240
          }
        },
        "944baa63fff04f358ba76c5610f9c8b8": {
          "model_module": "@jupyter-widgets/controls",
          "model_name": "HTMLModel",
          "model_module_version": "1.5.0",
          "state": {
            "_dom_classes": [],
            "_model_module": "@jupyter-widgets/controls",
            "_model_module_version": "1.5.0",
            "_model_name": "HTMLModel",
            "_view_count": null,
            "_view_module": "@jupyter-widgets/controls",
            "_view_module_version": "1.5.0",
            "_view_name": "HTMLView",
            "description": "",
            "description_tooltip": null,
            "layout": "IPY_MODEL_7da26209aeca4efa92a03647fa42ab6e",
            "placeholder": "​",
            "style": "IPY_MODEL_14083bd5d6644c03aa516ee0485b4442",
            "value": " 240/240 [00:00&lt;00:00, 10.1kB/s]"
          }
        },
        "7c80261f20304d98b850102122621eeb": {
          "model_module": "@jupyter-widgets/base",
          "model_name": "LayoutModel",
          "model_module_version": "1.2.0",
          "state": {
            "_model_module": "@jupyter-widgets/base",
            "_model_module_version": "1.2.0",
            "_model_name": "LayoutModel",
            "_view_count": null,
            "_view_module": "@jupyter-widgets/base",
            "_view_module_version": "1.2.0",
            "_view_name": "LayoutView",
            "align_content": null,
            "align_items": null,
            "align_self": null,
            "border": null,
            "bottom": null,
            "display": null,
            "flex": null,
            "flex_flow": null,
            "grid_area": null,
            "grid_auto_columns": null,
            "grid_auto_flow": null,
            "grid_auto_rows": null,
            "grid_column": null,
            "grid_gap": null,
            "grid_row": null,
            "grid_template_areas": null,
            "grid_template_columns": null,
            "grid_template_rows": null,
            "height": null,
            "justify_content": null,
            "justify_items": null,
            "left": null,
            "margin": null,
            "max_height": null,
            "max_width": null,
            "min_height": null,
            "min_width": null,
            "object_fit": null,
            "object_position": null,
            "order": null,
            "overflow": null,
            "overflow_x": null,
            "overflow_y": null,
            "padding": null,
            "right": null,
            "top": null,
            "visibility": null,
            "width": null
          }
        },
        "015c8401c64d41cfb2b0a958217ec58a": {
          "model_module": "@jupyter-widgets/base",
          "model_name": "LayoutModel",
          "model_module_version": "1.2.0",
          "state": {
            "_model_module": "@jupyter-widgets/base",
            "_model_module_version": "1.2.0",
            "_model_name": "LayoutModel",
            "_view_count": null,
            "_view_module": "@jupyter-widgets/base",
            "_view_module_version": "1.2.0",
            "_view_name": "LayoutView",
            "align_content": null,
            "align_items": null,
            "align_self": null,
            "border": null,
            "bottom": null,
            "display": null,
            "flex": null,
            "flex_flow": null,
            "grid_area": null,
            "grid_auto_columns": null,
            "grid_auto_flow": null,
            "grid_auto_rows": null,
            "grid_column": null,
            "grid_gap": null,
            "grid_row": null,
            "grid_template_areas": null,
            "grid_template_columns": null,
            "grid_template_rows": null,
            "height": null,
            "justify_content": null,
            "justify_items": null,
            "left": null,
            "margin": null,
            "max_height": null,
            "max_width": null,
            "min_height": null,
            "min_width": null,
            "object_fit": null,
            "object_position": null,
            "order": null,
            "overflow": null,
            "overflow_x": null,
            "overflow_y": null,
            "padding": null,
            "right": null,
            "top": null,
            "visibility": null,
            "width": null
          }
        },
        "08267f806c324bfe94304338c246c7ee": {
          "model_module": "@jupyter-widgets/controls",
          "model_name": "DescriptionStyleModel",
          "model_module_version": "1.5.0",
          "state": {
            "_model_module": "@jupyter-widgets/controls",
            "_model_module_version": "1.5.0",
            "_model_name": "DescriptionStyleModel",
            "_view_count": null,
            "_view_module": "@jupyter-widgets/base",
            "_view_module_version": "1.2.0",
            "_view_name": "StyleView",
            "description_width": ""
          }
        },
        "b7db618dd0da42f7a24aa7bd1ca92322": {
          "model_module": "@jupyter-widgets/base",
          "model_name": "LayoutModel",
          "model_module_version": "1.2.0",
          "state": {
            "_model_module": "@jupyter-widgets/base",
            "_model_module_version": "1.2.0",
            "_model_name": "LayoutModel",
            "_view_count": null,
            "_view_module": "@jupyter-widgets/base",
            "_view_module_version": "1.2.0",
            "_view_name": "LayoutView",
            "align_content": null,
            "align_items": null,
            "align_self": null,
            "border": null,
            "bottom": null,
            "display": null,
            "flex": null,
            "flex_flow": null,
            "grid_area": null,
            "grid_auto_columns": null,
            "grid_auto_flow": null,
            "grid_auto_rows": null,
            "grid_column": null,
            "grid_gap": null,
            "grid_row": null,
            "grid_template_areas": null,
            "grid_template_columns": null,
            "grid_template_rows": null,
            "height": null,
            "justify_content": null,
            "justify_items": null,
            "left": null,
            "margin": null,
            "max_height": null,
            "max_width": null,
            "min_height": null,
            "min_width": null,
            "object_fit": null,
            "object_position": null,
            "order": null,
            "overflow": null,
            "overflow_x": null,
            "overflow_y": null,
            "padding": null,
            "right": null,
            "top": null,
            "visibility": null,
            "width": null
          }
        },
        "7dd028f0419d4e4c8b289d2c702af0c0": {
          "model_module": "@jupyter-widgets/controls",
          "model_name": "ProgressStyleModel",
          "model_module_version": "1.5.0",
          "state": {
            "_model_module": "@jupyter-widgets/controls",
            "_model_module_version": "1.5.0",
            "_model_name": "ProgressStyleModel",
            "_view_count": null,
            "_view_module": "@jupyter-widgets/base",
            "_view_module_version": "1.2.0",
            "_view_name": "StyleView",
            "bar_color": null,
            "description_width": ""
          }
        },
        "7da26209aeca4efa92a03647fa42ab6e": {
          "model_module": "@jupyter-widgets/base",
          "model_name": "LayoutModel",
          "model_module_version": "1.2.0",
          "state": {
            "_model_module": "@jupyter-widgets/base",
            "_model_module_version": "1.2.0",
            "_model_name": "LayoutModel",
            "_view_count": null,
            "_view_module": "@jupyter-widgets/base",
            "_view_module_version": "1.2.0",
            "_view_name": "LayoutView",
            "align_content": null,
            "align_items": null,
            "align_self": null,
            "border": null,
            "bottom": null,
            "display": null,
            "flex": null,
            "flex_flow": null,
            "grid_area": null,
            "grid_auto_columns": null,
            "grid_auto_flow": null,
            "grid_auto_rows": null,
            "grid_column": null,
            "grid_gap": null,
            "grid_row": null,
            "grid_template_areas": null,
            "grid_template_columns": null,
            "grid_template_rows": null,
            "height": null,
            "justify_content": null,
            "justify_items": null,
            "left": null,
            "margin": null,
            "max_height": null,
            "max_width": null,
            "min_height": null,
            "min_width": null,
            "object_fit": null,
            "object_position": null,
            "order": null,
            "overflow": null,
            "overflow_x": null,
            "overflow_y": null,
            "padding": null,
            "right": null,
            "top": null,
            "visibility": null,
            "width": null
          }
        },
        "14083bd5d6644c03aa516ee0485b4442": {
          "model_module": "@jupyter-widgets/controls",
          "model_name": "DescriptionStyleModel",
          "model_module_version": "1.5.0",
          "state": {
            "_model_module": "@jupyter-widgets/controls",
            "_model_module_version": "1.5.0",
            "_model_name": "DescriptionStyleModel",
            "_view_count": null,
            "_view_module": "@jupyter-widgets/base",
            "_view_module_version": "1.2.0",
            "_view_name": "StyleView",
            "description_width": ""
          }
        },
        "28b784287c0a4462a22ee9f9474926d6": {
          "model_module": "@jupyter-widgets/controls",
          "model_name": "HBoxModel",
          "model_module_version": "1.5.0",
          "state": {
            "_dom_classes": [],
            "_model_module": "@jupyter-widgets/controls",
            "_model_module_version": "1.5.0",
            "_model_name": "HBoxModel",
            "_view_count": null,
            "_view_module": "@jupyter-widgets/controls",
            "_view_module_version": "1.5.0",
            "_view_name": "HBoxView",
            "box_style": "",
            "children": [
              "IPY_MODEL_5a9577165ccc4749a0ec9813e39f5f93",
              "IPY_MODEL_ad5fda038df04f0e8b60dbab80f11b3d",
              "IPY_MODEL_1e971b9e0c0c4dccae2611d721bcc8ff"
            ],
            "layout": "IPY_MODEL_6d1d6032b4eb45178e7e9e2883a39ef6"
          }
        },
        "5a9577165ccc4749a0ec9813e39f5f93": {
          "model_module": "@jupyter-widgets/controls",
          "model_name": "HTMLModel",
          "model_module_version": "1.5.0",
          "state": {
            "_dom_classes": [],
            "_model_module": "@jupyter-widgets/controls",
            "_model_module_version": "1.5.0",
            "_model_name": "HTMLModel",
            "_view_count": null,
            "_view_module": "@jupyter-widgets/controls",
            "_view_module_version": "1.5.0",
            "_view_name": "HTMLView",
            "description": "",
            "description_tooltip": null,
            "layout": "IPY_MODEL_0ff317f653ab4b569e71b18a0713b83c",
            "placeholder": "​",
            "style": "IPY_MODEL_47eb1e6d132d49b39215b1df1dc9b0b4",
            "value": "vocab.json: 100%"
          }
        },
        "ad5fda038df04f0e8b60dbab80f11b3d": {
          "model_module": "@jupyter-widgets/controls",
          "model_name": "FloatProgressModel",
          "model_module_version": "1.5.0",
          "state": {
            "_dom_classes": [],
            "_model_module": "@jupyter-widgets/controls",
            "_model_module_version": "1.5.0",
            "_model_name": "FloatProgressModel",
            "_view_count": null,
            "_view_module": "@jupyter-widgets/controls",
            "_view_module_version": "1.5.0",
            "_view_name": "ProgressView",
            "bar_style": "success",
            "description": "",
            "description_tooltip": null,
            "layout": "IPY_MODEL_77d706b51a034bbba5f626747381cfdc",
            "max": 798156,
            "min": 0,
            "orientation": "horizontal",
            "style": "IPY_MODEL_87afdc8e13c340ac91cfdbd17befabce",
            "value": 798156
          }
        },
        "1e971b9e0c0c4dccae2611d721bcc8ff": {
          "model_module": "@jupyter-widgets/controls",
          "model_name": "HTMLModel",
          "model_module_version": "1.5.0",
          "state": {
            "_dom_classes": [],
            "_model_module": "@jupyter-widgets/controls",
            "_model_module_version": "1.5.0",
            "_model_name": "HTMLModel",
            "_view_count": null,
            "_view_module": "@jupyter-widgets/controls",
            "_view_module_version": "1.5.0",
            "_view_name": "HTMLView",
            "description": "",
            "description_tooltip": null,
            "layout": "IPY_MODEL_c0880c1fbe474238a8796bb178872c6d",
            "placeholder": "​",
            "style": "IPY_MODEL_2e417ee327154105a7f280628c655287",
            "value": " 798k/798k [00:00&lt;00:00, 17.0MB/s]"
          }
        },
        "6d1d6032b4eb45178e7e9e2883a39ef6": {
          "model_module": "@jupyter-widgets/base",
          "model_name": "LayoutModel",
          "model_module_version": "1.2.0",
          "state": {
            "_model_module": "@jupyter-widgets/base",
            "_model_module_version": "1.2.0",
            "_model_name": "LayoutModel",
            "_view_count": null,
            "_view_module": "@jupyter-widgets/base",
            "_view_module_version": "1.2.0",
            "_view_name": "LayoutView",
            "align_content": null,
            "align_items": null,
            "align_self": null,
            "border": null,
            "bottom": null,
            "display": null,
            "flex": null,
            "flex_flow": null,
            "grid_area": null,
            "grid_auto_columns": null,
            "grid_auto_flow": null,
            "grid_auto_rows": null,
            "grid_column": null,
            "grid_gap": null,
            "grid_row": null,
            "grid_template_areas": null,
            "grid_template_columns": null,
            "grid_template_rows": null,
            "height": null,
            "justify_content": null,
            "justify_items": null,
            "left": null,
            "margin": null,
            "max_height": null,
            "max_width": null,
            "min_height": null,
            "min_width": null,
            "object_fit": null,
            "object_position": null,
            "order": null,
            "overflow": null,
            "overflow_x": null,
            "overflow_y": null,
            "padding": null,
            "right": null,
            "top": null,
            "visibility": null,
            "width": null
          }
        },
        "0ff317f653ab4b569e71b18a0713b83c": {
          "model_module": "@jupyter-widgets/base",
          "model_name": "LayoutModel",
          "model_module_version": "1.2.0",
          "state": {
            "_model_module": "@jupyter-widgets/base",
            "_model_module_version": "1.2.0",
            "_model_name": "LayoutModel",
            "_view_count": null,
            "_view_module": "@jupyter-widgets/base",
            "_view_module_version": "1.2.0",
            "_view_name": "LayoutView",
            "align_content": null,
            "align_items": null,
            "align_self": null,
            "border": null,
            "bottom": null,
            "display": null,
            "flex": null,
            "flex_flow": null,
            "grid_area": null,
            "grid_auto_columns": null,
            "grid_auto_flow": null,
            "grid_auto_rows": null,
            "grid_column": null,
            "grid_gap": null,
            "grid_row": null,
            "grid_template_areas": null,
            "grid_template_columns": null,
            "grid_template_rows": null,
            "height": null,
            "justify_content": null,
            "justify_items": null,
            "left": null,
            "margin": null,
            "max_height": null,
            "max_width": null,
            "min_height": null,
            "min_width": null,
            "object_fit": null,
            "object_position": null,
            "order": null,
            "overflow": null,
            "overflow_x": null,
            "overflow_y": null,
            "padding": null,
            "right": null,
            "top": null,
            "visibility": null,
            "width": null
          }
        },
        "47eb1e6d132d49b39215b1df1dc9b0b4": {
          "model_module": "@jupyter-widgets/controls",
          "model_name": "DescriptionStyleModel",
          "model_module_version": "1.5.0",
          "state": {
            "_model_module": "@jupyter-widgets/controls",
            "_model_module_version": "1.5.0",
            "_model_name": "DescriptionStyleModel",
            "_view_count": null,
            "_view_module": "@jupyter-widgets/base",
            "_view_module_version": "1.2.0",
            "_view_name": "StyleView",
            "description_width": ""
          }
        },
        "77d706b51a034bbba5f626747381cfdc": {
          "model_module": "@jupyter-widgets/base",
          "model_name": "LayoutModel",
          "model_module_version": "1.2.0",
          "state": {
            "_model_module": "@jupyter-widgets/base",
            "_model_module_version": "1.2.0",
            "_model_name": "LayoutModel",
            "_view_count": null,
            "_view_module": "@jupyter-widgets/base",
            "_view_module_version": "1.2.0",
            "_view_name": "LayoutView",
            "align_content": null,
            "align_items": null,
            "align_self": null,
            "border": null,
            "bottom": null,
            "display": null,
            "flex": null,
            "flex_flow": null,
            "grid_area": null,
            "grid_auto_columns": null,
            "grid_auto_flow": null,
            "grid_auto_rows": null,
            "grid_column": null,
            "grid_gap": null,
            "grid_row": null,
            "grid_template_areas": null,
            "grid_template_columns": null,
            "grid_template_rows": null,
            "height": null,
            "justify_content": null,
            "justify_items": null,
            "left": null,
            "margin": null,
            "max_height": null,
            "max_width": null,
            "min_height": null,
            "min_width": null,
            "object_fit": null,
            "object_position": null,
            "order": null,
            "overflow": null,
            "overflow_x": null,
            "overflow_y": null,
            "padding": null,
            "right": null,
            "top": null,
            "visibility": null,
            "width": null
          }
        },
        "87afdc8e13c340ac91cfdbd17befabce": {
          "model_module": "@jupyter-widgets/controls",
          "model_name": "ProgressStyleModel",
          "model_module_version": "1.5.0",
          "state": {
            "_model_module": "@jupyter-widgets/controls",
            "_model_module_version": "1.5.0",
            "_model_name": "ProgressStyleModel",
            "_view_count": null,
            "_view_module": "@jupyter-widgets/base",
            "_view_module_version": "1.2.0",
            "_view_name": "StyleView",
            "bar_color": null,
            "description_width": ""
          }
        },
        "c0880c1fbe474238a8796bb178872c6d": {
          "model_module": "@jupyter-widgets/base",
          "model_name": "LayoutModel",
          "model_module_version": "1.2.0",
          "state": {
            "_model_module": "@jupyter-widgets/base",
            "_model_module_version": "1.2.0",
            "_model_name": "LayoutModel",
            "_view_count": null,
            "_view_module": "@jupyter-widgets/base",
            "_view_module_version": "1.2.0",
            "_view_name": "LayoutView",
            "align_content": null,
            "align_items": null,
            "align_self": null,
            "border": null,
            "bottom": null,
            "display": null,
            "flex": null,
            "flex_flow": null,
            "grid_area": null,
            "grid_auto_columns": null,
            "grid_auto_flow": null,
            "grid_auto_rows": null,
            "grid_column": null,
            "grid_gap": null,
            "grid_row": null,
            "grid_template_areas": null,
            "grid_template_columns": null,
            "grid_template_rows": null,
            "height": null,
            "justify_content": null,
            "justify_items": null,
            "left": null,
            "margin": null,
            "max_height": null,
            "max_width": null,
            "min_height": null,
            "min_width": null,
            "object_fit": null,
            "object_position": null,
            "order": null,
            "overflow": null,
            "overflow_x": null,
            "overflow_y": null,
            "padding": null,
            "right": null,
            "top": null,
            "visibility": null,
            "width": null
          }
        },
        "2e417ee327154105a7f280628c655287": {
          "model_module": "@jupyter-widgets/controls",
          "model_name": "DescriptionStyleModel",
          "model_module_version": "1.5.0",
          "state": {
            "_model_module": "@jupyter-widgets/controls",
            "_model_module_version": "1.5.0",
            "_model_name": "DescriptionStyleModel",
            "_view_count": null,
            "_view_module": "@jupyter-widgets/base",
            "_view_module_version": "1.2.0",
            "_view_name": "StyleView",
            "description_width": ""
          }
        },
        "10fa1e0d39f1414a9a8398aae0fc1651": {
          "model_module": "@jupyter-widgets/controls",
          "model_name": "HBoxModel",
          "model_module_version": "1.5.0",
          "state": {
            "_dom_classes": [],
            "_model_module": "@jupyter-widgets/controls",
            "_model_module_version": "1.5.0",
            "_model_name": "HBoxModel",
            "_view_count": null,
            "_view_module": "@jupyter-widgets/controls",
            "_view_module_version": "1.5.0",
            "_view_name": "HBoxView",
            "box_style": "",
            "children": [
              "IPY_MODEL_3800c4547f30467c8a0e2f4400523334",
              "IPY_MODEL_d8648d77bfe64e2f80cec8c60032c005",
              "IPY_MODEL_2d1b33436d7d459fb336b62ebbba19d9"
            ],
            "layout": "IPY_MODEL_f848eed53ae043918702efd5743662a8"
          }
        },
        "3800c4547f30467c8a0e2f4400523334": {
          "model_module": "@jupyter-widgets/controls",
          "model_name": "HTMLModel",
          "model_module_version": "1.5.0",
          "state": {
            "_dom_classes": [],
            "_model_module": "@jupyter-widgets/controls",
            "_model_module_version": "1.5.0",
            "_model_name": "HTMLModel",
            "_view_count": null,
            "_view_module": "@jupyter-widgets/controls",
            "_view_module_version": "1.5.0",
            "_view_name": "HTMLView",
            "description": "",
            "description_tooltip": null,
            "layout": "IPY_MODEL_37a3680b39d84e9daf2e83ad3e1ecb46",
            "placeholder": "​",
            "style": "IPY_MODEL_7df326344dc74c559ec19fca3d13fcb6",
            "value": "merges.txt: 100%"
          }
        },
        "d8648d77bfe64e2f80cec8c60032c005": {
          "model_module": "@jupyter-widgets/controls",
          "model_name": "FloatProgressModel",
          "model_module_version": "1.5.0",
          "state": {
            "_dom_classes": [],
            "_model_module": "@jupyter-widgets/controls",
            "_model_module_version": "1.5.0",
            "_model_name": "FloatProgressModel",
            "_view_count": null,
            "_view_module": "@jupyter-widgets/controls",
            "_view_module_version": "1.5.0",
            "_view_name": "ProgressView",
            "bar_style": "success",
            "description": "",
            "description_tooltip": null,
            "layout": "IPY_MODEL_71def4619088411496a2a58893f8c06f",
            "max": 456356,
            "min": 0,
            "orientation": "horizontal",
            "style": "IPY_MODEL_c1755f662b3843b6bad95be3ccdad39e",
            "value": 456356
          }
        },
        "2d1b33436d7d459fb336b62ebbba19d9": {
          "model_module": "@jupyter-widgets/controls",
          "model_name": "HTMLModel",
          "model_module_version": "1.5.0",
          "state": {
            "_dom_classes": [],
            "_model_module": "@jupyter-widgets/controls",
            "_model_module_version": "1.5.0",
            "_model_name": "HTMLModel",
            "_view_count": null,
            "_view_module": "@jupyter-widgets/controls",
            "_view_module_version": "1.5.0",
            "_view_name": "HTMLView",
            "description": "",
            "description_tooltip": null,
            "layout": "IPY_MODEL_dc40abadd8ad4a11a91bcb4484ffd4ed",
            "placeholder": "​",
            "style": "IPY_MODEL_7d724ddbc0a246a3b44cfe08980164c7",
            "value": " 456k/456k [00:00&lt;00:00, 12.8MB/s]"
          }
        },
        "f848eed53ae043918702efd5743662a8": {
          "model_module": "@jupyter-widgets/base",
          "model_name": "LayoutModel",
          "model_module_version": "1.2.0",
          "state": {
            "_model_module": "@jupyter-widgets/base",
            "_model_module_version": "1.2.0",
            "_model_name": "LayoutModel",
            "_view_count": null,
            "_view_module": "@jupyter-widgets/base",
            "_view_module_version": "1.2.0",
            "_view_name": "LayoutView",
            "align_content": null,
            "align_items": null,
            "align_self": null,
            "border": null,
            "bottom": null,
            "display": null,
            "flex": null,
            "flex_flow": null,
            "grid_area": null,
            "grid_auto_columns": null,
            "grid_auto_flow": null,
            "grid_auto_rows": null,
            "grid_column": null,
            "grid_gap": null,
            "grid_row": null,
            "grid_template_areas": null,
            "grid_template_columns": null,
            "grid_template_rows": null,
            "height": null,
            "justify_content": null,
            "justify_items": null,
            "left": null,
            "margin": null,
            "max_height": null,
            "max_width": null,
            "min_height": null,
            "min_width": null,
            "object_fit": null,
            "object_position": null,
            "order": null,
            "overflow": null,
            "overflow_x": null,
            "overflow_y": null,
            "padding": null,
            "right": null,
            "top": null,
            "visibility": null,
            "width": null
          }
        },
        "37a3680b39d84e9daf2e83ad3e1ecb46": {
          "model_module": "@jupyter-widgets/base",
          "model_name": "LayoutModel",
          "model_module_version": "1.2.0",
          "state": {
            "_model_module": "@jupyter-widgets/base",
            "_model_module_version": "1.2.0",
            "_model_name": "LayoutModel",
            "_view_count": null,
            "_view_module": "@jupyter-widgets/base",
            "_view_module_version": "1.2.0",
            "_view_name": "LayoutView",
            "align_content": null,
            "align_items": null,
            "align_self": null,
            "border": null,
            "bottom": null,
            "display": null,
            "flex": null,
            "flex_flow": null,
            "grid_area": null,
            "grid_auto_columns": null,
            "grid_auto_flow": null,
            "grid_auto_rows": null,
            "grid_column": null,
            "grid_gap": null,
            "grid_row": null,
            "grid_template_areas": null,
            "grid_template_columns": null,
            "grid_template_rows": null,
            "height": null,
            "justify_content": null,
            "justify_items": null,
            "left": null,
            "margin": null,
            "max_height": null,
            "max_width": null,
            "min_height": null,
            "min_width": null,
            "object_fit": null,
            "object_position": null,
            "order": null,
            "overflow": null,
            "overflow_x": null,
            "overflow_y": null,
            "padding": null,
            "right": null,
            "top": null,
            "visibility": null,
            "width": null
          }
        },
        "7df326344dc74c559ec19fca3d13fcb6": {
          "model_module": "@jupyter-widgets/controls",
          "model_name": "DescriptionStyleModel",
          "model_module_version": "1.5.0",
          "state": {
            "_model_module": "@jupyter-widgets/controls",
            "_model_module_version": "1.5.0",
            "_model_name": "DescriptionStyleModel",
            "_view_count": null,
            "_view_module": "@jupyter-widgets/base",
            "_view_module_version": "1.2.0",
            "_view_name": "StyleView",
            "description_width": ""
          }
        },
        "71def4619088411496a2a58893f8c06f": {
          "model_module": "@jupyter-widgets/base",
          "model_name": "LayoutModel",
          "model_module_version": "1.2.0",
          "state": {
            "_model_module": "@jupyter-widgets/base",
            "_model_module_version": "1.2.0",
            "_model_name": "LayoutModel",
            "_view_count": null,
            "_view_module": "@jupyter-widgets/base",
            "_view_module_version": "1.2.0",
            "_view_name": "LayoutView",
            "align_content": null,
            "align_items": null,
            "align_self": null,
            "border": null,
            "bottom": null,
            "display": null,
            "flex": null,
            "flex_flow": null,
            "grid_area": null,
            "grid_auto_columns": null,
            "grid_auto_flow": null,
            "grid_auto_rows": null,
            "grid_column": null,
            "grid_gap": null,
            "grid_row": null,
            "grid_template_areas": null,
            "grid_template_columns": null,
            "grid_template_rows": null,
            "height": null,
            "justify_content": null,
            "justify_items": null,
            "left": null,
            "margin": null,
            "max_height": null,
            "max_width": null,
            "min_height": null,
            "min_width": null,
            "object_fit": null,
            "object_position": null,
            "order": null,
            "overflow": null,
            "overflow_x": null,
            "overflow_y": null,
            "padding": null,
            "right": null,
            "top": null,
            "visibility": null,
            "width": null
          }
        },
        "c1755f662b3843b6bad95be3ccdad39e": {
          "model_module": "@jupyter-widgets/controls",
          "model_name": "ProgressStyleModel",
          "model_module_version": "1.5.0",
          "state": {
            "_model_module": "@jupyter-widgets/controls",
            "_model_module_version": "1.5.0",
            "_model_name": "ProgressStyleModel",
            "_view_count": null,
            "_view_module": "@jupyter-widgets/base",
            "_view_module_version": "1.2.0",
            "_view_name": "StyleView",
            "bar_color": null,
            "description_width": ""
          }
        },
        "dc40abadd8ad4a11a91bcb4484ffd4ed": {
          "model_module": "@jupyter-widgets/base",
          "model_name": "LayoutModel",
          "model_module_version": "1.2.0",
          "state": {
            "_model_module": "@jupyter-widgets/base",
            "_model_module_version": "1.2.0",
            "_model_name": "LayoutModel",
            "_view_count": null,
            "_view_module": "@jupyter-widgets/base",
            "_view_module_version": "1.2.0",
            "_view_name": "LayoutView",
            "align_content": null,
            "align_items": null,
            "align_self": null,
            "border": null,
            "bottom": null,
            "display": null,
            "flex": null,
            "flex_flow": null,
            "grid_area": null,
            "grid_auto_columns": null,
            "grid_auto_flow": null,
            "grid_auto_rows": null,
            "grid_column": null,
            "grid_gap": null,
            "grid_row": null,
            "grid_template_areas": null,
            "grid_template_columns": null,
            "grid_template_rows": null,
            "height": null,
            "justify_content": null,
            "justify_items": null,
            "left": null,
            "margin": null,
            "max_height": null,
            "max_width": null,
            "min_height": null,
            "min_width": null,
            "object_fit": null,
            "object_position": null,
            "order": null,
            "overflow": null,
            "overflow_x": null,
            "overflow_y": null,
            "padding": null,
            "right": null,
            "top": null,
            "visibility": null,
            "width": null
          }
        },
        "7d724ddbc0a246a3b44cfe08980164c7": {
          "model_module": "@jupyter-widgets/controls",
          "model_name": "DescriptionStyleModel",
          "model_module_version": "1.5.0",
          "state": {
            "_model_module": "@jupyter-widgets/controls",
            "_model_module_version": "1.5.0",
            "_model_name": "DescriptionStyleModel",
            "_view_count": null,
            "_view_module": "@jupyter-widgets/base",
            "_view_module_version": "1.2.0",
            "_view_name": "StyleView",
            "description_width": ""
          }
        },
        "afb39932a959445d8395a32e5c9158bc": {
          "model_module": "@jupyter-widgets/controls",
          "model_name": "HBoxModel",
          "model_module_version": "1.5.0",
          "state": {
            "_dom_classes": [],
            "_model_module": "@jupyter-widgets/controls",
            "_model_module_version": "1.5.0",
            "_model_name": "HBoxModel",
            "_view_count": null,
            "_view_module": "@jupyter-widgets/controls",
            "_view_module_version": "1.5.0",
            "_view_name": "HBoxView",
            "box_style": "",
            "children": [
              "IPY_MODEL_8606804e36e545e3ad02c99954cd2635",
              "IPY_MODEL_e241fb8ddb7e473ba437d4bcbdc17f2f",
              "IPY_MODEL_d872359e0daa4a63b640e6712c89b861"
            ],
            "layout": "IPY_MODEL_d06b32b0821b485c8161febc7debddf0"
          }
        },
        "8606804e36e545e3ad02c99954cd2635": {
          "model_module": "@jupyter-widgets/controls",
          "model_name": "HTMLModel",
          "model_module_version": "1.5.0",
          "state": {
            "_dom_classes": [],
            "_model_module": "@jupyter-widgets/controls",
            "_model_module_version": "1.5.0",
            "_model_name": "HTMLModel",
            "_view_count": null,
            "_view_module": "@jupyter-widgets/controls",
            "_view_module_version": "1.5.0",
            "_view_name": "HTMLView",
            "description": "",
            "description_tooltip": null,
            "layout": "IPY_MODEL_cf15a3b825c7450f81e5d4768046e6b6",
            "placeholder": "​",
            "style": "IPY_MODEL_6562e3d24f6f4494a2a7d886b5d217e9",
            "value": "tokenizer.json: 100%"
          }
        },
        "e241fb8ddb7e473ba437d4bcbdc17f2f": {
          "model_module": "@jupyter-widgets/controls",
          "model_name": "FloatProgressModel",
          "model_module_version": "1.5.0",
          "state": {
            "_dom_classes": [],
            "_model_module": "@jupyter-widgets/controls",
            "_model_module_version": "1.5.0",
            "_model_name": "FloatProgressModel",
            "_view_count": null,
            "_view_module": "@jupyter-widgets/controls",
            "_view_module_version": "1.5.0",
            "_view_name": "ProgressView",
            "bar_style": "success",
            "description": "",
            "description_tooltip": null,
            "layout": "IPY_MODEL_e5a7f0d4acb14608bc3dd71ded15e3c7",
            "max": 2114827,
            "min": 0,
            "orientation": "horizontal",
            "style": "IPY_MODEL_34157345af9740168ac5429f7634cd37",
            "value": 2114827
          }
        },
        "d872359e0daa4a63b640e6712c89b861": {
          "model_module": "@jupyter-widgets/controls",
          "model_name": "HTMLModel",
          "model_module_version": "1.5.0",
          "state": {
            "_dom_classes": [],
            "_model_module": "@jupyter-widgets/controls",
            "_model_module_version": "1.5.0",
            "_model_name": "HTMLModel",
            "_view_count": null,
            "_view_module": "@jupyter-widgets/controls",
            "_view_module_version": "1.5.0",
            "_view_name": "HTMLView",
            "description": "",
            "description_tooltip": null,
            "layout": "IPY_MODEL_09f6243c1c734e4eaeac9973e5d62957",
            "placeholder": "​",
            "style": "IPY_MODEL_0713f2d118914da9b0af9747bbd0d8f2",
            "value": " 2.11M/2.11M [00:00&lt;00:00, 48.2MB/s]"
          }
        },
        "d06b32b0821b485c8161febc7debddf0": {
          "model_module": "@jupyter-widgets/base",
          "model_name": "LayoutModel",
          "model_module_version": "1.2.0",
          "state": {
            "_model_module": "@jupyter-widgets/base",
            "_model_module_version": "1.2.0",
            "_model_name": "LayoutModel",
            "_view_count": null,
            "_view_module": "@jupyter-widgets/base",
            "_view_module_version": "1.2.0",
            "_view_name": "LayoutView",
            "align_content": null,
            "align_items": null,
            "align_self": null,
            "border": null,
            "bottom": null,
            "display": null,
            "flex": null,
            "flex_flow": null,
            "grid_area": null,
            "grid_auto_columns": null,
            "grid_auto_flow": null,
            "grid_auto_rows": null,
            "grid_column": null,
            "grid_gap": null,
            "grid_row": null,
            "grid_template_areas": null,
            "grid_template_columns": null,
            "grid_template_rows": null,
            "height": null,
            "justify_content": null,
            "justify_items": null,
            "left": null,
            "margin": null,
            "max_height": null,
            "max_width": null,
            "min_height": null,
            "min_width": null,
            "object_fit": null,
            "object_position": null,
            "order": null,
            "overflow": null,
            "overflow_x": null,
            "overflow_y": null,
            "padding": null,
            "right": null,
            "top": null,
            "visibility": null,
            "width": null
          }
        },
        "cf15a3b825c7450f81e5d4768046e6b6": {
          "model_module": "@jupyter-widgets/base",
          "model_name": "LayoutModel",
          "model_module_version": "1.2.0",
          "state": {
            "_model_module": "@jupyter-widgets/base",
            "_model_module_version": "1.2.0",
            "_model_name": "LayoutModel",
            "_view_count": null,
            "_view_module": "@jupyter-widgets/base",
            "_view_module_version": "1.2.0",
            "_view_name": "LayoutView",
            "align_content": null,
            "align_items": null,
            "align_self": null,
            "border": null,
            "bottom": null,
            "display": null,
            "flex": null,
            "flex_flow": null,
            "grid_area": null,
            "grid_auto_columns": null,
            "grid_auto_flow": null,
            "grid_auto_rows": null,
            "grid_column": null,
            "grid_gap": null,
            "grid_row": null,
            "grid_template_areas": null,
            "grid_template_columns": null,
            "grid_template_rows": null,
            "height": null,
            "justify_content": null,
            "justify_items": null,
            "left": null,
            "margin": null,
            "max_height": null,
            "max_width": null,
            "min_height": null,
            "min_width": null,
            "object_fit": null,
            "object_position": null,
            "order": null,
            "overflow": null,
            "overflow_x": null,
            "overflow_y": null,
            "padding": null,
            "right": null,
            "top": null,
            "visibility": null,
            "width": null
          }
        },
        "6562e3d24f6f4494a2a7d886b5d217e9": {
          "model_module": "@jupyter-widgets/controls",
          "model_name": "DescriptionStyleModel",
          "model_module_version": "1.5.0",
          "state": {
            "_model_module": "@jupyter-widgets/controls",
            "_model_module_version": "1.5.0",
            "_model_name": "DescriptionStyleModel",
            "_view_count": null,
            "_view_module": "@jupyter-widgets/base",
            "_view_module_version": "1.2.0",
            "_view_name": "StyleView",
            "description_width": ""
          }
        },
        "e5a7f0d4acb14608bc3dd71ded15e3c7": {
          "model_module": "@jupyter-widgets/base",
          "model_name": "LayoutModel",
          "model_module_version": "1.2.0",
          "state": {
            "_model_module": "@jupyter-widgets/base",
            "_model_module_version": "1.2.0",
            "_model_name": "LayoutModel",
            "_view_count": null,
            "_view_module": "@jupyter-widgets/base",
            "_view_module_version": "1.2.0",
            "_view_name": "LayoutView",
            "align_content": null,
            "align_items": null,
            "align_self": null,
            "border": null,
            "bottom": null,
            "display": null,
            "flex": null,
            "flex_flow": null,
            "grid_area": null,
            "grid_auto_columns": null,
            "grid_auto_flow": null,
            "grid_auto_rows": null,
            "grid_column": null,
            "grid_gap": null,
            "grid_row": null,
            "grid_template_areas": null,
            "grid_template_columns": null,
            "grid_template_rows": null,
            "height": null,
            "justify_content": null,
            "justify_items": null,
            "left": null,
            "margin": null,
            "max_height": null,
            "max_width": null,
            "min_height": null,
            "min_width": null,
            "object_fit": null,
            "object_position": null,
            "order": null,
            "overflow": null,
            "overflow_x": null,
            "overflow_y": null,
            "padding": null,
            "right": null,
            "top": null,
            "visibility": null,
            "width": null
          }
        },
        "34157345af9740168ac5429f7634cd37": {
          "model_module": "@jupyter-widgets/controls",
          "model_name": "ProgressStyleModel",
          "model_module_version": "1.5.0",
          "state": {
            "_model_module": "@jupyter-widgets/controls",
            "_model_module_version": "1.5.0",
            "_model_name": "ProgressStyleModel",
            "_view_count": null,
            "_view_module": "@jupyter-widgets/base",
            "_view_module_version": "1.2.0",
            "_view_name": "StyleView",
            "bar_color": null,
            "description_width": ""
          }
        },
        "09f6243c1c734e4eaeac9973e5d62957": {
          "model_module": "@jupyter-widgets/base",
          "model_name": "LayoutModel",
          "model_module_version": "1.2.0",
          "state": {
            "_model_module": "@jupyter-widgets/base",
            "_model_module_version": "1.2.0",
            "_model_name": "LayoutModel",
            "_view_count": null,
            "_view_module": "@jupyter-widgets/base",
            "_view_module_version": "1.2.0",
            "_view_name": "LayoutView",
            "align_content": null,
            "align_items": null,
            "align_self": null,
            "border": null,
            "bottom": null,
            "display": null,
            "flex": null,
            "flex_flow": null,
            "grid_area": null,
            "grid_auto_columns": null,
            "grid_auto_flow": null,
            "grid_auto_rows": null,
            "grid_column": null,
            "grid_gap": null,
            "grid_row": null,
            "grid_template_areas": null,
            "grid_template_columns": null,
            "grid_template_rows": null,
            "height": null,
            "justify_content": null,
            "justify_items": null,
            "left": null,
            "margin": null,
            "max_height": null,
            "max_width": null,
            "min_height": null,
            "min_width": null,
            "object_fit": null,
            "object_position": null,
            "order": null,
            "overflow": null,
            "overflow_x": null,
            "overflow_y": null,
            "padding": null,
            "right": null,
            "top": null,
            "visibility": null,
            "width": null
          }
        },
        "0713f2d118914da9b0af9747bbd0d8f2": {
          "model_module": "@jupyter-widgets/controls",
          "model_name": "DescriptionStyleModel",
          "model_module_version": "1.5.0",
          "state": {
            "_model_module": "@jupyter-widgets/controls",
            "_model_module_version": "1.5.0",
            "_model_name": "DescriptionStyleModel",
            "_view_count": null,
            "_view_module": "@jupyter-widgets/base",
            "_view_module_version": "1.2.0",
            "_view_name": "StyleView",
            "description_width": ""
          }
        },
        "8e90c8693f21445e9f7b2047c3ed97b1": {
          "model_module": "@jupyter-widgets/controls",
          "model_name": "HBoxModel",
          "model_module_version": "1.5.0",
          "state": {
            "_dom_classes": [],
            "_model_module": "@jupyter-widgets/controls",
            "_model_module_version": "1.5.0",
            "_model_name": "HBoxModel",
            "_view_count": null,
            "_view_module": "@jupyter-widgets/controls",
            "_view_module_version": "1.5.0",
            "_view_name": "HBoxView",
            "box_style": "",
            "children": [
              "IPY_MODEL_ca07e709f3a14a9287032e461faee21b",
              "IPY_MODEL_0029282d888a4feeb18366621f612af6",
              "IPY_MODEL_d39e06fdd7c0452fb12bbde86366c84c"
            ],
            "layout": "IPY_MODEL_a5a311dd39aa4db683c59cc8cf4d22bc"
          }
        },
        "ca07e709f3a14a9287032e461faee21b": {
          "model_module": "@jupyter-widgets/controls",
          "model_name": "HTMLModel",
          "model_module_version": "1.5.0",
          "state": {
            "_dom_classes": [],
            "_model_module": "@jupyter-widgets/controls",
            "_model_module_version": "1.5.0",
            "_model_name": "HTMLModel",
            "_view_count": null,
            "_view_module": "@jupyter-widgets/controls",
            "_view_module_version": "1.5.0",
            "_view_name": "HTMLView",
            "description": "",
            "description_tooltip": null,
            "layout": "IPY_MODEL_f927493dffbf4e7388603f21e79b220d",
            "placeholder": "​",
            "style": "IPY_MODEL_91c9834cf9d541b2b7a7f4290cd87fde",
            "value": "added_tokens.json: 100%"
          }
        },
        "0029282d888a4feeb18366621f612af6": {
          "model_module": "@jupyter-widgets/controls",
          "model_name": "FloatProgressModel",
          "model_module_version": "1.5.0",
          "state": {
            "_dom_classes": [],
            "_model_module": "@jupyter-widgets/controls",
            "_model_module_version": "1.5.0",
            "_model_name": "FloatProgressModel",
            "_view_count": null,
            "_view_module": "@jupyter-widgets/controls",
            "_view_module_version": "1.5.0",
            "_view_name": "ProgressView",
            "bar_style": "success",
            "description": "",
            "description_tooltip": null,
            "layout": "IPY_MODEL_6a0c5ea607c045f2a0a731821e8cc784",
            "max": 1001,
            "min": 0,
            "orientation": "horizontal",
            "style": "IPY_MODEL_740529e62f8644c7b2e5ef232a232702",
            "value": 1001
          }
        },
        "d39e06fdd7c0452fb12bbde86366c84c": {
          "model_module": "@jupyter-widgets/controls",
          "model_name": "HTMLModel",
          "model_module_version": "1.5.0",
          "state": {
            "_dom_classes": [],
            "_model_module": "@jupyter-widgets/controls",
            "_model_module_version": "1.5.0",
            "_model_name": "HTMLModel",
            "_view_count": null,
            "_view_module": "@jupyter-widgets/controls",
            "_view_module_version": "1.5.0",
            "_view_name": "HTMLView",
            "description": "",
            "description_tooltip": null,
            "layout": "IPY_MODEL_0847559b19214f16a61c6b01fec7c89d",
            "placeholder": "​",
            "style": "IPY_MODEL_63cf5f2d6bb2413dad2274d5869c47c7",
            "value": " 1.00k/1.00k [00:00&lt;00:00, 43.5kB/s]"
          }
        },
        "a5a311dd39aa4db683c59cc8cf4d22bc": {
          "model_module": "@jupyter-widgets/base",
          "model_name": "LayoutModel",
          "model_module_version": "1.2.0",
          "state": {
            "_model_module": "@jupyter-widgets/base",
            "_model_module_version": "1.2.0",
            "_model_name": "LayoutModel",
            "_view_count": null,
            "_view_module": "@jupyter-widgets/base",
            "_view_module_version": "1.2.0",
            "_view_name": "LayoutView",
            "align_content": null,
            "align_items": null,
            "align_self": null,
            "border": null,
            "bottom": null,
            "display": null,
            "flex": null,
            "flex_flow": null,
            "grid_area": null,
            "grid_auto_columns": null,
            "grid_auto_flow": null,
            "grid_auto_rows": null,
            "grid_column": null,
            "grid_gap": null,
            "grid_row": null,
            "grid_template_areas": null,
            "grid_template_columns": null,
            "grid_template_rows": null,
            "height": null,
            "justify_content": null,
            "justify_items": null,
            "left": null,
            "margin": null,
            "max_height": null,
            "max_width": null,
            "min_height": null,
            "min_width": null,
            "object_fit": null,
            "object_position": null,
            "order": null,
            "overflow": null,
            "overflow_x": null,
            "overflow_y": null,
            "padding": null,
            "right": null,
            "top": null,
            "visibility": null,
            "width": null
          }
        },
        "f927493dffbf4e7388603f21e79b220d": {
          "model_module": "@jupyter-widgets/base",
          "model_name": "LayoutModel",
          "model_module_version": "1.2.0",
          "state": {
            "_model_module": "@jupyter-widgets/base",
            "_model_module_version": "1.2.0",
            "_model_name": "LayoutModel",
            "_view_count": null,
            "_view_module": "@jupyter-widgets/base",
            "_view_module_version": "1.2.0",
            "_view_name": "LayoutView",
            "align_content": null,
            "align_items": null,
            "align_self": null,
            "border": null,
            "bottom": null,
            "display": null,
            "flex": null,
            "flex_flow": null,
            "grid_area": null,
            "grid_auto_columns": null,
            "grid_auto_flow": null,
            "grid_auto_rows": null,
            "grid_column": null,
            "grid_gap": null,
            "grid_row": null,
            "grid_template_areas": null,
            "grid_template_columns": null,
            "grid_template_rows": null,
            "height": null,
            "justify_content": null,
            "justify_items": null,
            "left": null,
            "margin": null,
            "max_height": null,
            "max_width": null,
            "min_height": null,
            "min_width": null,
            "object_fit": null,
            "object_position": null,
            "order": null,
            "overflow": null,
            "overflow_x": null,
            "overflow_y": null,
            "padding": null,
            "right": null,
            "top": null,
            "visibility": null,
            "width": null
          }
        },
        "91c9834cf9d541b2b7a7f4290cd87fde": {
          "model_module": "@jupyter-widgets/controls",
          "model_name": "DescriptionStyleModel",
          "model_module_version": "1.5.0",
          "state": {
            "_model_module": "@jupyter-widgets/controls",
            "_model_module_version": "1.5.0",
            "_model_name": "DescriptionStyleModel",
            "_view_count": null,
            "_view_module": "@jupyter-widgets/base",
            "_view_module_version": "1.2.0",
            "_view_name": "StyleView",
            "description_width": ""
          }
        },
        "6a0c5ea607c045f2a0a731821e8cc784": {
          "model_module": "@jupyter-widgets/base",
          "model_name": "LayoutModel",
          "model_module_version": "1.2.0",
          "state": {
            "_model_module": "@jupyter-widgets/base",
            "_model_module_version": "1.2.0",
            "_model_name": "LayoutModel",
            "_view_count": null,
            "_view_module": "@jupyter-widgets/base",
            "_view_module_version": "1.2.0",
            "_view_name": "LayoutView",
            "align_content": null,
            "align_items": null,
            "align_self": null,
            "border": null,
            "bottom": null,
            "display": null,
            "flex": null,
            "flex_flow": null,
            "grid_area": null,
            "grid_auto_columns": null,
            "grid_auto_flow": null,
            "grid_auto_rows": null,
            "grid_column": null,
            "grid_gap": null,
            "grid_row": null,
            "grid_template_areas": null,
            "grid_template_columns": null,
            "grid_template_rows": null,
            "height": null,
            "justify_content": null,
            "justify_items": null,
            "left": null,
            "margin": null,
            "max_height": null,
            "max_width": null,
            "min_height": null,
            "min_width": null,
            "object_fit": null,
            "object_position": null,
            "order": null,
            "overflow": null,
            "overflow_x": null,
            "overflow_y": null,
            "padding": null,
            "right": null,
            "top": null,
            "visibility": null,
            "width": null
          }
        },
        "740529e62f8644c7b2e5ef232a232702": {
          "model_module": "@jupyter-widgets/controls",
          "model_name": "ProgressStyleModel",
          "model_module_version": "1.5.0",
          "state": {
            "_model_module": "@jupyter-widgets/controls",
            "_model_module_version": "1.5.0",
            "_model_name": "ProgressStyleModel",
            "_view_count": null,
            "_view_module": "@jupyter-widgets/base",
            "_view_module_version": "1.2.0",
            "_view_name": "StyleView",
            "bar_color": null,
            "description_width": ""
          }
        },
        "0847559b19214f16a61c6b01fec7c89d": {
          "model_module": "@jupyter-widgets/base",
          "model_name": "LayoutModel",
          "model_module_version": "1.2.0",
          "state": {
            "_model_module": "@jupyter-widgets/base",
            "_model_module_version": "1.2.0",
            "_model_name": "LayoutModel",
            "_view_count": null,
            "_view_module": "@jupyter-widgets/base",
            "_view_module_version": "1.2.0",
            "_view_name": "LayoutView",
            "align_content": null,
            "align_items": null,
            "align_self": null,
            "border": null,
            "bottom": null,
            "display": null,
            "flex": null,
            "flex_flow": null,
            "grid_area": null,
            "grid_auto_columns": null,
            "grid_auto_flow": null,
            "grid_auto_rows": null,
            "grid_column": null,
            "grid_gap": null,
            "grid_row": null,
            "grid_template_areas": null,
            "grid_template_columns": null,
            "grid_template_rows": null,
            "height": null,
            "justify_content": null,
            "justify_items": null,
            "left": null,
            "margin": null,
            "max_height": null,
            "max_width": null,
            "min_height": null,
            "min_width": null,
            "object_fit": null,
            "object_position": null,
            "order": null,
            "overflow": null,
            "overflow_x": null,
            "overflow_y": null,
            "padding": null,
            "right": null,
            "top": null,
            "visibility": null,
            "width": null
          }
        },
        "63cf5f2d6bb2413dad2274d5869c47c7": {
          "model_module": "@jupyter-widgets/controls",
          "model_name": "DescriptionStyleModel",
          "model_module_version": "1.5.0",
          "state": {
            "_model_module": "@jupyter-widgets/controls",
            "_model_module_version": "1.5.0",
            "_model_name": "DescriptionStyleModel",
            "_view_count": null,
            "_view_module": "@jupyter-widgets/base",
            "_view_module_version": "1.2.0",
            "_view_name": "StyleView",
            "description_width": ""
          }
        },
        "a39d63c836d1454eab86475917849e98": {
          "model_module": "@jupyter-widgets/controls",
          "model_name": "HBoxModel",
          "model_module_version": "1.5.0",
          "state": {
            "_dom_classes": [],
            "_model_module": "@jupyter-widgets/controls",
            "_model_module_version": "1.5.0",
            "_model_name": "HBoxModel",
            "_view_count": null,
            "_view_module": "@jupyter-widgets/controls",
            "_view_module_version": "1.5.0",
            "_view_name": "HBoxView",
            "box_style": "",
            "children": [
              "IPY_MODEL_44c92b5df11e4d089cf1a37b28178848",
              "IPY_MODEL_ecde69e6392f40839b9fe74c6d21c7af",
              "IPY_MODEL_0e29783e3e5b4b04a3a20ec11d9cae44"
            ],
            "layout": "IPY_MODEL_cbc0534cdb584e13a84fc7b6148d4a06"
          }
        },
        "44c92b5df11e4d089cf1a37b28178848": {
          "model_module": "@jupyter-widgets/controls",
          "model_name": "HTMLModel",
          "model_module_version": "1.5.0",
          "state": {
            "_dom_classes": [],
            "_model_module": "@jupyter-widgets/controls",
            "_model_module_version": "1.5.0",
            "_model_name": "HTMLModel",
            "_view_count": null,
            "_view_module": "@jupyter-widgets/controls",
            "_view_module_version": "1.5.0",
            "_view_name": "HTMLView",
            "description": "",
            "description_tooltip": null,
            "layout": "IPY_MODEL_64a330f8f321478f94e019a69ed6f9a1",
            "placeholder": "​",
            "style": "IPY_MODEL_2645a4c9365b45a788b3ed7f544c190d",
            "value": "special_tokens_map.json: 100%"
          }
        },
        "ecde69e6392f40839b9fe74c6d21c7af": {
          "model_module": "@jupyter-widgets/controls",
          "model_name": "FloatProgressModel",
          "model_module_version": "1.5.0",
          "state": {
            "_dom_classes": [],
            "_model_module": "@jupyter-widgets/controls",
            "_model_module_version": "1.5.0",
            "_model_name": "FloatProgressModel",
            "_view_count": null,
            "_view_module": "@jupyter-widgets/controls",
            "_view_module_version": "1.5.0",
            "_view_name": "ProgressView",
            "bar_style": "success",
            "description": "",
            "description_tooltip": null,
            "layout": "IPY_MODEL_37382258da8e407880277ee1078f850d",
            "max": 90,
            "min": 0,
            "orientation": "horizontal",
            "style": "IPY_MODEL_d047a15bd55a4259ad8bfffd941ceaa2",
            "value": 90
          }
        },
        "0e29783e3e5b4b04a3a20ec11d9cae44": {
          "model_module": "@jupyter-widgets/controls",
          "model_name": "HTMLModel",
          "model_module_version": "1.5.0",
          "state": {
            "_dom_classes": [],
            "_model_module": "@jupyter-widgets/controls",
            "_model_module_version": "1.5.0",
            "_model_name": "HTMLModel",
            "_view_count": null,
            "_view_module": "@jupyter-widgets/controls",
            "_view_module_version": "1.5.0",
            "_view_name": "HTMLView",
            "description": "",
            "description_tooltip": null,
            "layout": "IPY_MODEL_09e2c0ebb73244a0895536b8f7c26a1e",
            "placeholder": "​",
            "style": "IPY_MODEL_abd601b4d3e643f082f98f4bfea8d67d",
            "value": " 90.0/90.0 [00:00&lt;00:00, 2.81kB/s]"
          }
        },
        "cbc0534cdb584e13a84fc7b6148d4a06": {
          "model_module": "@jupyter-widgets/base",
          "model_name": "LayoutModel",
          "model_module_version": "1.2.0",
          "state": {
            "_model_module": "@jupyter-widgets/base",
            "_model_module_version": "1.2.0",
            "_model_name": "LayoutModel",
            "_view_count": null,
            "_view_module": "@jupyter-widgets/base",
            "_view_module_version": "1.2.0",
            "_view_name": "LayoutView",
            "align_content": null,
            "align_items": null,
            "align_self": null,
            "border": null,
            "bottom": null,
            "display": null,
            "flex": null,
            "flex_flow": null,
            "grid_area": null,
            "grid_auto_columns": null,
            "grid_auto_flow": null,
            "grid_auto_rows": null,
            "grid_column": null,
            "grid_gap": null,
            "grid_row": null,
            "grid_template_areas": null,
            "grid_template_columns": null,
            "grid_template_rows": null,
            "height": null,
            "justify_content": null,
            "justify_items": null,
            "left": null,
            "margin": null,
            "max_height": null,
            "max_width": null,
            "min_height": null,
            "min_width": null,
            "object_fit": null,
            "object_position": null,
            "order": null,
            "overflow": null,
            "overflow_x": null,
            "overflow_y": null,
            "padding": null,
            "right": null,
            "top": null,
            "visibility": null,
            "width": null
          }
        },
        "64a330f8f321478f94e019a69ed6f9a1": {
          "model_module": "@jupyter-widgets/base",
          "model_name": "LayoutModel",
          "model_module_version": "1.2.0",
          "state": {
            "_model_module": "@jupyter-widgets/base",
            "_model_module_version": "1.2.0",
            "_model_name": "LayoutModel",
            "_view_count": null,
            "_view_module": "@jupyter-widgets/base",
            "_view_module_version": "1.2.0",
            "_view_name": "LayoutView",
            "align_content": null,
            "align_items": null,
            "align_self": null,
            "border": null,
            "bottom": null,
            "display": null,
            "flex": null,
            "flex_flow": null,
            "grid_area": null,
            "grid_auto_columns": null,
            "grid_auto_flow": null,
            "grid_auto_rows": null,
            "grid_column": null,
            "grid_gap": null,
            "grid_row": null,
            "grid_template_areas": null,
            "grid_template_columns": null,
            "grid_template_rows": null,
            "height": null,
            "justify_content": null,
            "justify_items": null,
            "left": null,
            "margin": null,
            "max_height": null,
            "max_width": null,
            "min_height": null,
            "min_width": null,
            "object_fit": null,
            "object_position": null,
            "order": null,
            "overflow": null,
            "overflow_x": null,
            "overflow_y": null,
            "padding": null,
            "right": null,
            "top": null,
            "visibility": null,
            "width": null
          }
        },
        "2645a4c9365b45a788b3ed7f544c190d": {
          "model_module": "@jupyter-widgets/controls",
          "model_name": "DescriptionStyleModel",
          "model_module_version": "1.5.0",
          "state": {
            "_model_module": "@jupyter-widgets/controls",
            "_model_module_version": "1.5.0",
            "_model_name": "DescriptionStyleModel",
            "_view_count": null,
            "_view_module": "@jupyter-widgets/base",
            "_view_module_version": "1.2.0",
            "_view_name": "StyleView",
            "description_width": ""
          }
        },
        "37382258da8e407880277ee1078f850d": {
          "model_module": "@jupyter-widgets/base",
          "model_name": "LayoutModel",
          "model_module_version": "1.2.0",
          "state": {
            "_model_module": "@jupyter-widgets/base",
            "_model_module_version": "1.2.0",
            "_model_name": "LayoutModel",
            "_view_count": null,
            "_view_module": "@jupyter-widgets/base",
            "_view_module_version": "1.2.0",
            "_view_name": "LayoutView",
            "align_content": null,
            "align_items": null,
            "align_self": null,
            "border": null,
            "bottom": null,
            "display": null,
            "flex": null,
            "flex_flow": null,
            "grid_area": null,
            "grid_auto_columns": null,
            "grid_auto_flow": null,
            "grid_auto_rows": null,
            "grid_column": null,
            "grid_gap": null,
            "grid_row": null,
            "grid_template_areas": null,
            "grid_template_columns": null,
            "grid_template_rows": null,
            "height": null,
            "justify_content": null,
            "justify_items": null,
            "left": null,
            "margin": null,
            "max_height": null,
            "max_width": null,
            "min_height": null,
            "min_width": null,
            "object_fit": null,
            "object_position": null,
            "order": null,
            "overflow": null,
            "overflow_x": null,
            "overflow_y": null,
            "padding": null,
            "right": null,
            "top": null,
            "visibility": null,
            "width": null
          }
        },
        "d047a15bd55a4259ad8bfffd941ceaa2": {
          "model_module": "@jupyter-widgets/controls",
          "model_name": "ProgressStyleModel",
          "model_module_version": "1.5.0",
          "state": {
            "_model_module": "@jupyter-widgets/controls",
            "_model_module_version": "1.5.0",
            "_model_name": "ProgressStyleModel",
            "_view_count": null,
            "_view_module": "@jupyter-widgets/base",
            "_view_module_version": "1.2.0",
            "_view_name": "StyleView",
            "bar_color": null,
            "description_width": ""
          }
        },
        "09e2c0ebb73244a0895536b8f7c26a1e": {
          "model_module": "@jupyter-widgets/base",
          "model_name": "LayoutModel",
          "model_module_version": "1.2.0",
          "state": {
            "_model_module": "@jupyter-widgets/base",
            "_model_module_version": "1.2.0",
            "_model_name": "LayoutModel",
            "_view_count": null,
            "_view_module": "@jupyter-widgets/base",
            "_view_module_version": "1.2.0",
            "_view_name": "LayoutView",
            "align_content": null,
            "align_items": null,
            "align_self": null,
            "border": null,
            "bottom": null,
            "display": null,
            "flex": null,
            "flex_flow": null,
            "grid_area": null,
            "grid_auto_columns": null,
            "grid_auto_flow": null,
            "grid_auto_rows": null,
            "grid_column": null,
            "grid_gap": null,
            "grid_row": null,
            "grid_template_areas": null,
            "grid_template_columns": null,
            "grid_template_rows": null,
            "height": null,
            "justify_content": null,
            "justify_items": null,
            "left": null,
            "margin": null,
            "max_height": null,
            "max_width": null,
            "min_height": null,
            "min_width": null,
            "object_fit": null,
            "object_position": null,
            "order": null,
            "overflow": null,
            "overflow_x": null,
            "overflow_y": null,
            "padding": null,
            "right": null,
            "top": null,
            "visibility": null,
            "width": null
          }
        },
        "abd601b4d3e643f082f98f4bfea8d67d": {
          "model_module": "@jupyter-widgets/controls",
          "model_name": "DescriptionStyleModel",
          "model_module_version": "1.5.0",
          "state": {
            "_model_module": "@jupyter-widgets/controls",
            "_model_module_version": "1.5.0",
            "_model_name": "DescriptionStyleModel",
            "_view_count": null,
            "_view_module": "@jupyter-widgets/base",
            "_view_module_version": "1.2.0",
            "_view_name": "StyleView",
            "description_width": ""
          }
        }
      }
    }
  },
  "cells": [
    {
      "cell_type": "code",
      "execution_count": null,
      "metadata": {
        "id": "f72sL5a8zvwu"
      },
      "outputs": [],
      "source": [
        "# !pip install accelerate==0.26.1 seaborn==0.13.1 torch==2.1.1 transformers==4.35.0"
      ]
    },
    {
      "cell_type": "code",
      "source": [
        "import torch"
      ],
      "metadata": {
        "id": "_3FOAvEO4QMQ"
      },
      "execution_count": null,
      "outputs": []
    },
    {
      "cell_type": "markdown",
      "source": [
        "## linear quantization"
      ],
      "metadata": {
        "id": "lEgNFNdo-5Qo"
      }
    },
    {
      "cell_type": "code",
      "source": [
        "sample_tensor = torch.tensor([[191.6, -13.5, 728.6],\n",
        "                              [92.14, 295.5, -184],\n",
        "                              [0, 684.6, 245.5]\n",
        "                              ])"
      ],
      "metadata": {
        "id": "Zb4A5Z1tBduo"
      },
      "execution_count": null,
      "outputs": []
    },
    {
      "cell_type": "code",
      "source": [
        "def linear_quantization_with_scale_and_zero_point(tensor, scale, zero_point, dtype = torch.int8):\n",
        "  scaled_tensor = (tensor/scale) + zero_point   # linear transformation\n",
        "  rounded_tensor = torch.round(scaled_tensor)\n",
        "\n",
        "  q_min = torch.iinfo(torch.int8).min #-128\n",
        "  q_max = torch.iinfo(torch.int8).max # 127\n",
        "\n",
        "  quantized_tensor = torch.clamp(rounded_tensor, q_min, q_max).to(dtype) # clipping outliers\n",
        "\n",
        "  return quantized_tensor"
      ],
      "metadata": {
        "id": "0qiGS9RA55H6"
      },
      "execution_count": null,
      "outputs": []
    },
    {
      "cell_type": "code",
      "source": [
        "# let's try the quantization with ramdom values\n",
        "scale = 3.5\n",
        "zero_point = -70\n",
        "quantized_tensor = linear_quantization_with_scale_and_zero_point(sample_tensor, scale, zero_point)\n",
        "quantized_tensor"
      ],
      "metadata": {
        "colab": {
          "base_uri": "https://localhost:8080/"
        },
        "id": "aQVwu9Wu-rlx",
        "outputId": "91f99dbf-5a46-41ae-b96c-ca93409535a5"
      },
      "execution_count": null,
      "outputs": [
        {
          "output_type": "execute_result",
          "data": {
            "text/plain": [
              "tensor([[ -15,  -74,  127],\n",
              "        [ -44,   14, -123],\n",
              "        [ -70,  126,    0]], dtype=torch.int8)"
            ]
          },
          "metadata": {},
          "execution_count": 6
        }
      ]
    },
    {
      "cell_type": "markdown",
      "source": [
        "## Dequantization"
      ],
      "metadata": {
        "id": "Xd4AklNA-8MO"
      }
    },
    {
      "cell_type": "code",
      "source": [
        "def linear_dequantization_with_scale_and_zero_point(quantized_tensor, scale, zero_point):\n",
        "  dequantized_tensor = scale*(quantized_tensor.float() - zero_point)\n",
        "  return dequantized_tensor"
      ],
      "metadata": {
        "id": "-3qEaqaq_mBS"
      },
      "execution_count": null,
      "outputs": []
    },
    {
      "cell_type": "code",
      "source": [
        "dequantized_tensor = linear_dequantization_with_scale_and_zero_point(quantized_tensor, scale, zero_point)\n",
        "dequantized_tensor"
      ],
      "metadata": {
        "colab": {
          "base_uri": "https://localhost:8080/"
        },
        "id": "b1h2sEItAUCa",
        "outputId": "9e7a8e23-f4e3-42d9-885b-0c1e793ffc14"
      },
      "execution_count": null,
      "outputs": [
        {
          "output_type": "execute_result",
          "data": {
            "text/plain": [
              "tensor([[ 192.5000,  -14.0000,  689.5000],\n",
              "        [  91.0000,  294.0000, -185.5000],\n",
              "        [   0.0000,  686.0000,  245.0000]])"
            ]
          },
          "metadata": {},
          "execution_count": 8
        }
      ]
    },
    {
      "cell_type": "markdown",
      "source": [
        "## Quantization Error(MSE)\n"
      ],
      "metadata": {
        "id": "igr1Qh87BLO9"
      }
    },
    {
      "cell_type": "code",
      "source": [
        "(dequantized_tensor - sample_tensor).square().mean()"
      ],
      "metadata": {
        "colab": {
          "base_uri": "https://localhost:8080/"
        },
        "id": "Yx7y5y9sAdfz",
        "outputId": "3f69a78b-6be3-4f35-de42-726d7b5756f9"
      },
      "execution_count": null,
      "outputs": [
        {
          "output_type": "execute_result",
          "data": {
            "text/plain": [
              "tensor(170.8753)"
            ]
          },
          "metadata": {},
          "execution_count": 9
        }
      ]
    },
    {
      "cell_type": "markdown",
      "source": [
        "\n",
        "\n",
        "---\n",
        "\n"
      ],
      "metadata": {
        "id": "jij1DCLpBjxo"
      }
    },
    {
      "cell_type": "markdown",
      "source": [
        "### Finding scale and zero point"
      ],
      "metadata": {
        "id": "StwC5jADCCMl"
      }
    },
    {
      "cell_type": "code",
      "source": [
        "q_min = torch.iinfo(torch.int8).min\n",
        "q_max = torch.iinfo(torch.int8).max\n",
        "\n",
        "r_min = sample_tensor.min().item()\n",
        "r_max = sample_tensor.max().item()"
      ],
      "metadata": {
        "id": "PTbmAg_7H8Zj"
      },
      "execution_count": null,
      "outputs": []
    },
    {
      "cell_type": "code",
      "source": [
        "q_min, q_max, r_min, r_max"
      ],
      "metadata": {
        "colab": {
          "base_uri": "https://localhost:8080/"
        },
        "id": "lnLygevXBim4",
        "outputId": "c994740a-2ab6-45b2-e602-dea3e86e74f9"
      },
      "execution_count": null,
      "outputs": [
        {
          "output_type": "execute_result",
          "data": {
            "text/plain": [
              "(-128, 127, -184.0, 728.5999755859375)"
            ]
          },
          "metadata": {},
          "execution_count": 11
        }
      ]
    },
    {
      "cell_type": "code",
      "source": [
        "scale = (r_max - r_min)/(q_max - q_min)\n",
        "scale"
      ],
      "metadata": {
        "colab": {
          "base_uri": "https://localhost:8080/"
        },
        "id": "YBlrC7KDBjSA",
        "outputId": "4a4b6c88-8b71-4ac9-ba30-05a4b16728ba"
      },
      "execution_count": null,
      "outputs": [
        {
          "output_type": "execute_result",
          "data": {
            "text/plain": [
              "3.578823433670343"
            ]
          },
          "metadata": {},
          "execution_count": 12
        }
      ]
    },
    {
      "cell_type": "code",
      "source": [
        "# r = s* (q-zero_point)\n",
        "zero_point = int(round(q_min-(r_min/scale)))\n",
        "zero_point"
      ],
      "metadata": {
        "colab": {
          "base_uri": "https://localhost:8080/"
        },
        "id": "c3_B0aWpCv73",
        "outputId": "71058373-9c36-4fd2-9094-6e5e86a290c2"
      },
      "execution_count": null,
      "outputs": [
        {
          "output_type": "execute_result",
          "data": {
            "text/plain": [
              "-77"
            ]
          },
          "metadata": {},
          "execution_count": 13
        }
      ]
    },
    {
      "cell_type": "code",
      "source": [
        "def get_scale_and_zero_point(tensor, dtype=torch.int8):\n",
        "  q_min = torch.iinfo(torch.int8).min\n",
        "  q_max = torch.iinfo(torch.int8).max\n",
        "\n",
        "  r_min = sample_tensor.min().item()\n",
        "  r_max = sample_tensor.max().item()\n",
        "\n",
        "  scale = (r_max - r_min)/(q_max - q_min)\n",
        "  zero_point = q_min-(r_min/scale)\n",
        "\n",
        "  # clip the zero point to fall in the range\n",
        "  if zero_point < q_min:\n",
        "    zero_point = q_min\n",
        "  elif zero_point > q_max:\n",
        "    zero_point = q_max\n",
        "  else:\n",
        "    zero_point = int(round(zero_point))\n",
        "\n",
        "  return scale, zero_point"
      ],
      "metadata": {
        "id": "0PKCPvh3DLnP"
      },
      "execution_count": null,
      "outputs": []
    },
    {
      "cell_type": "code",
      "source": [
        "scale, zero_point = get_scale_and_zero_point(sample_tensor)"
      ],
      "metadata": {
        "id": "BWMkL4CLEp4f"
      },
      "execution_count": null,
      "outputs": []
    },
    {
      "cell_type": "code",
      "source": [
        "scale, zero_point"
      ],
      "metadata": {
        "colab": {
          "base_uri": "https://localhost:8080/"
        },
        "id": "DPr1UAQREzr_",
        "outputId": "c8624eb0-5fa2-409f-8b15-7c8d1a72b57b"
      },
      "execution_count": null,
      "outputs": [
        {
          "output_type": "execute_result",
          "data": {
            "text/plain": [
              "(3.578823433670343, -77)"
            ]
          },
          "metadata": {},
          "execution_count": 16
        }
      ]
    },
    {
      "cell_type": "code",
      "source": [
        "# quantization\n",
        "quantized_tensor = linear_quantization_with_scale_and_zero_point(sample_tensor, scale, zero_point)\n",
        "dequantized_tensor = linear_dequantization_with_scale_and_zero_point(quantized_tensor, scale, zero_point)\n",
        "sample_tensor, quantized_tensor, dequantized_tensor"
      ],
      "metadata": {
        "colab": {
          "base_uri": "https://localhost:8080/"
        },
        "id": "m67YKpA2Ez-a",
        "outputId": "2f9c9f99-6278-48b1-faf9-0df3221b666f"
      },
      "execution_count": null,
      "outputs": [
        {
          "output_type": "execute_result",
          "data": {
            "text/plain": [
              "(tensor([[ 191.6000,  -13.5000,  728.6000],\n",
              "         [  92.1400,  295.5000, -184.0000],\n",
              "         [   0.0000,  684.6000,  245.5000]]),\n",
              " tensor([[ -23,  -81,  127],\n",
              "         [ -51,    6, -128],\n",
              "         [ -77,  114,   -8]], dtype=torch.int8),\n",
              " tensor([[ 193.2565,  -14.3153,  730.0800],\n",
              "         [  93.0494,  297.0423, -182.5200],\n",
              "         [   0.0000,  683.5552,  246.9388]]))"
            ]
          },
          "metadata": {},
          "execution_count": 17
        }
      ]
    },
    {
      "cell_type": "code",
      "source": [
        "quantization_error = (dequantized_tensor - sample_tensor).square().mean()\n",
        "quantization_error"
      ],
      "metadata": {
        "colab": {
          "base_uri": "https://localhost:8080/"
        },
        "id": "nN_AT3WZFTWZ",
        "outputId": "9eedd3e0-a6bb-41fe-8dfc-e6a15310e555"
      },
      "execution_count": null,
      "outputs": [
        {
          "output_type": "execute_result",
          "data": {
            "text/plain": [
              "tensor(1.5730)"
            ]
          },
          "metadata": {},
          "execution_count": 18
        }
      ]
    },
    {
      "cell_type": "markdown",
      "source": [
        "## Linear quantizer"
      ],
      "metadata": {
        "id": "nXFxFYSqFj0p"
      }
    },
    {
      "cell_type": "code",
      "source": [
        "def linear_quantization(tensor, dtype=torch.int8):\n",
        "  scale, zero_point = get_scale_and_zero_point(tensor)\n",
        "  quantized_tensor = linear_quantization_with_scale_and_zero_point(tensor, scale, zero_point)\n",
        "  return quantized_tensor, scale, zero_point"
      ],
      "metadata": {
        "id": "GcPBJFNaFcRD"
      },
      "execution_count": null,
      "outputs": []
    },
    {
      "cell_type": "code",
      "source": [
        "test_tensor = torch.randn((4,4))\n",
        "test_tensor"
      ],
      "metadata": {
        "colab": {
          "base_uri": "https://localhost:8080/"
        },
        "id": "ljw-i1LIGJcZ",
        "outputId": "c3fd89e2-f5d8-49ca-9eb6-45c47d21da3a"
      },
      "execution_count": null,
      "outputs": [
        {
          "output_type": "execute_result",
          "data": {
            "text/plain": [
              "tensor([[-1.1377,  1.2975,  0.5796, -1.1617],\n",
              "        [ 1.7812, -0.1997,  0.7769,  0.7538],\n",
              "        [-0.7402, -0.8930, -0.5111, -0.7521],\n",
              "        [ 0.8354,  1.6310,  0.1411, -0.0541]])"
            ]
          },
          "metadata": {},
          "execution_count": 20
        }
      ]
    },
    {
      "cell_type": "code",
      "source": [
        "quantized_tensor"
      ],
      "metadata": {
        "colab": {
          "base_uri": "https://localhost:8080/"
        },
        "id": "yukdNju8TJWG",
        "outputId": "0903ff1c-150e-459b-e917-d418a0ee381d"
      },
      "execution_count": null,
      "outputs": [
        {
          "output_type": "execute_result",
          "data": {
            "text/plain": [
              "tensor([[ -23,  -81,  127],\n",
              "        [ -51,    6, -128],\n",
              "        [ -77,  114,   -8]], dtype=torch.int8)"
            ]
          },
          "metadata": {},
          "execution_count": 21
        }
      ]
    },
    {
      "cell_type": "code",
      "source": [
        "quantized_tensor, scale, zero_point = linear_quantization(test_tensor)\n",
        "dequantized_tensor = linear_dequantization_with_scale_and_zero_point(quantized_tensor, scale, zero_point)\n",
        "test_tensor, quantized_tensor, dequantized_tensor"
      ],
      "metadata": {
        "colab": {
          "base_uri": "https://localhost:8080/"
        },
        "id": "l-r3CiblGOnS",
        "outputId": "a4368d41-6b63-4d08-bbcd-efe8ee1bd4bb"
      },
      "execution_count": null,
      "outputs": [
        {
          "output_type": "execute_result",
          "data": {
            "text/plain": [
              "(tensor([[-1.1377,  1.2975,  0.5796, -1.1617],\n",
              "         [ 1.7812, -0.1997,  0.7769,  0.7538],\n",
              "         [-0.7402, -0.8930, -0.5111, -0.7521],\n",
              "         [ 0.8354,  1.6310,  0.1411, -0.0541]]),\n",
              " tensor([[-77, -77, -77, -77],\n",
              "         [-77, -77, -77, -77],\n",
              "         [-77, -77, -77, -77],\n",
              "         [-77, -77, -77, -77]], dtype=torch.int8),\n",
              " tensor([[0., 0., 0., 0.],\n",
              "         [0., 0., 0., 0.],\n",
              "         [0., 0., 0., 0.],\n",
              "         [0., 0., 0., 0.]]))"
            ]
          },
          "metadata": {},
          "execution_count": 22
        }
      ]
    },
    {
      "cell_type": "code",
      "source": [
        "quantization_error=(dequantized_tensor - test_tensor).square().mean()\n",
        "quantization_error"
      ],
      "metadata": {
        "colab": {
          "base_uri": "https://localhost:8080/"
        },
        "id": "PAW46X1XG-Cl",
        "outputId": "cca50752-98a3-4bf6-ea71-9530c61e2894"
      },
      "execution_count": null,
      "outputs": [
        {
          "output_type": "execute_result",
          "data": {
            "text/plain": [
              "tensor(0.9125)"
            ]
          },
          "metadata": {},
          "execution_count": 23
        }
      ]
    },
    {
      "cell_type": "code",
      "source": [
        "class linear_quantizer:\n",
        "  def __init__(self, dtype=torch.int8):\n",
        "    self.dtype = dtype\n",
        "\n",
        "  def linear_quantization(self, tensor):\n",
        "    scale, zero_point = get_scale_and_zero_point(tensor)\n",
        "    quantized_tensor = linear_quantization_with_scale_and_zero_point(tensor, scale, zero_point)\n",
        "    return quantized_tensor, scale, zero_point\n",
        "\n",
        "  def get_scale_and_zero_point(self, tensor):\n",
        "    q_min = torch.iinfo(self.dtype).min\n",
        "    q_max = torch.iinfo(self.dtype).max\n",
        "\n",
        "    r_min = tensor.min().item()\n",
        "    r_max = tensor.max().item()\n",
        "\n",
        "    scale = (r_max - r_min)/(q_max - q_min)\n",
        "    zero_point = q_min-(r_min/scale)\n",
        "\n",
        "    # clip the zero point to fall in the range\n",
        "    if zero_point < q_min:\n",
        "      zero_point = q_min\n",
        "    elif zero_point > q_max:\n",
        "      zero_point = q_max\n",
        "    else:\n",
        "      zero_point = int(round(zero_point))\n",
        "\n",
        "    return scale, zero_point\n",
        "\n",
        "  def linear_quantization_with_scale_and_zero_point(self, tensor, scale, zero_point):\n",
        "    scaled_tensor = (tensor/scale) + zero_point   # linear transformation\n",
        "    rounded_tensor = torch.round(scaled_tensor)\n",
        "\n",
        "    q_min = torch.iinfo(self.dtype).min #-128\n",
        "    q_max = torch.iinfo(self.dtype).max # 127\n",
        "\n",
        "    quantized_tensor = torch.clamp(rounded_tensor, q_min, q_max).to(self.dtype) # clipping outliers\n",
        "\n",
        "    return quantized_tensor\n",
        "\n"
      ],
      "metadata": {
        "id": "6-fhL-fyGVa3"
      },
      "execution_count": null,
      "outputs": []
    },
    {
      "cell_type": "code",
      "source": [
        "l_quantizer = linear_quantizer()\n",
        "q_tensor, scale, zero_point = l_quantizer.linear_quantization(test_tensor)"
      ],
      "metadata": {
        "id": "-v7Ua9E3SkSh"
      },
      "execution_count": null,
      "outputs": []
    },
    {
      "cell_type": "code",
      "source": [
        "deq_tensor = linear_dequantization_with_scale_and_zero_point(q_tensor, scale, zero_point)"
      ],
      "metadata": {
        "id": "cxb5WH1qTNtv"
      },
      "execution_count": null,
      "outputs": []
    },
    {
      "cell_type": "code",
      "source": [
        "quantization_error=(deq_tensor - test_tensor).square().mean()\n",
        "quantization_error"
      ],
      "metadata": {
        "colab": {
          "base_uri": "https://localhost:8080/"
        },
        "id": "7fuiS6itTCha",
        "outputId": "51e0a166-940f-4b43-a187-4299ceece5d0"
      },
      "execution_count": null,
      "outputs": [
        {
          "output_type": "execute_result",
          "data": {
            "text/plain": [
              "tensor(0.9125)"
            ]
          },
          "metadata": {},
          "execution_count": 27
        }
      ]
    },
    {
      "cell_type": "code",
      "source": [
        "test_tensor, q_tensor, deq_tensor"
      ],
      "metadata": {
        "colab": {
          "base_uri": "https://localhost:8080/"
        },
        "id": "eFE1SK_2Th7X",
        "outputId": "21f792a9-2029-43e0-9252-8037d8846425"
      },
      "execution_count": null,
      "outputs": [
        {
          "output_type": "execute_result",
          "data": {
            "text/plain": [
              "(tensor([[-1.1377,  1.2975,  0.5796, -1.1617],\n",
              "         [ 1.7812, -0.1997,  0.7769,  0.7538],\n",
              "         [-0.7402, -0.8930, -0.5111, -0.7521],\n",
              "         [ 0.8354,  1.6310,  0.1411, -0.0541]]),\n",
              " tensor([[-77, -77, -77, -77],\n",
              "         [-77, -77, -77, -77],\n",
              "         [-77, -77, -77, -77],\n",
              "         [-77, -77, -77, -77]], dtype=torch.int8),\n",
              " tensor([[0., 0., 0., 0.],\n",
              "         [0., 0., 0., 0.],\n",
              "         [0., 0., 0., 0.],\n",
              "         [0., 0., 0., 0.]]))"
            ]
          },
          "metadata": {},
          "execution_count": 28
        }
      ]
    },
    {
      "cell_type": "code",
      "source": [
        "scale, zero_point"
      ],
      "metadata": {
        "colab": {
          "base_uri": "https://localhost:8080/"
        },
        "id": "jfdG4H7OUk33",
        "outputId": "e0c78f56-b920-4cea-df9d-739cdcd92d14"
      },
      "execution_count": null,
      "outputs": [
        {
          "output_type": "execute_result",
          "data": {
            "text/plain": [
              "(3.578823433670343, -77)"
            ]
          },
          "metadata": {},
          "execution_count": 29
        }
      ]
    },
    {
      "cell_type": "code",
      "source": [
        "quantization_error=(dequantized_tensor - test_tensor).square().mean()\n",
        "quantization_error"
      ],
      "metadata": {
        "id": "3bhEysXbGtCC",
        "colab": {
          "base_uri": "https://localhost:8080/"
        },
        "outputId": "bd0b41b9-5e10-452a-9af0-f696c5f36b38"
      },
      "execution_count": null,
      "outputs": [
        {
          "output_type": "execute_result",
          "data": {
            "text/plain": [
              "tensor(0.9125)"
            ]
          },
          "metadata": {},
          "execution_count": 30
        }
      ]
    },
    {
      "cell_type": "markdown",
      "source": [
        "\n",
        "\n",
        "---\n",
        "\n"
      ],
      "metadata": {
        "id": "gc2Hoi0uIAE8"
      }
    },
    {
      "cell_type": "markdown",
      "source": [
        "### Symmetric mode"
      ],
      "metadata": {
        "id": "X8ryxslXIecr"
      }
    },
    {
      "cell_type": "code",
      "source": [
        "test_tensor.abs().max().item()"
      ],
      "metadata": {
        "colab": {
          "base_uri": "https://localhost:8080/"
        },
        "id": "5C_ZpVyLHGAs",
        "outputId": "36e56bc8-d1ef-47b7-8aa1-53d0b663c3ec"
      },
      "execution_count": null,
      "outputs": [
        {
          "output_type": "execute_result",
          "data": {
            "text/plain": [
              "1.7811648845672607"
            ]
          },
          "metadata": {},
          "execution_count": 31
        }
      ]
    },
    {
      "cell_type": "code",
      "source": [
        "def get_symmetric_scale(tensor, dtype= torch.int8):\n",
        "  r_max = tensor.abs().max().item()\n",
        "  q_max = torch.iinfo(torch.int8).max\n",
        "  scale = r_max/q_max\n",
        "  return scale\n"
      ],
      "metadata": {
        "id": "joRcmdeRInm9"
      },
      "execution_count": null,
      "outputs": []
    },
    {
      "cell_type": "code",
      "source": [
        "get_symmetric_scale(test_tensor)"
      ],
      "metadata": {
        "colab": {
          "base_uri": "https://localhost:8080/"
        },
        "id": "ReKXVsWFJU88",
        "outputId": "f0e30668-f6d4-42e0-e0fc-fc912682f7f4"
      },
      "execution_count": null,
      "outputs": [
        {
          "output_type": "execute_result",
          "data": {
            "text/plain": [
              "0.014024920350923313"
            ]
          },
          "metadata": {},
          "execution_count": 33
        }
      ]
    },
    {
      "cell_type": "code",
      "source": [
        "def linear_symmetric_quantization(tensor, dtype=torch.int8):\n",
        "  scale = get_symmetric_scale(tensor)\n",
        "  zero_point = 0\n",
        "  quantized_tensor = linear_quantization_with_scale_and_zero_point(tensor, scale, zero_point=0)\n",
        "  return quantized_tensor, scale"
      ],
      "metadata": {
        "id": "CIYTp45dJX6i"
      },
      "execution_count": null,
      "outputs": []
    },
    {
      "cell_type": "markdown",
      "source": [
        "## This is a per tensor quantization"
      ],
      "metadata": {
        "id": "modSwnYoLZFJ"
      }
    },
    {
      "cell_type": "code",
      "source": [
        "quantized_tensor, scale = linear_symmetric_quantization(test_tensor)\n",
        "dequantized_tensor = linear_dequantization_with_scale_and_zero_point(quantized_tensor, scale, 0)"
      ],
      "metadata": {
        "id": "0MUUPOAPJ4F8"
      },
      "execution_count": null,
      "outputs": []
    },
    {
      "cell_type": "code",
      "source": [
        "test_tensor, quantized_tensor, dequantized_tensor"
      ],
      "metadata": {
        "colab": {
          "base_uri": "https://localhost:8080/"
        },
        "id": "eXovZ-1vJ_NZ",
        "outputId": "b6f656be-66d1-4cf6-eab8-5290818621bc"
      },
      "execution_count": null,
      "outputs": [
        {
          "output_type": "execute_result",
          "data": {
            "text/plain": [
              "(tensor([[-1.1377,  1.2975,  0.5796, -1.1617],\n",
              "         [ 1.7812, -0.1997,  0.7769,  0.7538],\n",
              "         [-0.7402, -0.8930, -0.5111, -0.7521],\n",
              "         [ 0.8354,  1.6310,  0.1411, -0.0541]]),\n",
              " tensor([[-81,  93,  41, -83],\n",
              "         [127, -14,  55,  54],\n",
              "         [-53, -64, -36, -54],\n",
              "         [ 60, 116,  10,  -4]], dtype=torch.int8),\n",
              " tensor([[-1.1360,  1.3043,  0.5750, -1.1641],\n",
              "         [ 1.7812, -0.1963,  0.7714,  0.7573],\n",
              "         [-0.7433, -0.8976, -0.5049, -0.7573],\n",
              "         [ 0.8415,  1.6269,  0.1402, -0.0561]]))"
            ]
          },
          "metadata": {},
          "execution_count": 36
        }
      ]
    },
    {
      "cell_type": "code",
      "source": [
        "quantization_error=(dequantized_tensor - test_tensor).square().mean()\n",
        "quantization_error"
      ],
      "metadata": {
        "colab": {
          "base_uri": "https://localhost:8080/"
        },
        "id": "stcA4YeLKU1c",
        "outputId": "cb857f9b-855a-49f3-8728-f29ced676037"
      },
      "execution_count": null,
      "outputs": [
        {
          "output_type": "execute_result",
          "data": {
            "text/plain": [
              "tensor(1.7827e-05)"
            ]
          },
          "metadata": {},
          "execution_count": 37
        }
      ]
    },
    {
      "cell_type": "code",
      "source": [
        "class symmetric_per_tensor_quantizer:\n",
        "  def __init__(self, dtype=torch.int8):\n",
        "    self.dtype = dtype\n",
        "\n",
        "  def linear_symmetric_quantization(self, tensor):\n",
        "    scale = get_symmetric_scale(tensor)\n",
        "    zero_point = 0\n",
        "    quantized_tensor = linear_quantization_with_scale_and_zero_point(tensor, scale, zero_point=0)\n",
        "    return quantized_tensor, scale\n",
        "\n",
        "  def get_symmetric_scale(self, tensor):\n",
        "    r_max = tensor.abs().max().item()\n",
        "    q_max = torch.iinfo(self.dtype).max\n",
        "    scale = r_max/q_max\n",
        "    return scale\n",
        "\n",
        "  def linear_quantization_with_scale_and_zero_point(self, tensor, scale, zero_point):\n",
        "    scaled_tensor = (tensor/scale) + zero_point   # linear transformation\n",
        "    rounded_tensor = torch.round(scaled_tensor)\n",
        "\n",
        "    q_min = torch.iinfo(self.dtype).min #-128\n",
        "    q_max = torch.iinfo(self.dtype).max # 127\n",
        "\n",
        "    quantized_tensor = torch.clamp(rounded_tensor, q_min, q_max).to(self.dtype) # clipping outliers\n",
        "\n",
        "    return quantized_tensor\n",
        "\n"
      ],
      "metadata": {
        "id": "dXonYrKhYR-m"
      },
      "execution_count": null,
      "outputs": []
    },
    {
      "cell_type": "code",
      "source": [
        "sym_quantizer = symmetric_per_tensor_quantizer()\n",
        "quantized_tensor, scale =sym_quantizer.linear_symmetric_quantization(test_tensor)\n",
        "quantized_tensor, scale"
      ],
      "metadata": {
        "colab": {
          "base_uri": "https://localhost:8080/"
        },
        "id": "DOzO4r4ZZoOH",
        "outputId": "61b8a0f1-2414-4c1b-ef99-00e172ee6f8e"
      },
      "execution_count": null,
      "outputs": [
        {
          "output_type": "execute_result",
          "data": {
            "text/plain": [
              "(tensor([[-81,  93,  41, -83],\n",
              "         [127, -14,  55,  54],\n",
              "         [-53, -64, -36, -54],\n",
              "         [ 60, 116,  10,  -4]], dtype=torch.int8),\n",
              " 0.014024920350923313)"
            ]
          },
          "metadata": {},
          "execution_count": 39
        }
      ]
    },
    {
      "cell_type": "code",
      "source": [
        "dequantized_tensor = linear_dequantization_with_scale_and_zero_point(quantized_tensor, scale, 0)\n",
        "dequantized_tensor"
      ],
      "metadata": {
        "colab": {
          "base_uri": "https://localhost:8080/"
        },
        "id": "99GnaZzMaNDX",
        "outputId": "94475e3e-fa8b-4cfb-e3e0-b8eda216ee05"
      },
      "execution_count": null,
      "outputs": [
        {
          "output_type": "execute_result",
          "data": {
            "text/plain": [
              "tensor([[-1.1360,  1.3043,  0.5750, -1.1641],\n",
              "        [ 1.7812, -0.1963,  0.7714,  0.7573],\n",
              "        [-0.7433, -0.8976, -0.5049, -0.7573],\n",
              "        [ 0.8415,  1.6269,  0.1402, -0.0561]])"
            ]
          },
          "metadata": {},
          "execution_count": 40
        }
      ]
    },
    {
      "cell_type": "code",
      "source": [
        "quantization_error=(dequantized_tensor - test_tensor).square().mean()\n",
        "quantization_error"
      ],
      "metadata": {
        "colab": {
          "base_uri": "https://localhost:8080/"
        },
        "id": "r8AQBZeHaUvh",
        "outputId": "2bc61ca8-31cd-45d0-a3b9-3c2ea09e8caa"
      },
      "execution_count": null,
      "outputs": [
        {
          "output_type": "execute_result",
          "data": {
            "text/plain": [
              "tensor(1.7827e-05)"
            ]
          },
          "metadata": {},
          "execution_count": 41
        }
      ]
    },
    {
      "cell_type": "markdown",
      "source": [
        "\n",
        "\n",
        "---\n",
        "\n"
      ],
      "metadata": {
        "id": "QHN_sYD9LBKJ"
      }
    },
    {
      "cell_type": "markdown",
      "source": [
        "## This is a per channel quantization"
      ],
      "metadata": {
        "id": "B2Hvkz8JLwZv"
      }
    },
    {
      "cell_type": "code",
      "source": [
        "sample_tensor"
      ],
      "metadata": {
        "colab": {
          "base_uri": "https://localhost:8080/"
        },
        "id": "FFO9WRePq4So",
        "outputId": "8a0d7eca-c7bb-4e44-ce02-4d4df588d30f"
      },
      "execution_count": null,
      "outputs": [
        {
          "output_type": "execute_result",
          "data": {
            "text/plain": [
              "tensor([[ 191.6000,  -13.5000,  728.6000],\n",
              "        [  92.1400,  295.5000, -184.0000],\n",
              "        [   0.0000,  684.6000,  245.5000]])"
            ]
          },
          "metadata": {},
          "execution_count": 42
        }
      ]
    },
    {
      "cell_type": "code",
      "source": [
        "dim = 0 # along the rows\n",
        "sample_tensor.shape[dim]"
      ],
      "metadata": {
        "colab": {
          "base_uri": "https://localhost:8080/"
        },
        "id": "8PJcuquwq_TP",
        "outputId": "8e426817-38db-4496-dabb-8d2370519cf7"
      },
      "execution_count": null,
      "outputs": [
        {
          "output_type": "execute_result",
          "data": {
            "text/plain": [
              "3"
            ]
          },
          "metadata": {},
          "execution_count": 43
        }
      ]
    },
    {
      "cell_type": "code",
      "source": [
        "def linear_per_channel_quantization(tensor, dim, dtype=torch.int8):\n",
        "  output_dim = tensor.shape[dim]\n",
        "  scale = torch.zeros(output_dim)\n",
        "\n",
        "  for i in range(output_dim):\n",
        "    sub_tensor = tensor.select(dim, i)\n",
        "    scale[i] = get_symmetric_scale(sub_tensor)\n",
        "\n",
        "  scale_shape = [1]* tensor.dim()\n",
        "  scale_shape[dim] = -1\n",
        "  scale = scale.view(scale_shape)\n",
        "  quantized_tensor = linear_quantization_with_scale_and_zero_point(tensor, scale, zero_point=0)\n",
        "  return quantized_tensor, scale\n"
      ],
      "metadata": {
        "id": "nrOWs9nJK3Zh"
      },
      "execution_count": null,
      "outputs": []
    },
    {
      "cell_type": "code",
      "source": [
        "test_tensor"
      ],
      "metadata": {
        "colab": {
          "base_uri": "https://localhost:8080/"
        },
        "id": "YA-2VciZzYn_",
        "outputId": "2b0d340c-51aa-47ac-df5a-b7240777d986"
      },
      "execution_count": null,
      "outputs": [
        {
          "output_type": "execute_result",
          "data": {
            "text/plain": [
              "tensor([[-1.1377,  1.2975,  0.5796, -1.1617],\n",
              "        [ 1.7812, -0.1997,  0.7769,  0.7538],\n",
              "        [-0.7402, -0.8930, -0.5111, -0.7521],\n",
              "        [ 0.8354,  1.6310,  0.1411, -0.0541]])"
            ]
          },
          "metadata": {},
          "execution_count": 45
        }
      ]
    },
    {
      "cell_type": "code",
      "source": [
        "quantized_tensor_0 , scale_0 = linear_per_channel_quantization(test_tensor, dim=0)\n",
        "quantized_tensor_0 , scale_0"
      ],
      "metadata": {
        "colab": {
          "base_uri": "https://localhost:8080/"
        },
        "id": "B5K2JYm-qkmX",
        "outputId": "fa8177bf-4d39-44e5-9ad7-bd9559018500"
      },
      "execution_count": null,
      "outputs": [
        {
          "output_type": "execute_result",
          "data": {
            "text/plain": [
              "(tensor([[-111,  127,   57, -114],\n",
              "         [ 127,  -14,   55,   54],\n",
              "         [-105, -127,  -73, -107],\n",
              "         [  65,  127,   11,   -4]], dtype=torch.int8),\n",
              " tensor([[0.0102],\n",
              "         [0.0140],\n",
              "         [0.0070],\n",
              "         [0.0128]]))"
            ]
          },
          "metadata": {},
          "execution_count": 46
        }
      ]
    },
    {
      "cell_type": "code",
      "source": [
        "dequantized_tensor_0 = linear_dequantization_with_scale_and_zero_point(quantized_tensor_0, scale_0, zero_point=0)\n",
        "quantization_error = (dequantized_tensor_0-test_tensor).square().mean()\n",
        "quantization_error"
      ],
      "metadata": {
        "colab": {
          "base_uri": "https://localhost:8080/"
        },
        "id": "ZSyt4xO3zxGp",
        "outputId": "0b62068a-e336-4a1d-8beb-95c52ac04d2a"
      },
      "execution_count": null,
      "outputs": [
        {
          "output_type": "execute_result",
          "data": {
            "text/plain": [
              "tensor(6.3167e-06)"
            ]
          },
          "metadata": {},
          "execution_count": 47
        }
      ]
    },
    {
      "cell_type": "code",
      "source": [
        "quantized_tensor_1 , scale_1 = linear_per_channel_quantization(test_tensor, dim=1)\n",
        "quantized_tensor_1 , scale_1"
      ],
      "metadata": {
        "colab": {
          "base_uri": "https://localhost:8080/"
        },
        "id": "COfOEVrXzSSH",
        "outputId": "9cad68aa-c2c3-4ca0-8449-0b385a84bcf1"
      },
      "execution_count": null,
      "outputs": [
        {
          "output_type": "execute_result",
          "data": {
            "text/plain": [
              "(tensor([[ -81,  101,   95, -127],\n",
              "         [ 127,  -16,  127,   82],\n",
              "         [ -53,  -70,  -84,  -82],\n",
              "         [  60,  127,   23,   -6]], dtype=torch.int8),\n",
              " tensor([[0.0140, 0.0128, 0.0061, 0.0091]]))"
            ]
          },
          "metadata": {},
          "execution_count": 48
        }
      ]
    },
    {
      "cell_type": "code",
      "source": [
        "dequantized_tensor_1 = linear_dequantization_with_scale_and_zero_point(quantized_tensor_1, scale_1, zero_point=0)\n",
        "quantization_error = (dequantized_tensor_1 - test_tensor).square().mean()\n",
        "quantization_error"
      ],
      "metadata": {
        "colab": {
          "base_uri": "https://localhost:8080/"
        },
        "id": "7SmvBe6ezli4",
        "outputId": "ce36277f-b9e0-4b41-8dc2-c56406934665"
      },
      "execution_count": null,
      "outputs": [
        {
          "output_type": "execute_result",
          "data": {
            "text/plain": [
              "tensor(9.1553e-06)"
            ]
          },
          "metadata": {},
          "execution_count": 49
        }
      ]
    },
    {
      "cell_type": "code",
      "source": [
        "class per_channel_quantizer:\n",
        "  def __init__(self, dtype=torch.int8):\n",
        "    self.dtype = dtype\n",
        "\n",
        "  def linear_per_channel_quantization(self, tensor, dim):\n",
        "    output_dim = tensor.shape[dim]\n",
        "    scale = torch.zeros(output_dim)\n",
        "\n",
        "    for i in range(output_dim):\n",
        "      sub_tensor = tensor.select(dim, i)\n",
        "      scale[i] = self.get_symmetric_scale(sub_tensor)\n",
        "\n",
        "    scale_shape = [1]* tensor.dim()\n",
        "    scale_shape[dim] = -1\n",
        "    scale = scale.view(scale_shape)\n",
        "    quantized_tensor = self.linear_quantization_with_scale_and_zero_point(tensor, scale, zero_point=0)\n",
        "    return quantized_tensor, scale\n",
        "\n",
        "  def get_symmetric_scale(self, tensor):\n",
        "    r_max = tensor.abs().max().item()\n",
        "    q_max = torch.iinfo(self.dtype).max\n",
        "    scale = r_max/q_max\n",
        "    return scale\n",
        "\n",
        "  def linear_quantization_with_scale_and_zero_point(self, tensor, scale, zero_point):\n",
        "    scaled_tensor = (tensor/scale) + zero_point   # linear transformation\n",
        "    rounded_tensor = torch.round(scaled_tensor)\n",
        "\n",
        "    q_min = torch.iinfo(self.dtype).min #-128\n",
        "    q_max = torch.iinfo(self.dtype).max # 127\n",
        "\n",
        "    quantized_tensor = torch.clamp(rounded_tensor, q_min, q_max).to(self.dtype) # clipping outliers\n",
        "\n",
        "    return quantized_tensor\n",
        "\n"
      ],
      "metadata": {
        "id": "KNxRp98Y0M-S"
      },
      "execution_count": null,
      "outputs": []
    },
    {
      "cell_type": "code",
      "source": [
        "per_c_quantizer = per_channel_quantizer()\n",
        "quantized_tensor , scale = per_c_quantizer.linear_per_channel_quantization(test_tensor, dim=0)\n",
        "quantized_tensor , scale"
      ],
      "metadata": {
        "colab": {
          "base_uri": "https://localhost:8080/"
        },
        "id": "SJknmfc_c2-e",
        "outputId": "912dd727-51ba-456a-e96f-0d3ca2ca7742"
      },
      "execution_count": null,
      "outputs": [
        {
          "output_type": "execute_result",
          "data": {
            "text/plain": [
              "(tensor([[-111,  127,   57, -114],\n",
              "         [ 127,  -14,   55,   54],\n",
              "         [-105, -127,  -73, -107],\n",
              "         [  65,  127,   11,   -4]], dtype=torch.int8),\n",
              " tensor([[0.0102],\n",
              "         [0.0140],\n",
              "         [0.0070],\n",
              "         [0.0128]]))"
            ]
          },
          "metadata": {},
          "execution_count": 51
        }
      ]
    },
    {
      "cell_type": "code",
      "source": [
        "dequantized_tensor = linear_dequantization_with_scale_and_zero_point(quantized_tensor_0, scale_0, zero_point=0)\n",
        "dequantized_tensor"
      ],
      "metadata": {
        "colab": {
          "base_uri": "https://localhost:8080/"
        },
        "id": "MU3STbk9dEyI",
        "outputId": "99b33f07-7107-49de-e80e-6ae685c87760"
      },
      "execution_count": null,
      "outputs": [
        {
          "output_type": "execute_result",
          "data": {
            "text/plain": [
              "tensor([[-1.1340,  1.2975,  0.5823, -1.1647],\n",
              "        [ 1.7812, -0.1963,  0.7714,  0.7573],\n",
              "        [-0.7383, -0.8930, -0.5133, -0.7524],\n",
              "        [ 0.8347,  1.6310,  0.1413, -0.0514]])"
            ]
          },
          "metadata": {},
          "execution_count": 52
        }
      ]
    },
    {
      "cell_type": "code",
      "source": [
        "quantization_error = (dequantized_tensor - test_tensor).square().mean()\n",
        "quantization_error"
      ],
      "metadata": {
        "colab": {
          "base_uri": "https://localhost:8080/"
        },
        "id": "koM8qswsdLoO",
        "outputId": "f93279d0-02c6-4a77-dae2-71936e14c3dd"
      },
      "execution_count": null,
      "outputs": [
        {
          "output_type": "execute_result",
          "data": {
            "text/plain": [
              "tensor(6.3167e-06)"
            ]
          },
          "metadata": {},
          "execution_count": 53
        }
      ]
    },
    {
      "cell_type": "markdown",
      "source": [
        "\n",
        "\n",
        "---\n",
        "\n"
      ],
      "metadata": {
        "id": "ax_VIas-0Po9"
      }
    },
    {
      "cell_type": "markdown",
      "source": [
        "## This is a per group quantization"
      ],
      "metadata": {
        "id": "2hgGh9Qz0tuD"
      }
    },
    {
      "cell_type": "code",
      "source": [
        "def linear_per_group_quantization(tensor, group_size, dtype=torch.int8):\n",
        "  tensor_shape = tensor.shape\n",
        "  assert tensor_shape[1]% group_size == 0\n",
        "  assert tensor.dim() == 2\n",
        "\n",
        "  tensor = tensor.view(-1, group_size)\n",
        "  quantized_tensor, scale = linear_per_channel_quantization(tensor, dim=0)\n",
        "\n",
        "  quantized_tensor = quantized_tensor.view(tensor_shape)\n",
        "  return quantized_tensor, scale"
      ],
      "metadata": {
        "id": "4tnOcrSx0QG9"
      },
      "execution_count": null,
      "outputs": []
    },
    {
      "cell_type": "code",
      "source": [
        "def linear_per_group_dequantization(quantized_tensor, scale, group_size):\n",
        "  quantized_tensor_shape = quantized_tensor.shape\n",
        "  quantized_tensor = quantized_tensor.view(-1, group_size)\n",
        "  dequantized_tensor = linear_dequantization_with_scale_and_zero_point(quantized_tensor, scale, 0)\n",
        "  dequantized_tensor = dequantized_tensor.view(quantized_tensor_shape)\n",
        "  return dequantized_tensor\n"
      ],
      "metadata": {
        "id": "_Rek7SJl2niw"
      },
      "execution_count": null,
      "outputs": []
    },
    {
      "cell_type": "code",
      "source": [
        "test_tensor = torch.rand((6,6))\n",
        "test_tensor"
      ],
      "metadata": {
        "colab": {
          "base_uri": "https://localhost:8080/"
        },
        "id": "BRL4Zj313dR7",
        "outputId": "b887c257-6f5f-44fe-ddc5-19353e9bcd5c"
      },
      "execution_count": null,
      "outputs": [
        {
          "output_type": "execute_result",
          "data": {
            "text/plain": [
              "tensor([[0.7977, 0.8257, 0.5962, 0.5998, 0.6907, 0.8333],\n",
              "        [0.3198, 0.5195, 0.7537, 0.2716, 0.0857, 0.2507],\n",
              "        [0.3562, 0.8249, 0.0028, 0.7432, 0.0482, 0.0051],\n",
              "        [0.4960, 0.7146, 0.3630, 0.5088, 0.8020, 0.1363],\n",
              "        [0.8739, 0.4375, 0.0498, 0.5100, 0.7065, 0.9855],\n",
              "        [0.3782, 0.5187, 0.7559, 0.3816, 0.2202, 0.1814]])"
            ]
          },
          "metadata": {},
          "execution_count": 56
        }
      ]
    },
    {
      "cell_type": "code",
      "source": [
        "test_tensor"
      ],
      "metadata": {
        "colab": {
          "base_uri": "https://localhost:8080/"
        },
        "id": "TAv8Dti2eMKw",
        "outputId": "6dae221a-02ad-4c5f-c40a-a1c83f1c5359"
      },
      "execution_count": null,
      "outputs": [
        {
          "output_type": "execute_result",
          "data": {
            "text/plain": [
              "tensor([[0.7977, 0.8257, 0.5962, 0.5998, 0.6907, 0.8333],\n",
              "        [0.3198, 0.5195, 0.7537, 0.2716, 0.0857, 0.2507],\n",
              "        [0.3562, 0.8249, 0.0028, 0.7432, 0.0482, 0.0051],\n",
              "        [0.4960, 0.7146, 0.3630, 0.5088, 0.8020, 0.1363],\n",
              "        [0.8739, 0.4375, 0.0498, 0.5100, 0.7065, 0.9855],\n",
              "        [0.3782, 0.5187, 0.7559, 0.3816, 0.2202, 0.1814]])"
            ]
          },
          "metadata": {},
          "execution_count": 57
        }
      ]
    },
    {
      "cell_type": "code",
      "source": [
        "group_size = 2\n",
        "quantized_tensor, scale = linear_per_group_quantization(test_tensor, group_size)\n",
        "dequantized_tensor = linear_per_group_dequantization(quantized_tensor, scale, group_size)\n",
        "quantized_tensor, scale, dequantized_tensor"
      ],
      "metadata": {
        "colab": {
          "base_uri": "https://localhost:8080/"
        },
        "id": "3gVMKlDG3tfr",
        "outputId": "c1c389cd-6404-4d92-ac12-7c5360684c36"
      },
      "execution_count": null,
      "outputs": [
        {
          "output_type": "execute_result",
          "data": {
            "text/plain": [
              "(tensor([[123, 127, 126, 127, 105, 127],\n",
              "         [ 78, 127, 127,  46,  43, 127],\n",
              "         [ 55, 127,   0, 127, 127,  13],\n",
              "         [ 88, 127,  91, 127, 127,  22],\n",
              "         [127,  64,  12, 127,  91, 127],\n",
              "         [ 93, 127, 127,  64, 127, 105]], dtype=torch.int8),\n",
              " tensor([[0.0065],\n",
              "         [0.0047],\n",
              "         [0.0066],\n",
              "         [0.0041],\n",
              "         [0.0059],\n",
              "         [0.0020],\n",
              "         [0.0065],\n",
              "         [0.0059],\n",
              "         [0.0004],\n",
              "         [0.0056],\n",
              "         [0.0040],\n",
              "         [0.0063],\n",
              "         [0.0069],\n",
              "         [0.0040],\n",
              "         [0.0078],\n",
              "         [0.0041],\n",
              "         [0.0060],\n",
              "         [0.0017]]),\n",
              " tensor([[0.7997, 0.8257, 0.5951, 0.5998, 0.6890, 0.8333],\n",
              "         [0.3190, 0.5195, 0.7537, 0.2730, 0.0849, 0.2507],\n",
              "         [0.3572, 0.8249, 0.0000, 0.7432, 0.0482, 0.0049],\n",
              "         [0.4951, 0.7146, 0.3646, 0.5088, 0.8020, 0.1389],\n",
              "         [0.8739, 0.4404, 0.0482, 0.5100, 0.7062, 0.9855],\n",
              "         [0.3798, 0.5187, 0.7559, 0.3809, 0.2202, 0.1821]]))"
            ]
          },
          "metadata": {},
          "execution_count": 58
        }
      ]
    },
    {
      "cell_type": "code",
      "source": [
        "quantization_error = (dequantized_tensor - test_tensor).square().mean()\n",
        "quantization_error"
      ],
      "metadata": {
        "colab": {
          "base_uri": "https://localhost:8080/"
        },
        "id": "84NZiaTg4H7G",
        "outputId": "e8f63620-6a2d-405b-bfca-022e5b230e87"
      },
      "execution_count": null,
      "outputs": [
        {
          "output_type": "execute_result",
          "data": {
            "text/plain": [
              "tensor(1.2599e-06)"
            ]
          },
          "metadata": {},
          "execution_count": 59
        }
      ]
    },
    {
      "cell_type": "code",
      "source": [
        "class per_group_quantizer:\n",
        "  def __init__(self, dtype=torch.int8):\n",
        "    self.dtype = dtype\n",
        "\n",
        "  def linear_per_group_quantization(self, tensor, group_size):\n",
        "    tensor_shape = tensor.shape\n",
        "    assert tensor_shape[1]% group_size == 0\n",
        "    assert tensor.dim() == 2\n",
        "\n",
        "    tensor = tensor.view(-1, group_size)\n",
        "    quantized_tensor, scale = self.linear_per_channel_quantization(tensor, dim=0)\n",
        "\n",
        "    quantized_tensor = quantized_tensor.view(tensor_shape)\n",
        "    return quantized_tensor, scale\n",
        "\n",
        "  def linear_per_channel_quantization(self, tensor, dim):\n",
        "    output_dim = tensor.shape[dim]\n",
        "    scale = torch.zeros(output_dim)\n",
        "\n",
        "    for i in range(output_dim):\n",
        "      sub_tensor = tensor.select(dim, i)\n",
        "      scale[i] = self.get_symmetric_scale(sub_tensor)\n",
        "\n",
        "    scale_shape = [1]* tensor.dim()\n",
        "    scale_shape[dim] = -1\n",
        "    scale = scale.view(scale_shape)\n",
        "    quantized_tensor = self.linear_quantization_with_scale_and_zero_point(tensor, scale, zero_point=0)\n",
        "    return quantized_tensor, scale\n",
        "\n",
        "  def get_symmetric_scale(self, tensor):\n",
        "    r_max = tensor.abs().max().item()\n",
        "    q_max = torch.iinfo(self.dtype).max\n",
        "    scale = r_max/q_max\n",
        "    return scale\n",
        "\n",
        "  def linear_quantization_with_scale_and_zero_point(self, tensor, scale, zero_point):\n",
        "    scaled_tensor = (tensor/scale) + zero_point   # linear transformation\n",
        "    rounded_tensor = torch.round(scaled_tensor)\n",
        "\n",
        "    q_min = torch.iinfo(self.dtype).min #-128\n",
        "    q_max = torch.iinfo(self.dtype).max # 127\n",
        "\n",
        "    quantized_tensor = torch.clamp(rounded_tensor, q_min, q_max).to(self.dtype) # clipping outliers\n",
        "\n",
        "    return quantized_tensor\n",
        "\n",
        "\n"
      ],
      "metadata": {
        "id": "COYpfEnZeb5m"
      },
      "execution_count": null,
      "outputs": []
    },
    {
      "cell_type": "code",
      "source": [
        "  def linear_per_group_dequantization(quantized_tensor, scale, group_size):\n",
        "    quantized_tensor_shape = quantized_tensor.shape\n",
        "    quantized_tensor = quantized_tensor.view(-1, group_size)\n",
        "    dequantized_tensor = linear_dequantization_with_scale_and_zero_point(quantized_tensor, scale, 0)\n",
        "    dequantized_tensor = dequantized_tensor.view(quantized_tensor_shape)\n",
        "    return dequantized_tensor"
      ],
      "metadata": {
        "id": "90_uvI4hjbyb"
      },
      "execution_count": null,
      "outputs": []
    },
    {
      "cell_type": "code",
      "source": [
        "per_grp_quantizer = per_group_quantizer()\n"
      ],
      "metadata": {
        "id": "XOMnXmdii2E0"
      },
      "execution_count": null,
      "outputs": []
    },
    {
      "cell_type": "code",
      "source": [
        "group_size = 2\n",
        "quantized_tensor, scale = per_grp_quantizer.linear_per_group_quantization(test_tensor, group_size)\n",
        "quantized_tensor, scale"
      ],
      "metadata": {
        "colab": {
          "base_uri": "https://localhost:8080/"
        },
        "id": "JM_8Sc1wi17G",
        "outputId": "24d4d4ad-fde2-47a6-8b57-d3f45a525216"
      },
      "execution_count": null,
      "outputs": [
        {
          "output_type": "execute_result",
          "data": {
            "text/plain": [
              "(tensor([[123, 127, 126, 127, 105, 127],\n",
              "         [ 78, 127, 127,  46,  43, 127],\n",
              "         [ 55, 127,   0, 127, 127,  13],\n",
              "         [ 88, 127,  91, 127, 127,  22],\n",
              "         [127,  64,  12, 127,  91, 127],\n",
              "         [ 93, 127, 127,  64, 127, 105]], dtype=torch.int8),\n",
              " tensor([[0.0065],\n",
              "         [0.0047],\n",
              "         [0.0066],\n",
              "         [0.0041],\n",
              "         [0.0059],\n",
              "         [0.0020],\n",
              "         [0.0065],\n",
              "         [0.0059],\n",
              "         [0.0004],\n",
              "         [0.0056],\n",
              "         [0.0040],\n",
              "         [0.0063],\n",
              "         [0.0069],\n",
              "         [0.0040],\n",
              "         [0.0078],\n",
              "         [0.0041],\n",
              "         [0.0060],\n",
              "         [0.0017]]))"
            ]
          },
          "metadata": {},
          "execution_count": 63
        }
      ]
    },
    {
      "cell_type": "code",
      "source": [
        "dequantized_tensor = linear_per_group_dequantization(quantized_tensor, scale, group_size)\n",
        "dequantized_tensor"
      ],
      "metadata": {
        "colab": {
          "base_uri": "https://localhost:8080/"
        },
        "id": "3aGnYy4VjdUk",
        "outputId": "1648db8c-bfd9-459d-c423-fa5009078abe"
      },
      "execution_count": null,
      "outputs": [
        {
          "output_type": "execute_result",
          "data": {
            "text/plain": [
              "tensor([[0.7997, 0.8257, 0.5951, 0.5998, 0.6890, 0.8333],\n",
              "        [0.3190, 0.5195, 0.7537, 0.2730, 0.0849, 0.2507],\n",
              "        [0.3572, 0.8249, 0.0000, 0.7432, 0.0482, 0.0049],\n",
              "        [0.4951, 0.7146, 0.3646, 0.5088, 0.8020, 0.1389],\n",
              "        [0.8739, 0.4404, 0.0482, 0.5100, 0.7062, 0.9855],\n",
              "        [0.3798, 0.5187, 0.7559, 0.3809, 0.2202, 0.1821]])"
            ]
          },
          "metadata": {},
          "execution_count": 64
        }
      ]
    },
    {
      "cell_type": "code",
      "source": [
        "quantization_error = (dequantized_tensor - test_tensor).square().mean()\n",
        "quantization_error"
      ],
      "metadata": {
        "colab": {
          "base_uri": "https://localhost:8080/"
        },
        "id": "zb81D4y_jlsM",
        "outputId": "710b6370-4b98-4d54-f206-796e23a23f26"
      },
      "execution_count": null,
      "outputs": [
        {
          "output_type": "execute_result",
          "data": {
            "text/plain": [
              "tensor(1.2599e-06)"
            ]
          },
          "metadata": {},
          "execution_count": 65
        }
      ]
    },
    {
      "cell_type": "markdown",
      "source": [
        "\n",
        "\n",
        "---\n",
        "\n"
      ],
      "metadata": {
        "id": "2DxrXH8eMSxU"
      }
    },
    {
      "cell_type": "markdown",
      "source": [
        "## Quantizing weights and activations for inference"
      ],
      "metadata": {
        "id": "Un12SMutMV3T"
      }
    },
    {
      "cell_type": "code",
      "source": [
        "def quantized_linear_w8A32_layer_without_bias(input_activations, quantized_weights, scale, zero_point):\n",
        "  assert input_activations.dtype == torch.float32\n",
        "  assert quantized_weights.dtype == torch.int8\n",
        "\n",
        "  dequantized_weights = scale*(quantized_weights.float() - zero_point)\n",
        "  output = torch.nn.functional.linear(input_activations, dequantized_weights)\n",
        "\n",
        "  return output"
      ],
      "metadata": {
        "id": "TUCfZECgdYrQ"
      },
      "execution_count": null,
      "outputs": []
    },
    {
      "cell_type": "code",
      "source": [
        "activations = torch.tensor([1,2,3], dtype=torch.float32)\n",
        "activations"
      ],
      "metadata": {
        "colab": {
          "base_uri": "https://localhost:8080/"
        },
        "id": "ZfxL-WnOeaq9",
        "outputId": "83a9721a-e673-4da8-e837-35c69c35ee02"
      },
      "execution_count": null,
      "outputs": [
        {
          "output_type": "execute_result",
          "data": {
            "text/plain": [
              "tensor([1., 2., 3.])"
            ]
          },
          "metadata": {},
          "execution_count": 67
        }
      ]
    },
    {
      "cell_type": "code",
      "source": [
        "weights = torch.tensor([[-2,   -1.13, 0.42],\n",
        "                       [-1.51, 0.25, 1.62],\n",
        "                       [0.23,  1.35, 2.15]])\n",
        "weights"
      ],
      "metadata": {
        "colab": {
          "base_uri": "https://localhost:8080/"
        },
        "id": "0O81w1eFejyC",
        "outputId": "169be4b7-4b46-4990-8f8e-9c502d6177e0"
      },
      "execution_count": null,
      "outputs": [
        {
          "output_type": "execute_result",
          "data": {
            "text/plain": [
              "tensor([[-2.0000, -1.1300,  0.4200],\n",
              "        [-1.5100,  0.2500,  1.6200],\n",
              "        [ 0.2300,  1.3500,  2.1500]])"
            ]
          },
          "metadata": {},
          "execution_count": 68
        }
      ]
    },
    {
      "cell_type": "code",
      "source": [
        "quantized_weights, scale = linear_symmetric_quantization(weights)\n",
        "quantized_weights, scale"
      ],
      "metadata": {
        "colab": {
          "base_uri": "https://localhost:8080/"
        },
        "id": "Hxb6SUu6fBwa",
        "outputId": "bf975bf8-e646-465f-bc30-9bc9f5c392d2"
      },
      "execution_count": null,
      "outputs": [
        {
          "output_type": "execute_result",
          "data": {
            "text/plain": [
              "(tensor([[-118,  -67,   25],\n",
              "         [ -89,   15,   96],\n",
              "         [  14,   80,  127]], dtype=torch.int8),\n",
              " 0.016929134609192376)"
            ]
          },
          "metadata": {},
          "execution_count": 69
        }
      ]
    },
    {
      "cell_type": "markdown",
      "source": [
        "output with quantization"
      ],
      "metadata": {
        "id": "ENk8OSH_kggR"
      }
    },
    {
      "cell_type": "code",
      "source": [
        "output = quantized_linear_w8A32_layer_without_bias(activations, quantized_weights, scale, 0)\n",
        "output"
      ],
      "metadata": {
        "colab": {
          "base_uri": "https://localhost:8080/"
        },
        "id": "xqOYlGqQfO2o",
        "outputId": "370f589c-7dbb-4170-aa0b-79f9b9866151"
      },
      "execution_count": null,
      "outputs": [
        {
          "output_type": "execute_result",
          "data": {
            "text/plain": [
              "tensor([-2.9965,  3.8768,  9.3957])"
            ]
          },
          "metadata": {},
          "execution_count": 70
        }
      ]
    },
    {
      "cell_type": "markdown",
      "source": [
        "Output without quantization"
      ],
      "metadata": {
        "id": "6ECNuk8RkZhG"
      }
    },
    {
      "cell_type": "code",
      "source": [
        "output1 = torch.nn.functional.linear(activations, weights)\n",
        "output1"
      ],
      "metadata": {
        "colab": {
          "base_uri": "https://localhost:8080/"
        },
        "id": "LrCYPkHHf3zM",
        "outputId": "d0360aee-5123-47f3-d055-b231970632cf"
      },
      "execution_count": null,
      "outputs": [
        {
          "output_type": "execute_result",
          "data": {
            "text/plain": [
              "tensor([-3.0000,  3.8500,  9.3800])"
            ]
          },
          "metadata": {},
          "execution_count": 71
        }
      ]
    },
    {
      "cell_type": "code",
      "source": [],
      "metadata": {
        "id": "hQUQZ__3kYUj"
      },
      "execution_count": null,
      "outputs": []
    },
    {
      "cell_type": "markdown",
      "source": [
        "\n",
        "\n",
        "---\n",
        "\n"
      ],
      "metadata": {
        "id": "5bscmUYZkkYE"
      }
    },
    {
      "cell_type": "markdown",
      "source": [
        "# During inference"
      ],
      "metadata": {
        "id": "tAynkhsv7Tm0"
      }
    },
    {
      "cell_type": "code",
      "source": [
        "def linear_W8A32_layer(inputs, quantized_weights, scales, zero_point):\n",
        "  assert inputs.dtype == torch.float32\n",
        "  assert quantized_weights.dtype == torch.int8\n",
        "\n",
        "  dequantized_weights = (quantized_weights.to(torch.float32) - zero_point) * scales\n",
        "  output = torch.nn.functional.linear(inputs, dequantized_weights)\n",
        "\n",
        "  return output"
      ],
      "metadata": {
        "id": "oTja8Dqq7S4b"
      },
      "execution_count": null,
      "outputs": []
    },
    {
      "cell_type": "code",
      "source": [
        "inputs = torch.tensor([1,2,3,4,5], dtype=torch.float32)\n",
        "inputs"
      ],
      "metadata": {
        "colab": {
          "base_uri": "https://localhost:8080/"
        },
        "id": "nT2C4CPI7YHc",
        "outputId": "1e4c1928-3682-4e51-ec2b-b58a62720875"
      },
      "execution_count": null,
      "outputs": [
        {
          "output_type": "execute_result",
          "data": {
            "text/plain": [
              "tensor([1., 2., 3., 4., 5.])"
            ]
          },
          "metadata": {},
          "execution_count": 73
        }
      ]
    },
    {
      "cell_type": "code",
      "source": [
        "weights = torch.tensor([[-2,   -1.13, 0.42, 1.2, 0.56],\n",
        "                       [-1.51, 0.25, 1.62, 0.34, -0.98],\n",
        "                       [0.23,  1.35, 2.15, 0.67, -0.56]])"
      ],
      "metadata": {
        "id": "NC9XouI28sQa"
      },
      "execution_count": null,
      "outputs": []
    },
    {
      "cell_type": "code",
      "source": [
        "q_weights, scale = linear_symmetric_quantization(weights)\n",
        "q_weights, scale"
      ],
      "metadata": {
        "colab": {
          "base_uri": "https://localhost:8080/"
        },
        "id": "tjxLB6l58q-F",
        "outputId": "5ebfb460-cca2-4b5e-898a-079db5f81989"
      },
      "execution_count": null,
      "outputs": [
        {
          "output_type": "execute_result",
          "data": {
            "text/plain": [
              "(tensor([[-118,  -67,   25,   71,   33],\n",
              "         [ -89,   15,   96,   20,  -58],\n",
              "         [  14,   80,  127,   40,  -33]], dtype=torch.int8),\n",
              " 0.016929134609192376)"
            ]
          },
          "metadata": {},
          "execution_count": 75
        }
      ]
    },
    {
      "cell_type": "code",
      "source": [
        "output = linear_W8A32_layer(inputs, q_weights, scale, 0)\n",
        "output"
      ],
      "metadata": {
        "colab": {
          "base_uri": "https://localhost:8080/"
        },
        "id": "vzgKofMX-qUC",
        "outputId": "004273a9-ea6d-4eb7-bdf4-f6bccc6d47b1"
      },
      "execution_count": null,
      "outputs": [
        {
          "output_type": "execute_result",
          "data": {
            "text/plain": [
              "tensor([4.6047, 0.3217, 9.3110])"
            ]
          },
          "metadata": {},
          "execution_count": 76
        }
      ]
    },
    {
      "cell_type": "code",
      "source": [
        "print(f\"The W8A32 output : {output}\")"
      ],
      "metadata": {
        "colab": {
          "base_uri": "https://localhost:8080/"
        },
        "id": "NlKWee-9A6pX",
        "outputId": "012b5466-5267-4aee-8209-475cfdeb0ddf"
      },
      "execution_count": null,
      "outputs": [
        {
          "output_type": "stream",
          "name": "stdout",
          "text": [
            "The W8A32 output : tensor([4.6047, 0.3217, 9.3110])\n"
          ]
        }
      ]
    },
    {
      "cell_type": "code",
      "source": [
        "output_1 = torch.nn.functional.linear(inputs, weights)\n",
        "print(f\"Output if no quantization step : {output_1}\")"
      ],
      "metadata": {
        "colab": {
          "base_uri": "https://localhost:8080/"
        },
        "id": "Y9PVehnJBCpa",
        "outputId": "e447ed6f-1378-47d1-b0d9-879041e10840"
      },
      "execution_count": null,
      "outputs": [
        {
          "output_type": "stream",
          "name": "stdout",
          "text": [
            "Output if no quantization step : tensor([4.6000, 0.3100, 9.2600])\n"
          ]
        }
      ]
    },
    {
      "cell_type": "code",
      "source": [
        "error = (output_1 - output).abs().mean()\n",
        "print(f\"Deviation in the output because of the quantization : {error}\")"
      ],
      "metadata": {
        "colab": {
          "base_uri": "https://localhost:8080/"
        },
        "id": "iTblof2mBaiV",
        "outputId": "aae298a1-1918-4eeb-f9a4-25c3c302518c"
      },
      "execution_count": null,
      "outputs": [
        {
          "output_type": "stream",
          "name": "stdout",
          "text": [
            "Deviation in the output because of the quantization : 0.022466978058218956\n"
          ]
        }
      ]
    },
    {
      "cell_type": "markdown",
      "source": [
        "\n",
        "\n",
        "---\n",
        "\n"
      ],
      "metadata": {
        "id": "TortDV2Z4S1Z"
      }
    },
    {
      "cell_type": "markdown",
      "source": [
        "## Building custom W8A16 Linear layer Quantizer"
      ],
      "metadata": {
        "id": "w0ZcK9CYo8Bu"
      }
    },
    {
      "cell_type": "code",
      "source": [
        "import torch\n",
        "import torch.nn as nn\n",
        "import torch.nn.functional as F"
      ],
      "metadata": {
        "id": "krjHzIxmNyP3"
      },
      "execution_count": null,
      "outputs": []
    },
    {
      "cell_type": "code",
      "source": [
        "class W8A16LinearLayer(nn.Module):\n",
        "  def __init__(self, input_features, output_features, bias=True, dtype=torch.float32):\n",
        "    super().__init__()\n",
        "\n",
        "    self.register_buffer(\"int8_weights\", torch.randint(-128,127, (output_features,input_features), dtype=torch.int8))\n",
        "    self.register_buffer(\"scales\", torch.randn((output_features), dtype= dtype))\n",
        "\n",
        "    if bias:\n",
        "      self.register_buffer(\"bias\", torch.randn((1, output_features), dtype = dtype))\n",
        "    else:\n",
        "      self.bias = None\n",
        "\n",
        "  def forward(self, inputs):\n",
        "    converted_weights = self.int8_weights.to(inputs.dtype)\n",
        "    output = F.linear(inputs, converted_weights) * self.scales\n",
        "\n",
        "    if self.bias is not None:\n",
        "      output = output + self.bias\n",
        "\n",
        "    return output\n",
        "\n",
        "  def quantize(self, weights):\n",
        "    w_fp32 = weights.clone().to(torch.float32)\n",
        "\n",
        "    scales = w_fp32.abs().max(dim=-1).values/127\n",
        "    scales = scales.to(weights.dtype)\n",
        "\n",
        "    int8_weights = torch.round(weights/scales.unsqueeze(1)).to(torch.int8)\n",
        "\n",
        "    self.int8_weights  = int8_weights\n",
        "    self.scales = scales\n",
        "\n"
      ],
      "metadata": {
        "id": "u582XG84Q2EA"
      },
      "execution_count": null,
      "outputs": []
    },
    {
      "cell_type": "code",
      "source": [
        "module = W8A16LinearLayer(16, 32)\n",
        "dummy_hidden_states = torch.randn(2, 6, 16)\n",
        "module(dummy_hidden_states).shape"
      ],
      "metadata": {
        "colab": {
          "base_uri": "https://localhost:8080/"
        },
        "id": "D_A5VFHqwqmV",
        "outputId": "c4e31a68-db5c-405e-9e03-8c7d167e0cbe"
      },
      "execution_count": null,
      "outputs": [
        {
          "output_type": "execute_result",
          "data": {
            "text/plain": [
              "torch.Size([2, 6, 32])"
            ]
          },
          "metadata": {},
          "execution_count": 82
        }
      ]
    },
    {
      "cell_type": "code",
      "source": [
        "dummy_hidden_states"
      ],
      "metadata": {
        "colab": {
          "base_uri": "https://localhost:8080/"
        },
        "collapsed": true,
        "id": "zYKRE9XNT8wv",
        "outputId": "e892d568-ff5e-4f29-a4c7-cf9ad809a77c"
      },
      "execution_count": null,
      "outputs": [
        {
          "output_type": "execute_result",
          "data": {
            "text/plain": [
              "tensor([[[ 5.0864e-01,  9.4294e-01, -5.0666e-01, -1.8538e-01,  9.4969e-01,\n",
              "          -9.1660e-01,  9.4054e-01,  2.0055e+00,  2.0107e+00, -7.3471e-01,\n",
              "           8.4933e-01,  7.6130e-01, -1.7449e+00, -1.5734e+00,  1.3508e+00,\n",
              "          -4.6354e-01],\n",
              "         [-5.1628e-01,  1.3770e+00, -9.5952e-01, -2.5794e-01,  1.1945e+00,\n",
              "           1.9859e-01,  1.1551e+00,  9.0630e-01,  1.2083e+00,  2.1418e+00,\n",
              "           2.8370e-01, -3.0197e-01, -3.8528e-01, -4.6498e-01,  1.3024e+00,\n",
              "          -8.7642e-01],\n",
              "         [-1.0415e+00, -8.0999e-01, -4.4456e-01, -6.3457e-01, -8.0390e-01,\n",
              "           1.1102e+00, -8.0562e-01, -5.9924e-01,  8.4165e-01,  8.2397e-01,\n",
              "          -3.5747e-01,  8.3150e-01,  5.2564e-01, -5.4652e-01,  9.6413e-01,\n",
              "           1.5457e+00],\n",
              "         [ 1.2524e-01,  1.4643e-01,  1.5920e+00,  2.4337e+00, -8.2539e-01,\n",
              "           6.6588e-01,  1.8606e+00, -2.7514e+00,  2.0577e+00, -7.0306e-01,\n",
              "           1.1762e+00, -8.3200e-01,  1.8268e+00, -1.0748e-01,  1.9035e+00,\n",
              "           6.9365e-01],\n",
              "         [-1.6855e+00, -1.0795e+00, -1.3171e+00, -4.4280e-02,  1.8768e-01,\n",
              "          -1.2090e+00,  7.0582e-01, -1.4036e+00,  5.2972e-01, -1.6854e+00,\n",
              "           3.2236e-01,  6.0553e-01, -9.6390e-01,  9.8473e-01, -5.3876e-01,\n",
              "          -3.4294e-01],\n",
              "         [ 2.6552e-01,  1.8295e+00, -1.3851e+00,  2.4851e-01,  8.7333e-01,\n",
              "           1.2814e+00, -2.1168e+00, -2.6837e+00, -7.3100e-01, -1.8427e-01,\n",
              "           1.0847e+00,  1.2542e+00,  3.9792e-01,  7.8066e-01, -1.4572e+00,\n",
              "          -1.0632e-01]],\n",
              "\n",
              "        [[-1.4373e+00, -4.5333e-01, -1.7081e+00,  9.8554e-01,  1.2975e+00,\n",
              "          -4.2049e-01, -1.4068e+00,  2.7381e-01, -7.9829e-01, -1.9196e+00,\n",
              "          -5.0373e-01,  1.4030e+00,  5.2835e-02,  5.2877e-01,  9.8313e-01,\n",
              "          -2.6744e-01],\n",
              "         [-8.7660e-02, -2.2835e-01,  1.0878e+00, -7.1766e-02, -5.0993e-01,\n",
              "           1.4467e+00, -6.2909e-01, -1.6118e+00,  1.1812e+00,  3.4172e-01,\n",
              "           2.9211e-01, -1.5802e-01,  1.8799e+00,  6.3208e-01,  2.5153e-01,\n",
              "          -5.0305e-01],\n",
              "         [-4.8288e-01,  1.5707e+00,  1.4578e+00, -7.6193e-03,  1.2528e+00,\n",
              "           5.5318e-01, -3.2058e-01,  1.8285e+00, -1.7537e-01, -1.5499e+00,\n",
              "          -9.0244e-01,  1.6237e+00, -3.0322e+00,  6.4640e-01, -1.7071e+00,\n",
              "           1.0671e+00],\n",
              "         [ 7.2387e-02,  5.7511e-01,  1.1160e+00, -5.5359e-01,  1.4762e-01,\n",
              "          -2.2318e-01, -1.1254e+00, -2.6617e-01,  1.6975e+00,  1.9257e+00,\n",
              "          -6.2310e-01,  1.4530e-01,  1.9622e-01, -4.2579e-02,  6.3926e-01,\n",
              "          -3.0361e-02],\n",
              "         [-7.8433e-02, -2.3265e-01, -7.0214e-01, -1.5762e+00, -2.0746e-01,\n",
              "          -4.6107e-01,  9.8999e-01, -6.0741e-01, -4.8682e-01,  1.3040e-03,\n",
              "          -1.1297e-01, -9.9497e-01,  5.0438e-01,  6.5767e-01, -7.2936e-01,\n",
              "          -5.3633e-01],\n",
              "         [-9.2497e-01,  4.3014e-01,  1.8860e-01,  1.1083e+00,  1.1244e+00,\n",
              "           3.4858e-01, -2.6671e+00, -4.1995e-01, -8.6228e-01,  6.4643e-01,\n",
              "           3.5072e-01,  6.6645e-01,  7.2241e-01,  2.5456e-01, -3.8348e-01,\n",
              "           2.3017e+00]]])"
            ]
          },
          "metadata": {},
          "execution_count": 83
        }
      ]
    },
    {
      "cell_type": "code",
      "source": [
        "module.int8_weights.shape"
      ],
      "metadata": {
        "colab": {
          "base_uri": "https://localhost:8080/"
        },
        "id": "YPtLzqU8xP4_",
        "outputId": "49f68e11-07bd-4f95-9de7-7307b9701e9f"
      },
      "execution_count": null,
      "outputs": [
        {
          "output_type": "execute_result",
          "data": {
            "text/plain": [
              "torch.Size([32, 16])"
            ]
          },
          "metadata": {},
          "execution_count": 84
        }
      ]
    },
    {
      "cell_type": "code",
      "source": [
        "module(dummy_hidden_states).shape"
      ],
      "metadata": {
        "colab": {
          "base_uri": "https://localhost:8080/"
        },
        "id": "MC0v45Fuw0KM",
        "outputId": "f0034012-5acf-4065-dbef-077aa9ad4570"
      },
      "execution_count": null,
      "outputs": [
        {
          "output_type": "execute_result",
          "data": {
            "text/plain": [
              "torch.Size([2, 6, 32])"
            ]
          },
          "metadata": {},
          "execution_count": 85
        }
      ]
    },
    {
      "cell_type": "code",
      "source": [
        "instance1 = W8A16LinearLayer(4, 8)"
      ],
      "metadata": {
        "id": "YIOaUyZ9TSzf"
      },
      "execution_count": null,
      "outputs": []
    },
    {
      "cell_type": "code",
      "source": [
        "instance1.int8_weights"
      ],
      "metadata": {
        "colab": {
          "base_uri": "https://localhost:8080/"
        },
        "id": "ieVB89viW2xV",
        "outputId": "1b3fd650-203f-4249-b851-3ee7bc4336e4"
      },
      "execution_count": null,
      "outputs": [
        {
          "output_type": "execute_result",
          "data": {
            "text/plain": [
              "tensor([[ -64,   60,   87, -113],\n",
              "        [-110,   58,  -30,    7],\n",
              "        [  -9,   37,  -95, -128],\n",
              "        [  68,  -77,   66,  100],\n",
              "        [-105,  -52,  122,   12],\n",
              "        [-106,  -87,  -66, -111],\n",
              "        [ -96,   89,   61,   50],\n",
              "        [ -16,  101,   -9,   72]], dtype=torch.int8)"
            ]
          },
          "metadata": {},
          "execution_count": 87
        }
      ]
    },
    {
      "cell_type": "code",
      "source": [
        "input = torch.randn((4,8), dtype=torch.bfloat16)\n",
        "instance1.quantize(input)\n"
      ],
      "metadata": {
        "id": "8x_-tBEccul9"
      },
      "execution_count": null,
      "outputs": []
    },
    {
      "cell_type": "code",
      "source": [
        "input"
      ],
      "metadata": {
        "colab": {
          "base_uri": "https://localhost:8080/"
        },
        "id": "vmC2m-GZd1tX",
        "outputId": "d54a2c72-e7e1-41bd-a89c-57c1381b65f2"
      },
      "execution_count": null,
      "outputs": [
        {
          "output_type": "execute_result",
          "data": {
            "text/plain": [
              "tensor([[ 0.3848,  0.7461,  0.0166,  0.3594, -0.5078, -2.8281,  0.3008, -0.9922],\n",
              "        [-0.8828, -0.4082,  0.6953,  1.0859, -0.0233,  0.5859, -1.8281, -0.5625],\n",
              "        [ 1.0859,  0.9453, -0.8789, -1.9531,  1.8828,  0.5000,  0.5547,  1.0078],\n",
              "        [-0.1729, -0.4082,  0.2695,  0.8047,  0.1396,  1.0703,  0.6133,  0.0248]],\n",
              "       dtype=torch.bfloat16)"
            ]
          },
          "metadata": {},
          "execution_count": 89
        }
      ]
    },
    {
      "cell_type": "code",
      "source": [
        "instance1.int8_weights"
      ],
      "metadata": {
        "colab": {
          "base_uri": "https://localhost:8080/"
        },
        "id": "zjXAWJpVc-9a",
        "outputId": "596ed9c5-aa17-439e-98b2-e7794b882e41"
      },
      "execution_count": null,
      "outputs": [
        {
          "output_type": "execute_result",
          "data": {
            "text/plain": [
              "tensor([[  17,   34,    1,   16,  -23, -128,   14,  -45],\n",
              "        [ -61,  -28,   48,   76,   -2,   41, -127,  -39],\n",
              "        [  70,   62,  -57, -127,  122,   32,   36,   66],\n",
              "        [ -20,  -48,   32,   96,   17,  127,   73,    3]], dtype=torch.int8)"
            ]
          },
          "metadata": {},
          "execution_count": 90
        }
      ]
    },
    {
      "cell_type": "code",
      "source": [
        "instance1.scales"
      ],
      "metadata": {
        "colab": {
          "base_uri": "https://localhost:8080/"
        },
        "id": "jCjTYHfMdRFE",
        "outputId": "61f84512-a6fc-44d3-c8c6-587481916be3"
      },
      "execution_count": null,
      "outputs": [
        {
          "output_type": "execute_result",
          "data": {
            "text/plain": [
              "tensor([0.0222, 0.0144, 0.0154, 0.0084], dtype=torch.bfloat16)"
            ]
          },
          "metadata": {},
          "execution_count": 91
        }
      ]
    },
    {
      "cell_type": "code",
      "source": [
        "# dequantized weights\n",
        "dequantized_weights = instance1.int8_weights * instance1.scales.unsqueeze(1)"
      ],
      "metadata": {
        "id": "Yr8pyVdKdahj"
      },
      "execution_count": null,
      "outputs": []
    },
    {
      "cell_type": "code",
      "source": [],
      "metadata": {
        "id": "N_4sHB8iWq_X"
      },
      "execution_count": null,
      "outputs": []
    },
    {
      "cell_type": "markdown",
      "source": [
        "## Replace PyTorch layers with Quantized Layers"
      ],
      "metadata": {
        "id": "Yql7ljZWWrTO"
      }
    },
    {
      "cell_type": "code",
      "source": [
        "def replace_linear_layer_with_W8A16Linear_layer(module, target , exclude_list):\n",
        "  for name, child in module.named_children():\n",
        "    if isinstance(child, nn.Linear) and not any([x == name for x in exclude_list]):\n",
        "      old_bias = child.bias\n",
        "\n",
        "      new_module = target(child.in_features, child.out_features, old_bias is not None, child.weight.dtype)\n",
        "      setattr(module, name, new_module)\n",
        "\n",
        "      if old_bias is not None:\n",
        "        getattr(module, name).bias = old_bias\n",
        "\n",
        "    else:\n",
        "      replace_linear_layer_with_W8A16Linear_layer(child, target, exclude_list)\n"
      ],
      "metadata": {
        "id": "gELahSpWY0Uf"
      },
      "execution_count": null,
      "outputs": []
    },
    {
      "cell_type": "code",
      "source": [
        "class neural_network(torch.nn.Module):\n",
        "  def __init__(self):\n",
        "    super().__init__()\n",
        "\n",
        "    self.embd = torch.nn.Embedding(4, 8)\n",
        "    self.linear_1 = nn.Linear(8, 16)\n",
        "    self.linear_2 = nn.Linear(16, 4, bias = False)\n",
        "    self.lm_head = nn.Linear(4, 6, bias = False)\n",
        "\n",
        "  def forward(self, x):\n",
        "    x = self.embd(x)\n",
        "    x = self.linear_1(x)\n",
        "    x = self.linear_2(x)\n",
        "    x = self.lm_head(x)\n",
        "\n",
        "    return x"
      ],
      "metadata": {
        "id": "5mQx-MR9cH3b"
      },
      "execution_count": null,
      "outputs": []
    },
    {
      "cell_type": "code",
      "source": [
        "model_1 = neural_network()\n",
        "model_2 = neural_network()"
      ],
      "metadata": {
        "id": "NSEf7gdMcKHK"
      },
      "execution_count": null,
      "outputs": []
    },
    {
      "cell_type": "code",
      "source": [
        "model_1"
      ],
      "metadata": {
        "colab": {
          "base_uri": "https://localhost:8080/"
        },
        "id": "S7yaI9b4TRDv",
        "outputId": "5d3e16f9-3481-4903-e549-a90dad72526a"
      },
      "execution_count": null,
      "outputs": [
        {
          "output_type": "execute_result",
          "data": {
            "text/plain": [
              "neural_network(\n",
              "  (embd): Embedding(4, 8)\n",
              "  (linear_1): Linear(in_features=8, out_features=16, bias=True)\n",
              "  (linear_2): Linear(in_features=16, out_features=4, bias=False)\n",
              "  (lm_head): Linear(in_features=4, out_features=6, bias=False)\n",
              ")"
            ]
          },
          "metadata": {},
          "execution_count": 96
        }
      ]
    },
    {
      "cell_type": "code",
      "source": [
        "for name, child in model_1.named_children():\n",
        "  print(name, child)"
      ],
      "metadata": {
        "colab": {
          "base_uri": "https://localhost:8080/"
        },
        "id": "0j2Lpri9cJ_K",
        "outputId": "cdcd0a99-c013-4967-bd33-da4bacf4c4d3"
      },
      "execution_count": null,
      "outputs": [
        {
          "output_type": "stream",
          "name": "stdout",
          "text": [
            "embd Embedding(4, 8)\n",
            "linear_1 Linear(in_features=8, out_features=16, bias=True)\n",
            "linear_2 Linear(in_features=16, out_features=4, bias=False)\n",
            "lm_head Linear(in_features=4, out_features=6, bias=False)\n"
          ]
        }
      ]
    },
    {
      "cell_type": "code",
      "source": [
        "input = torch.randint(0, 4, (1, 2), dtype=torch.long)\n",
        "input"
      ],
      "metadata": {
        "colab": {
          "base_uri": "https://localhost:8080/"
        },
        "id": "SaW9SBikhww6",
        "outputId": "cc2f4251-d35e-4e40-e577-a484b49864d8"
      },
      "execution_count": 13,
      "outputs": [
        {
          "output_type": "execute_result",
          "data": {
            "text/plain": [
              "tensor([[1, 1]])"
            ]
          },
          "metadata": {},
          "execution_count": 13
        }
      ]
    },
    {
      "cell_type": "code",
      "source": [
        "model_1(input)"
      ],
      "metadata": {
        "colab": {
          "base_uri": "https://localhost:8080/"
        },
        "id": "pqkTYs7Pig-s",
        "outputId": "56200116-ab75-4197-8c0c-56eacd944a15"
      },
      "execution_count": null,
      "outputs": [
        {
          "output_type": "execute_result",
          "data": {
            "text/plain": [
              "tensor([[[ 0.0729, -0.0059, -0.0542, -0.0091, -0.0573,  0.0130],\n",
              "         [ 0.6495, -0.1006, -0.2716, -0.3222, -0.4652, -0.4569]]],\n",
              "       grad_fn=<UnsafeViewBackward0>)"
            ]
          },
          "metadata": {},
          "execution_count": 99
        }
      ]
    },
    {
      "cell_type": "code",
      "source": [
        "replace_linear_layer_with_W8A16Linear_layer(model_1, W8A16LinearLayer, [\"lm_head\"])\n",
        "model_1"
      ],
      "metadata": {
        "colab": {
          "base_uri": "https://localhost:8080/"
        },
        "id": "O0m2QeBpiq7g",
        "outputId": "8c2e079b-522a-4196-a669-18f8fa4016c1"
      },
      "execution_count": null,
      "outputs": [
        {
          "output_type": "execute_result",
          "data": {
            "text/plain": [
              "neural_network(\n",
              "  (embd): Embedding(4, 8)\n",
              "  (linear_1): W8A16LinearLayer()\n",
              "  (linear_2): W8A16LinearLayer()\n",
              "  (lm_head): Linear(in_features=4, out_features=6, bias=False)\n",
              ")"
            ]
          },
          "metadata": {},
          "execution_count": 100
        }
      ]
    },
    {
      "cell_type": "code",
      "source": [
        "replace_linear_layer_with_W8A16Linear_layer(model_2, W8A16LinearLayer, [])\n",
        "model_2"
      ],
      "metadata": {
        "colab": {
          "base_uri": "https://localhost:8080/"
        },
        "id": "jt2Q9sz6lwWj",
        "outputId": "53bad3e5-03a6-4151-aaec-66f3b392b19c"
      },
      "execution_count": null,
      "outputs": [
        {
          "output_type": "execute_result",
          "data": {
            "text/plain": [
              "neural_network(\n",
              "  (embd): Embedding(4, 8)\n",
              "  (linear_1): W8A16LinearLayer()\n",
              "  (linear_2): W8A16LinearLayer()\n",
              "  (lm_head): W8A16LinearLayer()\n",
              ")"
            ]
          },
          "metadata": {},
          "execution_count": 101
        }
      ]
    },
    {
      "cell_type": "markdown",
      "source": [
        "### Linear layer replacement with quantization"
      ],
      "metadata": {
        "id": "Y-LuMOrcoCP1"
      }
    },
    {
      "cell_type": "code",
      "source": [
        "def replace_linear_layer_with_W8A16Linear_layer_and_quantization(module, target , exclude_list):\n",
        "  for name, child in module.named_children():\n",
        "    if isinstance(child, nn.Linear) and not any([x == name for x in exclude_list]):\n",
        "      old_bias = child.bias\n",
        "      old_weights = child.weight\n",
        "\n",
        "      new_module = target(child.in_features, child.out_features, old_bias is not None, child.weight.dtype)\n",
        "      setattr(module, name, new_module)\n",
        "      getattr(module, name).quantize(old_weights)\n",
        "\n",
        "      if old_bias is not None:\n",
        "        getattr(module, name).bias = old_bias\n",
        "\n",
        "    else:\n",
        "      replace_linear_layer_with_W8A16Linear_layer(child, target, exclude_list)\n"
      ],
      "metadata": {
        "id": "_djuY_hzoAXi"
      },
      "execution_count": null,
      "outputs": []
    },
    {
      "cell_type": "code",
      "source": [
        "model_3 = neural_network()\n"
      ],
      "metadata": {
        "id": "z4I8fHgYomno"
      },
      "execution_count": null,
      "outputs": []
    },
    {
      "cell_type": "code",
      "source": [
        "replace_linear_layer_with_W8A16Linear_layer_and_quantization(model_3, W8A16LinearLayer, [\"lm_head\"])"
      ],
      "metadata": {
        "id": "GMzYbyN4ow_Q"
      },
      "execution_count": null,
      "outputs": []
    },
    {
      "cell_type": "code",
      "source": [
        "model_3"
      ],
      "metadata": {
        "colab": {
          "base_uri": "https://localhost:8080/"
        },
        "id": "YPRh-Qafo3hG",
        "outputId": "61ceeea3-ebad-4448-c887-661986bb08e2"
      },
      "execution_count": null,
      "outputs": [
        {
          "output_type": "execute_result",
          "data": {
            "text/plain": [
              "neural_network(\n",
              "  (embd): Embedding(4, 8)\n",
              "  (linear_1): W8A16LinearLayer()\n",
              "  (linear_2): W8A16LinearLayer()\n",
              "  (lm_head): Linear(in_features=4, out_features=6, bias=False)\n",
              ")"
            ]
          },
          "metadata": {},
          "execution_count": 105
        }
      ]
    },
    {
      "cell_type": "code",
      "source": [
        "for name, child in model_3.named_children():\n",
        "  print(name, child)\n",
        "  if isinstance(child, W8A16LinearLayer):\n",
        "    print(child.int8_weights, child.scales.dtype)\n",
        "  else:\n",
        "    print(child.weight)\n"
      ],
      "metadata": {
        "colab": {
          "base_uri": "https://localhost:8080/"
        },
        "id": "RjuH7bDPo7gV",
        "outputId": "653b4c5e-822e-4854-bf4b-29d2a92bd1c1"
      },
      "execution_count": null,
      "outputs": [
        {
          "output_type": "stream",
          "name": "stdout",
          "text": [
            "embd Embedding(4, 8)\n",
            "Parameter containing:\n",
            "tensor([[ 1.0006, -0.4327, -0.8884, -0.5999, -1.0869, -1.2392,  0.8722, -2.0542],\n",
            "        [-0.7918,  1.5889, -1.0925,  0.8230,  0.5623, -0.0047, -0.8779,  1.7216],\n",
            "        [ 0.1103, -1.2674,  0.5033, -0.3895, -0.6331, -1.0500,  0.9856,  0.2398],\n",
            "        [ 1.3366,  0.6915, -1.2141, -1.2603,  0.8708,  1.7693,  1.2354, -0.2309]],\n",
            "       requires_grad=True)\n",
            "linear_1 W8A16LinearLayer()\n",
            "tensor([[   5,   23,  -33,  127,  107,  -24,   -1,  -57],\n",
            "        [  12, -119,   96, -117,   75,  127,   36,   99],\n",
            "        [  66,  -60,    1, -127,  -18,  -35,   39,   38],\n",
            "        [ 118,  -60, -117,  -63, -123, -107,  -93, -127],\n",
            "        [   3,  127,   86,   50,   18, -127,  119,   19],\n",
            "        [-124,   73,  -79,  101, -127, -106,   32,    8],\n",
            "        [  65,  127,   10,   40, -111,  -17,  -85,   98],\n",
            "        [ -24,   90,  123, -126, -124,   54,   55,  127],\n",
            "        [  98,  -69, -125,   -6,  127,  -29,  -83,  -47],\n",
            "        [  52,  -80,  127,   12,  -84,   89,  -57,  -79],\n",
            "        [ 127,   57,   32,   86,  109,  -97,   34,  -29],\n",
            "        [ -70,   85,   42,    3,   42,  -64,  127,  118],\n",
            "        [-127,   78,    3,  -87,   17,   70,  -17,  -77],\n",
            "        [  48,   88,   72,   65,  127,   -8,  126, -116],\n",
            "        [ -37,   17,  -84,  -93,   46,   26,  112,  127],\n",
            "        [ 102, -127,  103,  -29,   31,  118,  -98,  -59]], dtype=torch.int8) torch.float32\n",
            "linear_2 W8A16LinearLayer()\n",
            "tensor([[-122,   47,  -94, -109,   27, -101,  -42,   93,  -33,  -62,  121,   93,\n",
            "          127,  -80,  -64,  -72],\n",
            "        [  80,   84,   28,  -13, -127,   59,  -17,  -61,   32,  -31, -117,  -25,\n",
            "          -39,   24,   10,   65],\n",
            "        [ 108,   73, -122,   82,   55,   -1,  -81,   88,  126,  103,  -32,  -59,\n",
            "         -127,  -93,   35,  127],\n",
            "        [-109,   42,   20,  123,  -53,   95,  -12,   30,   98,  127,  -22,   84,\n",
            "         -106,  -89, -119,   42]], dtype=torch.int8) torch.float32\n",
            "lm_head Linear(in_features=4, out_features=6, bias=False)\n",
            "Parameter containing:\n",
            "tensor([[ 0.4117,  0.2183, -0.1079,  0.3153],\n",
            "        [ 0.2494,  0.1546, -0.2000, -0.2972],\n",
            "        [ 0.4826, -0.4088, -0.3705,  0.3727],\n",
            "        [ 0.3053, -0.0941,  0.0614, -0.2570],\n",
            "        [-0.1868, -0.2262, -0.4779,  0.0295],\n",
            "        [-0.0114, -0.4945,  0.3408,  0.0426]], requires_grad=True)\n"
          ]
        }
      ]
    },
    {
      "cell_type": "code",
      "source": [
        "for name, child in model_3.named_children():\n",
        "  print(name, child)\n"
      ],
      "metadata": {
        "colab": {
          "base_uri": "https://localhost:8080/"
        },
        "id": "rJWEweEwpGm3",
        "outputId": "dc7c16ae-5133-4ffd-cbbd-49b9fba0644e"
      },
      "execution_count": null,
      "outputs": [
        {
          "output_type": "stream",
          "name": "stdout",
          "text": [
            "embd Embedding(4, 8)\n",
            "linear_1 W8A16LinearLayer()\n",
            "linear_2 W8A16LinearLayer()\n",
            "lm_head Linear(in_features=4, out_features=6, bias=False)\n"
          ]
        }
      ]
    },
    {
      "cell_type": "code",
      "source": [
        "g = getattr(model_3, name)\n",
        "print(g.weight)"
      ],
      "metadata": {
        "colab": {
          "base_uri": "https://localhost:8080/"
        },
        "id": "s-3sWmmruWhN",
        "outputId": "43bf00f9-a127-4673-a8d7-a861efda86de"
      },
      "execution_count": null,
      "outputs": [
        {
          "output_type": "stream",
          "name": "stdout",
          "text": [
            "Parameter containing:\n",
            "tensor([[ 0.4117,  0.2183, -0.1079,  0.3153],\n",
            "        [ 0.2494,  0.1546, -0.2000, -0.2972],\n",
            "        [ 0.4826, -0.4088, -0.3705,  0.3727],\n",
            "        [ 0.3053, -0.0941,  0.0614, -0.2570],\n",
            "        [-0.1868, -0.2262, -0.4779,  0.0295],\n",
            "        [-0.0114, -0.4945,  0.3408,  0.0426]], requires_grad=True)\n"
          ]
        }
      ]
    },
    {
      "cell_type": "markdown",
      "source": [
        "## Quantize a open source model"
      ],
      "metadata": {
        "id": "JZ9kFNa2wpi_"
      }
    },
    {
      "cell_type": "code",
      "source": [
        "from transformers import AutoModelForCausalLM, AutoTokenizer, pipeline"
      ],
      "metadata": {
        "id": "-rehvbeeu3DD"
      },
      "execution_count": null,
      "outputs": []
    },
    {
      "cell_type": "code",
      "source": [
        "model_id = \"Salesforce/codegen-350M-mono\"\n",
        "model = AutoModelForCausalLM.from_pretrained(model_id, torch_dtype=torch.bfloat16, low_cpu_mem_usage=True)\n",
        "tokenizer = AutoTokenizer.from_pretrained(model_id)\n"
      ],
      "metadata": {
        "colab": {
          "base_uri": "https://localhost:8080/",
          "height": 432,
          "referenced_widgets": [
            "722c0936150140e2aacfdcfeae273c36",
            "399d63051f534420829be6dc5c91ba30",
            "61649b1b644c4673ba0f2824c9e401b0",
            "2826436e45694c4f81fa4ede2739bc82",
            "a24207738f6c4ac0a71e637fa6be2b43",
            "edeafa1aa46e448c9fa8795f135db1c9",
            "9dcc96f0e49e48b49689bcffa40d51b0",
            "95e5b3ad037240cd85d6a7050d0da419",
            "81128fac75f24e96bc9b63fc3fb88486",
            "2b1cae518c6d480fbc63815ce215d201",
            "3cb81aada9f2488bbcdf32d918fbfa04",
            "515edbf9eb8540b99aca985909b69fe8",
            "a36166002ce947e49e6c59e79abf7da0",
            "e3e1fb4db4b1499197dc639a9f48e54e",
            "075c6163425646739d20b209ba9dd9ac",
            "261c45009e574aafa07015e7e26883ca",
            "5187cf5146a44d0fac95140f57a6b3ec",
            "77e4acb1637e480e827b97f422cc624e",
            "774d5d4459d84071b3694c8741a55a9a",
            "8de607c1a194469488068590339a9327",
            "52ab149307d84411a27d18c4dc2f5b76",
            "5bdcb1dbf68b4a63afad4ea5a181c831",
            "e573deb4d8894b7fa19b136b07230325",
            "146f9d86618a4c15989861872afe174a",
            "cf1d30b765c04301bcf8b4ea17e0d573",
            "944baa63fff04f358ba76c5610f9c8b8",
            "7c80261f20304d98b850102122621eeb",
            "015c8401c64d41cfb2b0a958217ec58a",
            "08267f806c324bfe94304338c246c7ee",
            "b7db618dd0da42f7a24aa7bd1ca92322",
            "7dd028f0419d4e4c8b289d2c702af0c0",
            "7da26209aeca4efa92a03647fa42ab6e",
            "14083bd5d6644c03aa516ee0485b4442",
            "28b784287c0a4462a22ee9f9474926d6",
            "5a9577165ccc4749a0ec9813e39f5f93",
            "ad5fda038df04f0e8b60dbab80f11b3d",
            "1e971b9e0c0c4dccae2611d721bcc8ff",
            "6d1d6032b4eb45178e7e9e2883a39ef6",
            "0ff317f653ab4b569e71b18a0713b83c",
            "47eb1e6d132d49b39215b1df1dc9b0b4",
            "77d706b51a034bbba5f626747381cfdc",
            "87afdc8e13c340ac91cfdbd17befabce",
            "c0880c1fbe474238a8796bb178872c6d",
            "2e417ee327154105a7f280628c655287",
            "10fa1e0d39f1414a9a8398aae0fc1651",
            "3800c4547f30467c8a0e2f4400523334",
            "d8648d77bfe64e2f80cec8c60032c005",
            "2d1b33436d7d459fb336b62ebbba19d9",
            "f848eed53ae043918702efd5743662a8",
            "37a3680b39d84e9daf2e83ad3e1ecb46",
            "7df326344dc74c559ec19fca3d13fcb6",
            "71def4619088411496a2a58893f8c06f",
            "c1755f662b3843b6bad95be3ccdad39e",
            "dc40abadd8ad4a11a91bcb4484ffd4ed",
            "7d724ddbc0a246a3b44cfe08980164c7",
            "afb39932a959445d8395a32e5c9158bc",
            "8606804e36e545e3ad02c99954cd2635",
            "e241fb8ddb7e473ba437d4bcbdc17f2f",
            "d872359e0daa4a63b640e6712c89b861",
            "d06b32b0821b485c8161febc7debddf0",
            "cf15a3b825c7450f81e5d4768046e6b6",
            "6562e3d24f6f4494a2a7d886b5d217e9",
            "e5a7f0d4acb14608bc3dd71ded15e3c7",
            "34157345af9740168ac5429f7634cd37",
            "09f6243c1c734e4eaeac9973e5d62957",
            "0713f2d118914da9b0af9747bbd0d8f2",
            "8e90c8693f21445e9f7b2047c3ed97b1",
            "ca07e709f3a14a9287032e461faee21b",
            "0029282d888a4feeb18366621f612af6",
            "d39e06fdd7c0452fb12bbde86366c84c",
            "a5a311dd39aa4db683c59cc8cf4d22bc",
            "f927493dffbf4e7388603f21e79b220d",
            "91c9834cf9d541b2b7a7f4290cd87fde",
            "6a0c5ea607c045f2a0a731821e8cc784",
            "740529e62f8644c7b2e5ef232a232702",
            "0847559b19214f16a61c6b01fec7c89d",
            "63cf5f2d6bb2413dad2274d5869c47c7",
            "a39d63c836d1454eab86475917849e98",
            "44c92b5df11e4d089cf1a37b28178848",
            "ecde69e6392f40839b9fe74c6d21c7af",
            "0e29783e3e5b4b04a3a20ec11d9cae44",
            "cbc0534cdb584e13a84fc7b6148d4a06",
            "64a330f8f321478f94e019a69ed6f9a1",
            "2645a4c9365b45a788b3ed7f544c190d",
            "37382258da8e407880277ee1078f850d",
            "d047a15bd55a4259ad8bfffd941ceaa2",
            "09e2c0ebb73244a0895536b8f7c26a1e",
            "abd601b4d3e643f082f98f4bfea8d67d"
          ]
        },
        "id": "GmJtHg_99zUa",
        "outputId": "9f33f1d9-d35d-4fa7-cb9f-33a974d928cd"
      },
      "execution_count": null,
      "outputs": [
        {
          "output_type": "stream",
          "name": "stderr",
          "text": [
            "/usr/local/lib/python3.10/dist-packages/huggingface_hub/utils/_token.py:89: UserWarning: \n",
            "The secret `HF_TOKEN` does not exist in your Colab secrets.\n",
            "To authenticate with the Hugging Face Hub, create a token in your settings tab (https://huggingface.co/settings/tokens), set it as secret in your Google Colab and restart your session.\n",
            "You will be able to reuse this secret in all of your notebooks.\n",
            "Please note that authentication is recommended but still optional to access public models or datasets.\n",
            "  warnings.warn(\n"
          ]
        },
        {
          "output_type": "display_data",
          "data": {
            "text/plain": [
              "config.json:   0%|          | 0.00/999 [00:00<?, ?B/s]"
            ],
            "application/vnd.jupyter.widget-view+json": {
              "version_major": 2,
              "version_minor": 0,
              "model_id": "722c0936150140e2aacfdcfeae273c36"
            }
          },
          "metadata": {}
        },
        {
          "output_type": "display_data",
          "data": {
            "text/plain": [
              "pytorch_model.bin:   0%|          | 0.00/797M [00:00<?, ?B/s]"
            ],
            "application/vnd.jupyter.widget-view+json": {
              "version_major": 2,
              "version_minor": 0,
              "model_id": "515edbf9eb8540b99aca985909b69fe8"
            }
          },
          "metadata": {}
        },
        {
          "output_type": "display_data",
          "data": {
            "text/plain": [
              "tokenizer_config.json:   0%|          | 0.00/240 [00:00<?, ?B/s]"
            ],
            "application/vnd.jupyter.widget-view+json": {
              "version_major": 2,
              "version_minor": 0,
              "model_id": "e573deb4d8894b7fa19b136b07230325"
            }
          },
          "metadata": {}
        },
        {
          "output_type": "display_data",
          "data": {
            "text/plain": [
              "vocab.json:   0%|          | 0.00/798k [00:00<?, ?B/s]"
            ],
            "application/vnd.jupyter.widget-view+json": {
              "version_major": 2,
              "version_minor": 0,
              "model_id": "28b784287c0a4462a22ee9f9474926d6"
            }
          },
          "metadata": {}
        },
        {
          "output_type": "display_data",
          "data": {
            "text/plain": [
              "merges.txt:   0%|          | 0.00/456k [00:00<?, ?B/s]"
            ],
            "application/vnd.jupyter.widget-view+json": {
              "version_major": 2,
              "version_minor": 0,
              "model_id": "10fa1e0d39f1414a9a8398aae0fc1651"
            }
          },
          "metadata": {}
        },
        {
          "output_type": "display_data",
          "data": {
            "text/plain": [
              "tokenizer.json:   0%|          | 0.00/2.11M [00:00<?, ?B/s]"
            ],
            "application/vnd.jupyter.widget-view+json": {
              "version_major": 2,
              "version_minor": 0,
              "model_id": "afb39932a959445d8395a32e5c9158bc"
            }
          },
          "metadata": {}
        },
        {
          "output_type": "display_data",
          "data": {
            "text/plain": [
              "added_tokens.json:   0%|          | 0.00/1.00k [00:00<?, ?B/s]"
            ],
            "application/vnd.jupyter.widget-view+json": {
              "version_major": 2,
              "version_minor": 0,
              "model_id": "8e90c8693f21445e9f7b2047c3ed97b1"
            }
          },
          "metadata": {}
        },
        {
          "output_type": "display_data",
          "data": {
            "text/plain": [
              "special_tokens_map.json:   0%|          | 0.00/90.0 [00:00<?, ?B/s]"
            ],
            "application/vnd.jupyter.widget-view+json": {
              "version_major": 2,
              "version_minor": 0,
              "model_id": "a39d63c836d1454eab86475917849e98"
            }
          },
          "metadata": {}
        },
        {
          "output_type": "stream",
          "name": "stderr",
          "text": [
            "/usr/local/lib/python3.10/dist-packages/transformers/tokenization_utils_base.py:1601: FutureWarning: `clean_up_tokenization_spaces` was not set. It will be set to `True` by default. This behavior will be depracted in transformers v4.45, and will be then set to `False` by default. For more details check this issue: https://github.com/huggingface/transformers/issues/31884\n",
            "  warnings.warn(\n"
          ]
        }
      ]
    },
    {
      "cell_type": "code",
      "source": [
        "memory_footprint_before_quantization = model.get_memory_footprint()/1e+6\n",
        "print(f\"model size before quantization : {memory_footprint_before_quantization} MB\")"
      ],
      "metadata": {
        "colab": {
          "base_uri": "https://localhost:8080/"
        },
        "id": "kD6_oAsr-sUj",
        "outputId": "e232520e-baad-48f8-b044-02b9803d27c6"
      },
      "execution_count": null,
      "outputs": [
        {
          "output_type": "stream",
          "name": "stdout",
          "text": [
            "model size before quantization : 797.310976 MB\n"
          ]
        }
      ]
    },
    {
      "cell_type": "code",
      "source": [
        "model"
      ],
      "metadata": {
        "colab": {
          "base_uri": "https://localhost:8080/"
        },
        "id": "d1fksITyBTVE",
        "outputId": "bdd37a99-9489-4eb7-caf1-44f3c5c6513e"
      },
      "execution_count": null,
      "outputs": [
        {
          "output_type": "execute_result",
          "data": {
            "text/plain": [
              "CodeGenForCausalLM(\n",
              "  (transformer): CodeGenModel(\n",
              "    (wte): Embedding(51200, 1024)\n",
              "    (drop): Dropout(p=0.0, inplace=False)\n",
              "    (h): ModuleList(\n",
              "      (0-19): 20 x CodeGenBlock(\n",
              "        (ln_1): LayerNorm((1024,), eps=1e-05, elementwise_affine=True)\n",
              "        (attn): CodeGenAttention(\n",
              "          (attn_dropout): Dropout(p=0.0, inplace=False)\n",
              "          (resid_dropout): Dropout(p=0.0, inplace=False)\n",
              "          (qkv_proj): Linear(in_features=1024, out_features=3072, bias=False)\n",
              "          (out_proj): Linear(in_features=1024, out_features=1024, bias=False)\n",
              "        )\n",
              "        (mlp): CodeGenMLP(\n",
              "          (fc_in): Linear(in_features=1024, out_features=4096, bias=True)\n",
              "          (fc_out): Linear(in_features=4096, out_features=1024, bias=True)\n",
              "          (act): NewGELUActivation()\n",
              "          (dropout): Dropout(p=0.0, inplace=False)\n",
              "        )\n",
              "      )\n",
              "    )\n",
              "    (ln_f): LayerNorm((1024,), eps=1e-05, elementwise_affine=True)\n",
              "  )\n",
              "  (lm_head): Linear(in_features=1024, out_features=51200, bias=True)\n",
              ")"
            ]
          },
          "metadata": {},
          "execution_count": 112
        }
      ]
    },
    {
      "cell_type": "code",
      "source": [
        "replace_linear_layer_with_W8A16Linear_layer_and_quantization(model,\n",
        "                                        W8A16LinearLayer, [\"lm_head\"])"
      ],
      "metadata": {
        "id": "3XTz-WGpB3IH"
      },
      "execution_count": null,
      "outputs": []
    },
    {
      "cell_type": "code",
      "source": [
        "model"
      ],
      "metadata": {
        "colab": {
          "base_uri": "https://localhost:8080/"
        },
        "id": "--dcfJ-PCN_s",
        "outputId": "5b0494fb-f05d-4b44-a137-5120454689c8"
      },
      "execution_count": null,
      "outputs": [
        {
          "output_type": "execute_result",
          "data": {
            "text/plain": [
              "CodeGenForCausalLM(\n",
              "  (transformer): CodeGenModel(\n",
              "    (wte): Embedding(51200, 1024)\n",
              "    (drop): Dropout(p=0.0, inplace=False)\n",
              "    (h): ModuleList(\n",
              "      (0-19): 20 x CodeGenBlock(\n",
              "        (ln_1): LayerNorm((1024,), eps=1e-05, elementwise_affine=True)\n",
              "        (attn): CodeGenAttention(\n",
              "          (attn_dropout): Dropout(p=0.0, inplace=False)\n",
              "          (resid_dropout): Dropout(p=0.0, inplace=False)\n",
              "          (qkv_proj): W8A16LinearLayer()\n",
              "          (out_proj): W8A16LinearLayer()\n",
              "        )\n",
              "        (mlp): CodeGenMLP(\n",
              "          (fc_in): W8A16LinearLayer()\n",
              "          (fc_out): W8A16LinearLayer()\n",
              "          (act): NewGELUActivation()\n",
              "          (dropout): Dropout(p=0.0, inplace=False)\n",
              "        )\n",
              "      )\n",
              "    )\n",
              "    (ln_f): LayerNorm((1024,), eps=1e-05, elementwise_affine=True)\n",
              "  )\n",
              "  (lm_head): Linear(in_features=1024, out_features=51200, bias=True)\n",
              ")"
            ]
          },
          "metadata": {},
          "execution_count": 114
        }
      ]
    },
    {
      "cell_type": "code",
      "source": [
        "import numpy as np"
      ],
      "metadata": {
        "id": "yTBdJif_Hz8b"
      },
      "execution_count": null,
      "outputs": []
    },
    {
      "cell_type": "code",
      "source": [
        "memory_footprint_after_quantization = model.get_memory_footprint()/1e+6\n",
        "print(f\"model size after quantization : {np.round(memory_footprint_after_quantization,2)} MB\")"
      ],
      "metadata": {
        "colab": {
          "base_uri": "https://localhost:8080/"
        },
        "id": "s97p7JjjCxbl",
        "outputId": "c377241e-a6d9-4173-b40e-67dfb3c82b86"
      },
      "execution_count": null,
      "outputs": [
        {
          "output_type": "stream",
          "name": "stdout",
          "text": [
            "model size after quantization : 546.02 MB\n"
          ]
        }
      ]
    },
    {
      "cell_type": "code",
      "source": [
        "print(f\"Memory saved : {np.round((memory_footprint_before_quantization - memory_footprint_after_quantization), 2)} MB\")"
      ],
      "metadata": {
        "colab": {
          "base_uri": "https://localhost:8080/"
        },
        "id": "m1IB5XC6C5n7",
        "outputId": "3e5979cb-d715-4e6d-e805-2c19ca996e3c"
      },
      "execution_count": null,
      "outputs": [
        {
          "output_type": "stream",
          "name": "stdout",
          "text": [
            "Memory saved : 251.29 MB\n"
          ]
        }
      ]
    },
    {
      "cell_type": "code",
      "source": [],
      "metadata": {
        "id": "FT2sDSsHHgZe"
      },
      "execution_count": null,
      "outputs": []
    },
    {
      "cell_type": "markdown",
      "source": [
        "## Load quantizer weights from Hugging Face"
      ],
      "metadata": {
        "id": "lr1xHM4wIlCT"
      }
    },
    {
      "cell_type": "code",
      "source": [
        "quantized_model_state_dict = model.state_dict()\n",
        "quantized_model_state_dict.keys()"
      ],
      "metadata": {
        "colab": {
          "base_uri": "https://localhost:8080/"
        },
        "id": "QoCsLsPwIrHK",
        "outputId": "dc708098-c9f8-41c8-abb7-898628f22a78"
      },
      "execution_count": null,
      "outputs": [
        {
          "output_type": "execute_result",
          "data": {
            "text/plain": [
              "odict_keys(['transformer.wte.weight', 'transformer.h.0.ln_1.weight', 'transformer.h.0.ln_1.bias', 'transformer.h.0.attn.qkv_proj.int8_weights', 'transformer.h.0.attn.qkv_proj.scales', 'transformer.h.0.attn.out_proj.int8_weights', 'transformer.h.0.attn.out_proj.scales', 'transformer.h.0.mlp.fc_in.bias', 'transformer.h.0.mlp.fc_in.int8_weights', 'transformer.h.0.mlp.fc_in.scales', 'transformer.h.0.mlp.fc_out.bias', 'transformer.h.0.mlp.fc_out.int8_weights', 'transformer.h.0.mlp.fc_out.scales', 'transformer.h.1.ln_1.weight', 'transformer.h.1.ln_1.bias', 'transformer.h.1.attn.qkv_proj.int8_weights', 'transformer.h.1.attn.qkv_proj.scales', 'transformer.h.1.attn.out_proj.int8_weights', 'transformer.h.1.attn.out_proj.scales', 'transformer.h.1.mlp.fc_in.bias', 'transformer.h.1.mlp.fc_in.int8_weights', 'transformer.h.1.mlp.fc_in.scales', 'transformer.h.1.mlp.fc_out.bias', 'transformer.h.1.mlp.fc_out.int8_weights', 'transformer.h.1.mlp.fc_out.scales', 'transformer.h.2.ln_1.weight', 'transformer.h.2.ln_1.bias', 'transformer.h.2.attn.qkv_proj.int8_weights', 'transformer.h.2.attn.qkv_proj.scales', 'transformer.h.2.attn.out_proj.int8_weights', 'transformer.h.2.attn.out_proj.scales', 'transformer.h.2.mlp.fc_in.bias', 'transformer.h.2.mlp.fc_in.int8_weights', 'transformer.h.2.mlp.fc_in.scales', 'transformer.h.2.mlp.fc_out.bias', 'transformer.h.2.mlp.fc_out.int8_weights', 'transformer.h.2.mlp.fc_out.scales', 'transformer.h.3.ln_1.weight', 'transformer.h.3.ln_1.bias', 'transformer.h.3.attn.qkv_proj.int8_weights', 'transformer.h.3.attn.qkv_proj.scales', 'transformer.h.3.attn.out_proj.int8_weights', 'transformer.h.3.attn.out_proj.scales', 'transformer.h.3.mlp.fc_in.bias', 'transformer.h.3.mlp.fc_in.int8_weights', 'transformer.h.3.mlp.fc_in.scales', 'transformer.h.3.mlp.fc_out.bias', 'transformer.h.3.mlp.fc_out.int8_weights', 'transformer.h.3.mlp.fc_out.scales', 'transformer.h.4.ln_1.weight', 'transformer.h.4.ln_1.bias', 'transformer.h.4.attn.qkv_proj.int8_weights', 'transformer.h.4.attn.qkv_proj.scales', 'transformer.h.4.attn.out_proj.int8_weights', 'transformer.h.4.attn.out_proj.scales', 'transformer.h.4.mlp.fc_in.bias', 'transformer.h.4.mlp.fc_in.int8_weights', 'transformer.h.4.mlp.fc_in.scales', 'transformer.h.4.mlp.fc_out.bias', 'transformer.h.4.mlp.fc_out.int8_weights', 'transformer.h.4.mlp.fc_out.scales', 'transformer.h.5.ln_1.weight', 'transformer.h.5.ln_1.bias', 'transformer.h.5.attn.qkv_proj.int8_weights', 'transformer.h.5.attn.qkv_proj.scales', 'transformer.h.5.attn.out_proj.int8_weights', 'transformer.h.5.attn.out_proj.scales', 'transformer.h.5.mlp.fc_in.bias', 'transformer.h.5.mlp.fc_in.int8_weights', 'transformer.h.5.mlp.fc_in.scales', 'transformer.h.5.mlp.fc_out.bias', 'transformer.h.5.mlp.fc_out.int8_weights', 'transformer.h.5.mlp.fc_out.scales', 'transformer.h.6.ln_1.weight', 'transformer.h.6.ln_1.bias', 'transformer.h.6.attn.qkv_proj.int8_weights', 'transformer.h.6.attn.qkv_proj.scales', 'transformer.h.6.attn.out_proj.int8_weights', 'transformer.h.6.attn.out_proj.scales', 'transformer.h.6.mlp.fc_in.bias', 'transformer.h.6.mlp.fc_in.int8_weights', 'transformer.h.6.mlp.fc_in.scales', 'transformer.h.6.mlp.fc_out.bias', 'transformer.h.6.mlp.fc_out.int8_weights', 'transformer.h.6.mlp.fc_out.scales', 'transformer.h.7.ln_1.weight', 'transformer.h.7.ln_1.bias', 'transformer.h.7.attn.qkv_proj.int8_weights', 'transformer.h.7.attn.qkv_proj.scales', 'transformer.h.7.attn.out_proj.int8_weights', 'transformer.h.7.attn.out_proj.scales', 'transformer.h.7.mlp.fc_in.bias', 'transformer.h.7.mlp.fc_in.int8_weights', 'transformer.h.7.mlp.fc_in.scales', 'transformer.h.7.mlp.fc_out.bias', 'transformer.h.7.mlp.fc_out.int8_weights', 'transformer.h.7.mlp.fc_out.scales', 'transformer.h.8.ln_1.weight', 'transformer.h.8.ln_1.bias', 'transformer.h.8.attn.qkv_proj.int8_weights', 'transformer.h.8.attn.qkv_proj.scales', 'transformer.h.8.attn.out_proj.int8_weights', 'transformer.h.8.attn.out_proj.scales', 'transformer.h.8.mlp.fc_in.bias', 'transformer.h.8.mlp.fc_in.int8_weights', 'transformer.h.8.mlp.fc_in.scales', 'transformer.h.8.mlp.fc_out.bias', 'transformer.h.8.mlp.fc_out.int8_weights', 'transformer.h.8.mlp.fc_out.scales', 'transformer.h.9.ln_1.weight', 'transformer.h.9.ln_1.bias', 'transformer.h.9.attn.qkv_proj.int8_weights', 'transformer.h.9.attn.qkv_proj.scales', 'transformer.h.9.attn.out_proj.int8_weights', 'transformer.h.9.attn.out_proj.scales', 'transformer.h.9.mlp.fc_in.bias', 'transformer.h.9.mlp.fc_in.int8_weights', 'transformer.h.9.mlp.fc_in.scales', 'transformer.h.9.mlp.fc_out.bias', 'transformer.h.9.mlp.fc_out.int8_weights', 'transformer.h.9.mlp.fc_out.scales', 'transformer.h.10.ln_1.weight', 'transformer.h.10.ln_1.bias', 'transformer.h.10.attn.qkv_proj.int8_weights', 'transformer.h.10.attn.qkv_proj.scales', 'transformer.h.10.attn.out_proj.int8_weights', 'transformer.h.10.attn.out_proj.scales', 'transformer.h.10.mlp.fc_in.bias', 'transformer.h.10.mlp.fc_in.int8_weights', 'transformer.h.10.mlp.fc_in.scales', 'transformer.h.10.mlp.fc_out.bias', 'transformer.h.10.mlp.fc_out.int8_weights', 'transformer.h.10.mlp.fc_out.scales', 'transformer.h.11.ln_1.weight', 'transformer.h.11.ln_1.bias', 'transformer.h.11.attn.qkv_proj.int8_weights', 'transformer.h.11.attn.qkv_proj.scales', 'transformer.h.11.attn.out_proj.int8_weights', 'transformer.h.11.attn.out_proj.scales', 'transformer.h.11.mlp.fc_in.bias', 'transformer.h.11.mlp.fc_in.int8_weights', 'transformer.h.11.mlp.fc_in.scales', 'transformer.h.11.mlp.fc_out.bias', 'transformer.h.11.mlp.fc_out.int8_weights', 'transformer.h.11.mlp.fc_out.scales', 'transformer.h.12.ln_1.weight', 'transformer.h.12.ln_1.bias', 'transformer.h.12.attn.qkv_proj.int8_weights', 'transformer.h.12.attn.qkv_proj.scales', 'transformer.h.12.attn.out_proj.int8_weights', 'transformer.h.12.attn.out_proj.scales', 'transformer.h.12.mlp.fc_in.bias', 'transformer.h.12.mlp.fc_in.int8_weights', 'transformer.h.12.mlp.fc_in.scales', 'transformer.h.12.mlp.fc_out.bias', 'transformer.h.12.mlp.fc_out.int8_weights', 'transformer.h.12.mlp.fc_out.scales', 'transformer.h.13.ln_1.weight', 'transformer.h.13.ln_1.bias', 'transformer.h.13.attn.qkv_proj.int8_weights', 'transformer.h.13.attn.qkv_proj.scales', 'transformer.h.13.attn.out_proj.int8_weights', 'transformer.h.13.attn.out_proj.scales', 'transformer.h.13.mlp.fc_in.bias', 'transformer.h.13.mlp.fc_in.int8_weights', 'transformer.h.13.mlp.fc_in.scales', 'transformer.h.13.mlp.fc_out.bias', 'transformer.h.13.mlp.fc_out.int8_weights', 'transformer.h.13.mlp.fc_out.scales', 'transformer.h.14.ln_1.weight', 'transformer.h.14.ln_1.bias', 'transformer.h.14.attn.qkv_proj.int8_weights', 'transformer.h.14.attn.qkv_proj.scales', 'transformer.h.14.attn.out_proj.int8_weights', 'transformer.h.14.attn.out_proj.scales', 'transformer.h.14.mlp.fc_in.bias', 'transformer.h.14.mlp.fc_in.int8_weights', 'transformer.h.14.mlp.fc_in.scales', 'transformer.h.14.mlp.fc_out.bias', 'transformer.h.14.mlp.fc_out.int8_weights', 'transformer.h.14.mlp.fc_out.scales', 'transformer.h.15.ln_1.weight', 'transformer.h.15.ln_1.bias', 'transformer.h.15.attn.qkv_proj.int8_weights', 'transformer.h.15.attn.qkv_proj.scales', 'transformer.h.15.attn.out_proj.int8_weights', 'transformer.h.15.attn.out_proj.scales', 'transformer.h.15.mlp.fc_in.bias', 'transformer.h.15.mlp.fc_in.int8_weights', 'transformer.h.15.mlp.fc_in.scales', 'transformer.h.15.mlp.fc_out.bias', 'transformer.h.15.mlp.fc_out.int8_weights', 'transformer.h.15.mlp.fc_out.scales', 'transformer.h.16.ln_1.weight', 'transformer.h.16.ln_1.bias', 'transformer.h.16.attn.qkv_proj.int8_weights', 'transformer.h.16.attn.qkv_proj.scales', 'transformer.h.16.attn.out_proj.int8_weights', 'transformer.h.16.attn.out_proj.scales', 'transformer.h.16.mlp.fc_in.bias', 'transformer.h.16.mlp.fc_in.int8_weights', 'transformer.h.16.mlp.fc_in.scales', 'transformer.h.16.mlp.fc_out.bias', 'transformer.h.16.mlp.fc_out.int8_weights', 'transformer.h.16.mlp.fc_out.scales', 'transformer.h.17.ln_1.weight', 'transformer.h.17.ln_1.bias', 'transformer.h.17.attn.qkv_proj.int8_weights', 'transformer.h.17.attn.qkv_proj.scales', 'transformer.h.17.attn.out_proj.int8_weights', 'transformer.h.17.attn.out_proj.scales', 'transformer.h.17.mlp.fc_in.bias', 'transformer.h.17.mlp.fc_in.int8_weights', 'transformer.h.17.mlp.fc_in.scales', 'transformer.h.17.mlp.fc_out.bias', 'transformer.h.17.mlp.fc_out.int8_weights', 'transformer.h.17.mlp.fc_out.scales', 'transformer.h.18.ln_1.weight', 'transformer.h.18.ln_1.bias', 'transformer.h.18.attn.qkv_proj.int8_weights', 'transformer.h.18.attn.qkv_proj.scales', 'transformer.h.18.attn.out_proj.int8_weights', 'transformer.h.18.attn.out_proj.scales', 'transformer.h.18.mlp.fc_in.bias', 'transformer.h.18.mlp.fc_in.int8_weights', 'transformer.h.18.mlp.fc_in.scales', 'transformer.h.18.mlp.fc_out.bias', 'transformer.h.18.mlp.fc_out.int8_weights', 'transformer.h.18.mlp.fc_out.scales', 'transformer.h.19.ln_1.weight', 'transformer.h.19.ln_1.bias', 'transformer.h.19.attn.qkv_proj.int8_weights', 'transformer.h.19.attn.qkv_proj.scales', 'transformer.h.19.attn.out_proj.int8_weights', 'transformer.h.19.attn.out_proj.scales', 'transformer.h.19.mlp.fc_in.bias', 'transformer.h.19.mlp.fc_in.int8_weights', 'transformer.h.19.mlp.fc_in.scales', 'transformer.h.19.mlp.fc_out.bias', 'transformer.h.19.mlp.fc_out.int8_weights', 'transformer.h.19.mlp.fc_out.scales', 'transformer.ln_f.weight', 'transformer.ln_f.bias', 'lm_head.weight', 'lm_head.bias'])"
            ]
          },
          "metadata": {},
          "execution_count": 118
        }
      ]
    },
    {
      "cell_type": "code",
      "source": [
        "torch.save(quantized_model_state_dict, \"quantized_model_state_dict.pt\")"
      ],
      "metadata": {
        "id": "M6zWQVUFJgTl"
      },
      "execution_count": null,
      "outputs": []
    },
    {
      "cell_type": "code",
      "source": [],
      "metadata": {
        "id": "gUozBH2RLvIA"
      },
      "execution_count": null,
      "outputs": []
    },
    {
      "cell_type": "code",
      "source": [],
      "metadata": {
        "id": "FOroJoGm95xu"
      },
      "execution_count": null,
      "outputs": []
    },
    {
      "cell_type": "markdown",
      "source": [
        "## Weight packing"
      ],
      "metadata": {
        "id": "kvB9Hmsc96rN"
      }
    },
    {
      "cell_type": "code",
      "source": [
        "import torch"
      ],
      "metadata": {
        "id": "KsHbZB4h99Io"
      },
      "execution_count": 2,
      "outputs": []
    },
    {
      "cell_type": "code",
      "source": [
        "packed_tensor = torch.randint(0,4,(12,), dtype=torch.uint8)\n",
        "packed_tensor"
      ],
      "metadata": {
        "colab": {
          "base_uri": "https://localhost:8080/"
        },
        "id": "i6FZL3kb9-uF",
        "outputId": "bd2a91a8-c46c-4069-f3ff-657772606a9a"
      },
      "execution_count": 3,
      "outputs": [
        {
          "output_type": "execute_result",
          "data": {
            "text/plain": [
              "tensor([3, 2, 3, 0, 1, 0, 1, 2, 1, 1, 2, 3], dtype=torch.uint8)"
            ]
          },
          "metadata": {},
          "execution_count": 3
        }
      ]
    },
    {
      "cell_type": "code",
      "source": [
        "def weight_pack(int8weight_tensor , bits):\n",
        "  assert (int8weight_tensor.shape[0] * bits) % 8 == 0\n",
        "\n",
        "  no_of_packing = int8weight_tensor.shape[0] * bits // 8\n",
        "  shifts = 8 // bits\n",
        "  index = 0\n",
        "  weight_packed_tensor = torch.zeros((no_of_packing), dtype=torch.uint8)\n",
        "\n",
        "  for i in range(no_of_packing):\n",
        "    for j in range(shifts):\n",
        "      weight_packed_tensor[i] |= int8weight_tensor[index] << (bits * j)\n",
        "      print(f\"weight_packed_tensor[{i}] : {weight_packed_tensor[i] }   int8weight_tensor[{index}] : {int8weight_tensor[index]} index : {index} (bits * j) : ({bits * j})\")\n",
        "      index += 1\n",
        "\n",
        "  return weight_packed_tensor"
      ],
      "metadata": {
        "id": "yoPSjYba_fP5"
      },
      "execution_count": 33,
      "outputs": []
    },
    {
      "cell_type": "code",
      "source": [
        "weight_pack(packed_tensor, 2)"
      ],
      "metadata": {
        "colab": {
          "base_uri": "https://localhost:8080/"
        },
        "id": "rHv8RLfFMjPF",
        "outputId": "3e46789c-8f48-4751-98b2-393ffbd971dc"
      },
      "execution_count": 34,
      "outputs": [
        {
          "output_type": "stream",
          "name": "stdout",
          "text": [
            "weight_packed_tensor[0] : 3   int8weight_tensor[0] : 3 index : 0 (bits * j) : (0)\n",
            "weight_packed_tensor[0] : 11   int8weight_tensor[1] : 2 index : 1 (bits * j) : (2)\n",
            "weight_packed_tensor[0] : 59   int8weight_tensor[2] : 3 index : 2 (bits * j) : (4)\n",
            "weight_packed_tensor[0] : 59   int8weight_tensor[3] : 0 index : 3 (bits * j) : (6)\n",
            "weight_packed_tensor[1] : 1   int8weight_tensor[4] : 1 index : 4 (bits * j) : (0)\n",
            "weight_packed_tensor[1] : 1   int8weight_tensor[5] : 0 index : 5 (bits * j) : (2)\n",
            "weight_packed_tensor[1] : 17   int8weight_tensor[6] : 1 index : 6 (bits * j) : (4)\n",
            "weight_packed_tensor[1] : 145   int8weight_tensor[7] : 2 index : 7 (bits * j) : (6)\n",
            "weight_packed_tensor[2] : 1   int8weight_tensor[8] : 1 index : 8 (bits * j) : (0)\n",
            "weight_packed_tensor[2] : 5   int8weight_tensor[9] : 1 index : 9 (bits * j) : (2)\n",
            "weight_packed_tensor[2] : 37   int8weight_tensor[10] : 2 index : 10 (bits * j) : (4)\n",
            "weight_packed_tensor[2] : 229   int8weight_tensor[11] : 3 index : 11 (bits * j) : (6)\n"
          ]
        },
        {
          "output_type": "execute_result",
          "data": {
            "text/plain": [
              "tensor([ 59, 145, 229], dtype=torch.uint8)"
            ]
          },
          "metadata": {},
          "execution_count": 34
        }
      ]
    },
    {
      "cell_type": "code",
      "source": [
        "unpacked_tensor = torch.tensor([1, 0, 3, 2], dtype=torch.uint8)"
      ],
      "metadata": {
        "id": "VZkot0r_MtyT"
      },
      "execution_count": 35,
      "outputs": []
    },
    {
      "cell_type": "code",
      "source": [
        "weight_pack(unpacked_tensor, 2)"
      ],
      "metadata": {
        "colab": {
          "base_uri": "https://localhost:8080/"
        },
        "id": "CFePudKMN9vL",
        "outputId": "6dd6655b-8d02-45b7-8342-0b86678373cf"
      },
      "execution_count": 36,
      "outputs": [
        {
          "output_type": "stream",
          "name": "stdout",
          "text": [
            "weight_packed_tensor[0] : 1   int8weight_tensor[0] : 1 index : 0 (bits * j) : (0)\n",
            "weight_packed_tensor[0] : 1   int8weight_tensor[1] : 0 index : 1 (bits * j) : (2)\n",
            "weight_packed_tensor[0] : 49   int8weight_tensor[2] : 3 index : 2 (bits * j) : (4)\n",
            "weight_packed_tensor[0] : 177   int8weight_tensor[3] : 2 index : 3 (bits * j) : (6)\n"
          ]
        },
        {
          "output_type": "execute_result",
          "data": {
            "text/plain": [
              "tensor([177], dtype=torch.uint8)"
            ]
          },
          "metadata": {},
          "execution_count": 36
        }
      ]
    },
    {
      "cell_type": "code",
      "source": [
        "a = torch.zeros((2) , dtype = torch.uint8)\n",
        "a"
      ],
      "metadata": {
        "colab": {
          "base_uri": "https://localhost:8080/"
        },
        "id": "k3Y-aNzSOCVa",
        "outputId": "2e719afc-d51e-42b6-f3f4-45244bb62db4"
      },
      "execution_count": 27,
      "outputs": [
        {
          "output_type": "execute_result",
          "data": {
            "text/plain": [
              "tensor([0, 0], dtype=torch.uint8)"
            ]
          },
          "metadata": {},
          "execution_count": 27
        }
      ]
    },
    {
      "cell_type": "code",
      "source": [
        "b = torch.tensor([1, 2], dtype=torch.uint8)"
      ],
      "metadata": {
        "id": "XYv22Xf8qwQY"
      },
      "execution_count": 20,
      "outputs": []
    },
    {
      "cell_type": "code",
      "source": [
        "a |= b\n",
        "a"
      ],
      "metadata": {
        "colab": {
          "base_uri": "https://localhost:8080/"
        },
        "id": "DaIVeCeUrCrM",
        "outputId": "762a1c57-0eb6-49db-d2d6-bb91bf24cb0b"
      },
      "execution_count": 29,
      "outputs": [
        {
          "output_type": "execute_result",
          "data": {
            "text/plain": [
              "tensor([1, 2], dtype=torch.uint8)"
            ]
          },
          "metadata": {},
          "execution_count": 29
        }
      ]
    },
    {
      "cell_type": "code",
      "source": [
        "a"
      ],
      "metadata": {
        "colab": {
          "base_uri": "https://localhost:8080/"
        },
        "id": "PnSlJmx5rMKS",
        "outputId": "2b1724ff-ecd4-43c5-c610-4711004a6238"
      },
      "execution_count": 30,
      "outputs": [
        {
          "output_type": "execute_result",
          "data": {
            "text/plain": [
              "tensor([1, 2], dtype=torch.uint8)"
            ]
          },
          "metadata": {},
          "execution_count": 30
        }
      ]
    },
    {
      "cell_type": "code",
      "source": [],
      "metadata": {
        "id": "tp7oBfvcrY11"
      },
      "execution_count": null,
      "outputs": []
    },
    {
      "cell_type": "markdown",
      "source": [
        "## Weight unpacking"
      ],
      "metadata": {
        "id": "IY0rox86s7T4"
      }
    },
    {
      "cell_type": "code",
      "source": [
        "import torch"
      ],
      "metadata": {
        "id": "rV1JPmHRs8R2"
      },
      "execution_count": 37,
      "outputs": []
    },
    {
      "cell_type": "code",
      "source": [
        "def weight_unpack(int8weight_tensor , bits):\n",
        "  unpacked_values = int8weight_tensor.shape[0] * 8 // bits\n",
        "\n",
        "  shifts = 8 // bits\n",
        "  index = 0\n",
        "  weight_unpacked_tensor = torch.zeros((unpacked_values), dtype=torch.uint8)\n",
        "\n",
        "  mask = 2**bits-1\n",
        "\n",
        "  for i in range(int8weight_tensor.shape[0]):\n",
        "    for j in range(shifts):\n",
        "      weight_unpacked_tensor[index] |= int8weight_tensor[i] >> (bits * j)\n",
        "      print(f\"weight_unpacked_tensor[{index}] : {weight_unpacked_tensor[index]}   int8weight_tensor[{i}] : {int8weight_tensor[i]} index : {index} (bits * j) : ({bits * j})\")\n",
        "      index += 1\n",
        "\n",
        "  weight_unpacked_tensor &= mask\n",
        "\n",
        "  return weight_unpacked_tensor\n",
        "\n"
      ],
      "metadata": {
        "id": "rC5oN_qhtJ74"
      },
      "execution_count": 41,
      "outputs": []
    },
    {
      "cell_type": "code",
      "source": [
        "weight_unpack(torch.tensor([ 59, 145, 229], dtype=torch.uint8), 2)"
      ],
      "metadata": {
        "colab": {
          "base_uri": "https://localhost:8080/"
        },
        "id": "PVgkMpXdwAvU",
        "outputId": "33f69351-8a11-40ce-9d84-516216b1af77"
      },
      "execution_count": 42,
      "outputs": [
        {
          "output_type": "stream",
          "name": "stdout",
          "text": [
            "weight_unpacked_tensor[0] : 59   int8weight_tensor[0] : 59 index : 0 (bits * j) : (0)\n",
            "weight_unpacked_tensor[1] : 14   int8weight_tensor[0] : 59 index : 1 (bits * j) : (2)\n",
            "weight_unpacked_tensor[2] : 3   int8weight_tensor[0] : 59 index : 2 (bits * j) : (4)\n",
            "weight_unpacked_tensor[3] : 0   int8weight_tensor[0] : 59 index : 3 (bits * j) : (6)\n",
            "weight_unpacked_tensor[4] : 145   int8weight_tensor[1] : 145 index : 4 (bits * j) : (0)\n",
            "weight_unpacked_tensor[5] : 36   int8weight_tensor[1] : 145 index : 5 (bits * j) : (2)\n",
            "weight_unpacked_tensor[6] : 9   int8weight_tensor[1] : 145 index : 6 (bits * j) : (4)\n",
            "weight_unpacked_tensor[7] : 2   int8weight_tensor[1] : 145 index : 7 (bits * j) : (6)\n",
            "weight_unpacked_tensor[8] : 229   int8weight_tensor[2] : 229 index : 8 (bits * j) : (0)\n",
            "weight_unpacked_tensor[9] : 57   int8weight_tensor[2] : 229 index : 9 (bits * j) : (2)\n",
            "weight_unpacked_tensor[10] : 14   int8weight_tensor[2] : 229 index : 10 (bits * j) : (4)\n",
            "weight_unpacked_tensor[11] : 3   int8weight_tensor[2] : 229 index : 11 (bits * j) : (6)\n"
          ]
        },
        {
          "output_type": "execute_result",
          "data": {
            "text/plain": [
              "tensor([3, 2, 3, 0, 1, 0, 1, 2, 1, 1, 2, 3], dtype=torch.uint8)"
            ]
          },
          "metadata": {},
          "execution_count": 42
        }
      ]
    },
    {
      "cell_type": "code",
      "source": [
        "weight_unpack(torch.tensor([ 177], dtype=torch.uint8), 2)"
      ],
      "metadata": {
        "colab": {
          "base_uri": "https://localhost:8080/"
        },
        "id": "HAlK1z3wwJCw",
        "outputId": "7819e742-371e-4b9e-edc8-fb9f88b9fb9a"
      },
      "execution_count": 43,
      "outputs": [
        {
          "output_type": "stream",
          "name": "stdout",
          "text": [
            "weight_unpacked_tensor[0] : 177   int8weight_tensor[0] : 177 index : 0 (bits * j) : (0)\n",
            "weight_unpacked_tensor[1] : 44   int8weight_tensor[0] : 177 index : 1 (bits * j) : (2)\n",
            "weight_unpacked_tensor[2] : 11   int8weight_tensor[0] : 177 index : 2 (bits * j) : (4)\n",
            "weight_unpacked_tensor[3] : 2   int8weight_tensor[0] : 177 index : 3 (bits * j) : (6)\n"
          ]
        },
        {
          "output_type": "execute_result",
          "data": {
            "text/plain": [
              "tensor([1, 0, 3, 2], dtype=torch.uint8)"
            ]
          },
          "metadata": {},
          "execution_count": 43
        }
      ]
    },
    {
      "cell_type": "code",
      "source": [
        "import torch\n",
        "class WeightPack:\n",
        "  def __init__(self):\n",
        "    pass\n",
        "\n",
        "  def weight_pack(self, int8weight_tensor , bits):\n",
        "    assert (int8weight_tensor.shape[0] * bits) % 8 == 0\n",
        "\n",
        "    no_of_packing = int8weight_tensor.shape[0] * bits // 8\n",
        "    shifts = 8 // bits\n",
        "    index = 0\n",
        "    weight_packed_tensor = torch.zeros((no_of_packing), dtype=torch.uint8)\n",
        "\n",
        "    for i in range(no_of_packing):\n",
        "      for j in range(shifts):\n",
        "        weight_packed_tensor[i] |= int8weight_tensor[index] << (bits * j)\n",
        "        print(f\"weight_packed_tensor[{i}] : {weight_packed_tensor[i] }   int8weight_tensor[{index}] : {int8weight_tensor[index]} index : {index} (bits * j) : ({bits * j})\")\n",
        "        index += 1\n",
        "\n",
        "    return weight_packed_tensor\n",
        "\n",
        "  def weight_unpack(self, int8weight_tensor , bits):\n",
        "    unpacked_values = int8weight_tensor.shape[0] * 8 // bits\n",
        "\n",
        "    shifts = 8 // bits\n",
        "    index = 0\n",
        "    weight_unpacked_tensor = torch.zeros((unpacked_values), dtype=torch.uint8)\n",
        "\n",
        "    mask = 2**bits-1\n",
        "\n",
        "    for i in range(int8weight_tensor.shape[0]):\n",
        "      for j in range(shifts):\n",
        "        weight_unpacked_tensor[index] |= int8weight_tensor[i] >> (bits * j)\n",
        "        print(f\"weight_unpacked_tensor[{index}] : {weight_unpacked_tensor[index]}   int8weight_tensor[{i}] : {int8weight_tensor[i]} index : {index} (bits * j) : ({bits * j})\")\n",
        "        index += 1\n",
        "    print(f\"Before masking : {weight_unpacked_tensor}\")\n",
        "\n",
        "    weight_unpacked_tensor &= mask\n",
        "\n",
        "    print(f\"After masking : {weight_unpacked_tensor}\")\n",
        "\n",
        "    return weight_unpacked_tensor\n",
        "\n"
      ],
      "metadata": {
        "id": "1bps64MowPac"
      },
      "execution_count": 9,
      "outputs": []
    },
    {
      "cell_type": "code",
      "source": [
        "unpacked_tensor = torch.tensor([3, 2, 3, 0, 1, 0, 1, 2, 1, 1, 2, 3], dtype=torch.uint8)"
      ],
      "metadata": {
        "id": "6b-hD3Ai3tL7"
      },
      "execution_count": 10,
      "outputs": []
    },
    {
      "cell_type": "code",
      "source": [
        "instance = WeightPack()\n",
        "instance.weight_pack(unpacked_tensor, 2)"
      ],
      "metadata": {
        "colab": {
          "base_uri": "https://localhost:8080/"
        },
        "id": "dwl1EawG3Xr_",
        "outputId": "1c1ba8d8-7f5a-4883-cbcb-ed2d1bca98e0"
      },
      "execution_count": 11,
      "outputs": [
        {
          "output_type": "stream",
          "name": "stdout",
          "text": [
            "weight_packed_tensor[0] : 3   int8weight_tensor[0] : 3 index : 0 (bits * j) : (0)\n",
            "weight_packed_tensor[0] : 11   int8weight_tensor[1] : 2 index : 1 (bits * j) : (2)\n",
            "weight_packed_tensor[0] : 59   int8weight_tensor[2] : 3 index : 2 (bits * j) : (4)\n",
            "weight_packed_tensor[0] : 59   int8weight_tensor[3] : 0 index : 3 (bits * j) : (6)\n",
            "weight_packed_tensor[1] : 1   int8weight_tensor[4] : 1 index : 4 (bits * j) : (0)\n",
            "weight_packed_tensor[1] : 1   int8weight_tensor[5] : 0 index : 5 (bits * j) : (2)\n",
            "weight_packed_tensor[1] : 17   int8weight_tensor[6] : 1 index : 6 (bits * j) : (4)\n",
            "weight_packed_tensor[1] : 145   int8weight_tensor[7] : 2 index : 7 (bits * j) : (6)\n",
            "weight_packed_tensor[2] : 1   int8weight_tensor[8] : 1 index : 8 (bits * j) : (0)\n",
            "weight_packed_tensor[2] : 5   int8weight_tensor[9] : 1 index : 9 (bits * j) : (2)\n",
            "weight_packed_tensor[2] : 37   int8weight_tensor[10] : 2 index : 10 (bits * j) : (4)\n",
            "weight_packed_tensor[2] : 229   int8weight_tensor[11] : 3 index : 11 (bits * j) : (6)\n"
          ]
        },
        {
          "output_type": "execute_result",
          "data": {
            "text/plain": [
              "tensor([ 59, 145, 229], dtype=torch.uint8)"
            ]
          },
          "metadata": {},
          "execution_count": 11
        }
      ]
    },
    {
      "cell_type": "code",
      "source": [
        "packed_tensor = torch.tensor([ 59, 145, 229], dtype=torch.uint8)"
      ],
      "metadata": {
        "id": "AhcsSKnY4B0n"
      },
      "execution_count": 12,
      "outputs": []
    },
    {
      "cell_type": "code",
      "source": [
        "instance.weight_unpack(packed_tensor, 2)"
      ],
      "metadata": {
        "colab": {
          "base_uri": "https://localhost:8080/"
        },
        "id": "2NUydabF3vcF",
        "outputId": "0139d767-7c20-4fd0-bb0a-1b86422cb5e2"
      },
      "execution_count": 13,
      "outputs": [
        {
          "output_type": "stream",
          "name": "stdout",
          "text": [
            "weight_unpacked_tensor[0] : 59   int8weight_tensor[0] : 59 index : 0 (bits * j) : (0)\n",
            "weight_unpacked_tensor[1] : 14   int8weight_tensor[0] : 59 index : 1 (bits * j) : (2)\n",
            "weight_unpacked_tensor[2] : 3   int8weight_tensor[0] : 59 index : 2 (bits * j) : (4)\n",
            "weight_unpacked_tensor[3] : 0   int8weight_tensor[0] : 59 index : 3 (bits * j) : (6)\n",
            "weight_unpacked_tensor[4] : 145   int8weight_tensor[1] : 145 index : 4 (bits * j) : (0)\n",
            "weight_unpacked_tensor[5] : 36   int8weight_tensor[1] : 145 index : 5 (bits * j) : (2)\n",
            "weight_unpacked_tensor[6] : 9   int8weight_tensor[1] : 145 index : 6 (bits * j) : (4)\n",
            "weight_unpacked_tensor[7] : 2   int8weight_tensor[1] : 145 index : 7 (bits * j) : (6)\n",
            "weight_unpacked_tensor[8] : 229   int8weight_tensor[2] : 229 index : 8 (bits * j) : (0)\n",
            "weight_unpacked_tensor[9] : 57   int8weight_tensor[2] : 229 index : 9 (bits * j) : (2)\n",
            "weight_unpacked_tensor[10] : 14   int8weight_tensor[2] : 229 index : 10 (bits * j) : (4)\n",
            "weight_unpacked_tensor[11] : 3   int8weight_tensor[2] : 229 index : 11 (bits * j) : (6)\n",
            "Before masking : tensor([ 59,  14,   3,   0, 145,  36,   9,   2, 229,  57,  14,   3],\n",
            "       dtype=torch.uint8)\n",
            "After masking : tensor([3, 2, 3, 0, 1, 0, 1, 2, 1, 1, 2, 3], dtype=torch.uint8)\n"
          ]
        },
        {
          "output_type": "execute_result",
          "data": {
            "text/plain": [
              "tensor([3, 2, 3, 0, 1, 0, 1, 2, 1, 1, 2, 3], dtype=torch.uint8)"
            ]
          },
          "metadata": {},
          "execution_count": 13
        }
      ]
    },
    {
      "cell_type": "code",
      "source": [],
      "metadata": {
        "id": "QdKiFs1238sR"
      },
      "execution_count": null,
      "outputs": []
    }
  ]
}